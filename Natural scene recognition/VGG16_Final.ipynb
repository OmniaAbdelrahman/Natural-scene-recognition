{
 "cells": [
  {
   "cell_type": "code",
   "execution_count": null,
   "metadata": {
    "id": "8o-mD4XRQGha"
   },
   "outputs": [],
   "source": [
    "!pip uninstall -y kaggle\n",
    "!pip install kaggle==1.5.6\n",
    "%env KAGGLE_USERNAME = bassamsabber\n",
    "%env KAGGLE_KEY = 717678f8ebfb53d84e9c47444c275871\n",
    "!kaggle competitions download -c computationalintelligencesc2020\n",
    "!unzip DataSet\n",
    "!unzip computationalintelligencesc2020"
   ]
  },
  {
   "cell_type": "code",
   "execution_count": null,
   "metadata": {
    "id": "XS-MUGr7Pibr"
   },
   "outputs": [],
   "source": [
    "import keras\n",
    "from keras.models import Sequential\n",
    "from keras.layers import Dense\n",
    "from keras.layers import Conv2D\n",
    "from keras.layers import MaxPool2D\n",
    "from keras.layers import Flatten\n",
    "from keras.layers import Dropout\n",
    "from keras.preprocessing.image import ImageDataGenerator\n",
    "from keras.models import load_model\n",
    "from keras.regularizers import l2\n",
    "import numpy as np\n",
    "import matplotlib.pyplot as plt \n",
    "from keras.utils.vis_utils import plot_model\n",
    "import pandas as pd\n",
    "import os\n",
    "from keras.layers.merge import concatenate\n",
    "from sklearn import preprocessing\n",
    "\n",
    "\n"
   ]
  },
  {
   "cell_type": "code",
   "execution_count": null,
   "metadata": {
    "id": "oZYBpVz2QfAK"
   },
   "outputs": [],
   "source": [
    "trdata = ImageDataGenerator()g\n",
    "traindata = trdata.flow_from_directory(directory=\"/content/Scenes training set/Scenes training set\",target_size=(150,150))\n",
    "tsdata = ImageDataGenerator()\n",
    "testdata = tsdata.flow_from_directory(directory=\"/content/Scenes testing test\", target_size=(150,150))"
   ]
  },
  {
   "cell_type": "code",
   "execution_count": null,
   "metadata": {
    "id": "gzEpHVCzQic7"
   },
   "outputs": [],
   "source": [
    "model = Sequential()\n",
    "model.add(Conv2D(input_shape=(150,150,3),filters=64,kernel_size=(3,3),padding=\"same\", activation=\"relu\"))\n",
    "model.add(Conv2D(filters=64,kernel_size=(3,3),padding=\"same\", activation=\"relu\"))\n",
    "model.add(MaxPool2D(pool_size=(2,2),strides=(2,2)))\n",
    "\n",
    "model.add(Conv2D(filters=128, kernel_size=(3,3), padding=\"same\", activation=\"relu\"))\n",
    "model.add(Conv2D(filters=128, kernel_size=(3,3), padding=\"same\", activation=\"relu\"))\n",
    "model.add(MaxPool2D(pool_size=(2,2),strides=(2,2)))\n",
    "\n",
    "model.add(Conv2D(filters=256, kernel_size=(3,3), padding=\"same\", activation=\"relu\"))\n",
    "model.add(Conv2D(filters=256, kernel_size=(3,3), padding=\"same\", activation=\"relu\"))\n",
    "model.add(Conv2D(filters=256, kernel_size=(3,3), padding=\"same\", activation=\"relu\"))\n",
    "model.add(MaxPool2D(pool_size=(2,2),strides=(2,2)))\n",
    "\n",
    "model.add(Conv2D(filters=512, kernel_size=(3,3), padding=\"same\", activation=\"relu\"))\n",
    "model.add(Conv2D(filters=512, kernel_size=(3,3), padding=\"same\", activation=\"relu\"))\n",
    "model.add(Conv2D(filters=512, kernel_size=(3,3), padding=\"same\", activation=\"relu\"))\n",
    "model.add(MaxPool2D(pool_size=(2,2),strides=(2,2)))\n",
    "model.add(Dropout(0.7))\n",
    "model.add(Conv2D(filters=512, kernel_size=(3,3), padding=\"same\", activation=\"relu\"))\n",
    "model.add(Conv2D(filters=512, kernel_size=(3,3), padding=\"same\", activation=\"relu\"))\n",
    "model.add(Conv2D(filters=512, kernel_size=(3,3), padding=\"same\", activation=\"relu\"))\n",
    "model.add(MaxPool2D(pool_size=(2,2),strides=(2,2)))\n",
    "model.add(Dropout(0.5))\n",
    "\n",
    "model.add(Flatten())\n",
    "model.add(Dense(units=4096,activation=\"relu\"))\n",
    "model.add(Dropout(0.7)) \n",
    "model.add(Dense(units=4096,activation=\"relu\"))\n",
    "model.add(Dropout(0.5)) \n",
    "model.add(Dense(units=6, activation=\"softmax\"))\n",
    "\n",
    "if os.path.exists('VGG16.h5'):\n",
    "  classLabels = dict({0:'buildings',1:'forest',2:'glacier',3:'mountain',4:'sea',5:'street'})\n",
    "  saved = load_model('VGG16.h5')\n",
    "  from keras.preprocessing import image\n",
    "  testFolder = r'/content/Scenes testing test/Scenes testing test'\n",
    "  images=[]\n",
    "  features=[]\n",
    "  for img in os.listdir(testFolder):\n",
    "    image_path = os.path.join(testFolder,img)\n",
    "    images.append(img)\n",
    "    img = image.load_img(image_path, target_size=(150,150))\n",
    "    x = image.img_to_array(img)\n",
    "    #x = np.expand_dims(x, axis = 0)\n",
    "    features.append(x)\n",
    "  features = np.array(features)\n",
    "  images = np.array(images)\n",
    "  output = saved.predict(features)\n",
    "  maxIndex = np.argmax(output,axis=1)\n",
    "  labels = []\n",
    "  for i in maxIndex:\n",
    "    labels.append(classLabels[i])\n",
    "  \n",
    "  submit = pd.read_csv('/content/submit.csv')\n",
    "  submit['Image'] = images\n",
    "  submit['Label'] = maxIndex\n",
    "  submit.to_csv(\"submit.csv\")\n",
    "  print(\"Done!\")\n",
    "\n",
    "else:\n",
    "  from keras.optimizers import Adam\n",
    "  opt = Adam(lr=0.00006)\n",
    "  model.compile(optimizer=opt, loss=\"binary_crossentropy\", metrics=['acc'])\n",
    "  model.summary()\n",
    "  plot_model(model, to_file='vgg.png')\n",
    "  from keras.callbacks import ModelCheckpoint, EarlyStopping\n",
    "  checkpoint = ModelCheckpoint(\"\\content\\vgg16_1.hdf5\", monitor='val_accuracy', verbose=1, save_best_only=True, save_weights_only=False, mode='auto', period=1)\n",
    "  early = EarlyStopping(monitor='val_accuracy', min_delta=0, patience=3, verbose=1, mode='auto')\n",
    "  hist = model.fit_generator(steps_per_epoch=110,generator=traindata, validation_data= testdata, validation_steps=48,epochs=100,callbacks=[checkpoint,early])\n",
    "  model.save(\"VGG16.h5\")\n"
   ]
  }
 ],
 "metadata": {
  "accelerator": "GPU",
  "colab": {
   "collapsed_sections": [],
   "name": "VGG_Bassam.ipynb",
   "private_outputs": true,
   "provenance": []
  },
  "kernelspec": {
   "display_name": "Python 3",
   "language": "python",
   "name": "python3"
  },
  "language_info": {
   "codemirror_mode": {
    "name": "ipython",
    "version": 3
   },
   "file_extension": ".py",
   "mimetype": "text/x-python",
   "name": "python",
   "nbconvert_exporter": "python",
   "pygments_lexer": "ipython3",
   "version": "3.8.3"
  }
 },
 "nbformat": 4,
 "nbformat_minor": 1
}
