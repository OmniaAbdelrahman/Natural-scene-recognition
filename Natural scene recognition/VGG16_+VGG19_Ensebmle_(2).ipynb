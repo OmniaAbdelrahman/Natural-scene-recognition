{
  "nbformat": 4,
  "nbformat_minor": 0,
  "metadata": {
    "accelerator": "GPU",
    "colab": {
      "name": "VGG16_+VGG19_Ensebmle (1).ipynb",
      "provenance": [],
      "collapsed_sections": []
    },
    "kernelspec": {
      "display_name": "Python 3",
      "language": "python",
      "name": "python3"
    },
    "language_info": {
      "codemirror_mode": {
        "name": "ipython",
        "version": 3
      },
      "file_extension": ".py",
      "mimetype": "text/x-python",
      "name": "python",
      "nbconvert_exporter": "python",
      "pygments_lexer": "ipython3",
      "version": "3.8.3"
    }
  },
  "cells": [
    {
      "cell_type": "code",
      "metadata": {
        "id": "OefM9qbf2ya1"
      },
      "source": [
        "!pip uninstall -y kaggle\n",
        "!pip install kaggle==1.5.6\n",
        "%env KAGGLE_USERNAME = bassamsabber\n",
        "%env KAGGLE_KEY = 717678f8ebfb53d84e9c47444c275871\n",
        "!kaggle competitions download -c computationalintelligencesc2020\n",
        "!unzip DataSet\n",
        "!unzip computationalintelligencesc2020"
      ],
      "execution_count": null,
      "outputs": []
    },
    {
      "cell_type": "code",
      "metadata": {
        "colab": {
          "base_uri": "https://localhost:8080/"
        },
        "id": "u8fP8z2E4PFt",
        "outputId": "8da24ef5-1110-47cf-a956-a1041fa8f8a5"
      },
      "source": [
        "from google.colab import drive\n",
        "drive.mount('/content/drive')"
      ],
      "execution_count": null,
      "outputs": [
        {
          "output_type": "stream",
          "text": [
            "Mounted at /content/drive\n"
          ],
          "name": "stdout"
        }
      ]
    },
    {
      "cell_type": "code",
      "metadata": {
        "colab": {
          "base_uri": "https://localhost:8080/"
        },
        "id": "jcYnVl7j4J_W",
        "outputId": "e83a7c50-38ae-48e0-8bb2-c4c7a95d73ba"
      },
      "source": [
        "import numpy as np\n",
        "import cv2\n",
        "from tqdm import tqdm \n",
        "import os\n",
        "import pandas as pd\n",
        "from os.path import join\n",
        "from random import shuffle\n",
        "from keras import layers\n",
        "from keras.layers import Input, Add, Dense, Activation, ZeroPadding2D, BatchNormalization, Flatten, Conv2D, AveragePooling2D, MaxPooling2D, GlobalAveragePooling2D\n",
        "from keras.initializers import glorot_uniform\n",
        "from keras.utils import plot_model\n",
        "from IPython.display import SVG\n",
        "from keras.utils.vis_utils import model_to_dot\n",
        "import keras.backend as K\n",
        "import tensorflow as tf\n",
        "from keras.preprocessing.image import ImageDataGenerator\n",
        "from keras.models import Sequential\n",
        "from keras.callbacks import ModelCheckpoint, EarlyStopping, ReduceLROnPlateau\n",
        "from keras.layers import Dense, Dropout, Activation, Flatten\n",
        "from keras.layers import Conv2D, MaxPooling2D, ZeroPadding2D\n",
        "from keras.layers.normalization import BatchNormalization\n",
        "from keras import optimizers, layers\n",
        "from keras.models import Model, load_model\n",
        "from keras.callbacks import ModelCheckpoint, EarlyStopping\n",
        "from keras.layers import Input, Conv2D, SeparableConv2D, Add, Dense, BatchNormalization, ReLU, MaxPool2D, GlobalAvgPool2D, Concatenate, Average,Maximum\n",
        "from keras.utils.data_utils import get_file\n",
        "print(\"Done\")"
      ],
      "execution_count": null,
      "outputs": [
        {
          "output_type": "stream",
          "text": [
            "Done\n"
          ],
          "name": "stdout"
        }
      ]
    },
    {
      "cell_type": "code",
      "metadata": {
        "id": "cNt7-XX345az"
      },
      "source": [
        "#seed\n",
        "import numpy as np\n",
        "import tensorflow as tf\n",
        "import random as rn\n",
        "\n",
        "import os\n",
        "os.environ['PYTHONHASHSEED'] = '0'\n",
        "\n",
        "np.random.seed(42)\n",
        "\n",
        "rn.seed(12345)\n",
        "\n",
        "session_conf = tf.compat.v1.ConfigProto(intra_op_parallelism_threads=1, inter_op_parallelism_threads=1)\n",
        "\n",
        "from keras import backend as K\n",
        "\n",
        "\n",
        "tf.compat.v1.set_random_seed(1234)\n",
        "\n",
        "sess = tf.compat.v1.Session(graph=tf.compat.v1.get_default_graph(), config=session_conf)\n",
        "tf.compat.v1.keras.backend.set_session(sess)"
      ],
      "execution_count": null,
      "outputs": []
    },
    {
      "cell_type": "code",
      "metadata": {
        "colab": {
          "base_uri": "https://localhost:8080/"
        },
        "id": "97bO930r53I5",
        "outputId": "ecad49d8-7838-4892-a4c6-dbfcd906b791"
      },
      "source": [
        "f_1 =\"/content/Scenes training set/Scenes training set/buildings\"\n",
        "f_2 = \"/content/Scenes training set/Scenes training set/forest\"\n",
        "f_3 = \"/content/Scenes training set/Scenes training set/glacier\"\n",
        "f_4 = \"/content/Scenes training set/Scenes training set/mountain\"\n",
        "f_5 = \"/content/Scenes training set/Scenes training set/sea\"\n",
        "f_6 = \"/content/Scenes training set/Scenes training set/street\"\n",
        "\n",
        "\n",
        "#Detection often requires fine-grained visual information \n",
        "    ####so we increase the input resolution of the network from 150x150 to 224x224\n",
        "IMG_SIZE = 224\n",
        "\n",
        "def create_train_data():\n",
        "    training_data = []\n",
        "    for img in tqdm(os.listdir(f_1)):\n",
        "        path = os.path.join(f_1, img) \n",
        "        img = cv2.imread(path) \n",
        "        img = cv2.resize(img, (IMG_SIZE, IMG_SIZE))\n",
        "        #out  = cv2.cvtColor(img, cv2.COLOR_GRAY2RGB)\n",
        "        training_data.append([np.array(img), np.array([1,0,0,0,0,0])]) \n",
        "        \n",
        "    for img in tqdm(os.listdir(f_2)):\n",
        "        path = os.path.join(f_2, img) \n",
        "        img = cv2.imread(path) \n",
        "        img = cv2.resize(img, (IMG_SIZE, IMG_SIZE))\n",
        "        #out  = cv2.cvtColor(img, cv2.COLOR_GRAY2RGB)\n",
        "        training_data.append([np.array(img), np.array([0,1,0,0,0,0])])\n",
        "    \n",
        "    for img in tqdm(os.listdir(f_3)):\n",
        "        path = os.path.join(f_3, img) \n",
        "        img = cv2.imread(path) \n",
        "        img = cv2.resize(img, (IMG_SIZE, IMG_SIZE))\n",
        "        #out  = cv2.cvtColor(img, cv2.COLOR_GRAY2RGB)\n",
        "        training_data.append([np.array(img), np.array([0,0,1,0,0,0])])\n",
        "\n",
        "    for img in tqdm(os.listdir(f_4)):\n",
        "        path = os.path.join(f_4, img) \n",
        "        img = cv2.imread(path) \n",
        "        img = cv2.resize(img, (IMG_SIZE, IMG_SIZE))\n",
        "        #out  = cv2.cvtColor(img, cv2.COLOR_GRAY2RGB)\n",
        "        training_data.append([np.array(img), np.array([0,0,0,1,0,0])])\n",
        "\n",
        "    for img in tqdm(os.listdir(f_5)):\n",
        "        path = os.path.join(f_5, img) \n",
        "        img = cv2.imread(path) \n",
        "        img = cv2.resize(img, (IMG_SIZE, IMG_SIZE))\n",
        "        #out  = cv2.cvtColor(img, cv2.COLOR_GRAY2RGB)\n",
        "        training_data.append([np.array(img), np.array([0,0,0,0,1,0])])\n",
        "    for img in tqdm(os.listdir(f_6)):\n",
        "        path = os.path.join(f_6, img) \n",
        "        img = cv2.imread(path) \n",
        "        img = cv2.resize(img, (IMG_SIZE, IMG_SIZE))\n",
        "        #out  = cv2.cvtColor(img, cv2.COLOR_GRAY2RGB)\n",
        "        training_data.append([np.array(img), np.array([0,0,0,0,0,1])])\n",
        "\n",
        "    shuffle(training_data)\n",
        "    #train_data=np.load('/content/drive/My Drive/data/train_data.npy', allow_pickle=True) \n",
        "    np.save('train.npy', training_data)\n",
        "    return training_data \n",
        "\n",
        "\n",
        "####train_dataa = create_train_data() \n",
        "training_data = create_train_data() "
      ],
      "execution_count": null,
      "outputs": [
        {
          "output_type": "stream",
          "text": [
            "100%|██████████| 2191/2191 [00:01<00:00, 1315.63it/s]\n",
            "100%|██████████| 2271/2271 [00:01<00:00, 1243.85it/s]\n",
            "100%|██████████| 2404/2404 [00:01<00:00, 1352.21it/s]\n",
            "100%|██████████| 2512/2512 [00:01<00:00, 1353.27it/s]\n",
            "100%|██████████| 2274/2274 [00:01<00:00, 1371.13it/s]\n",
            "100%|██████████| 2382/2382 [00:01<00:00, 1321.95it/s]\n",
            "/usr/local/lib/python3.7/dist-packages/numpy/core/_asarray.py:136: VisibleDeprecationWarning: Creating an ndarray from ragged nested sequences (which is a list-or-tuple of lists-or-tuples-or ndarrays with different lengths or shapes) is deprecated. If you meant to do this, you must specify 'dtype=object' when creating the ndarray\n",
            "  return array(a, dtype, copy=False, order=order, subok=True)\n"
          ],
          "name": "stderr"
        }
      ]
    },
    {
      "cell_type": "code",
      "metadata": {
        "colab": {
          "base_uri": "https://localhost:8080/"
        },
        "id": "Iudt22t_53QJ",
        "outputId": "acf00d88-8d02-4356-e8a7-fc7cfc965abc"
      },
      "source": [
        "TEST_DIR = \"/content/Scenes testing test/Scenes testing test\"\n",
        "def Create_test_data():\n",
        "    testing_data = [] \n",
        "    for img in tqdm(os.listdir(TEST_DIR)):\n",
        "        name=img\n",
        "        path = os.path.join(TEST_DIR, img) \n",
        "        img = cv2.imread(path)\n",
        "        img = cv2.resize(img, (IMG_SIZE, IMG_SIZE))\n",
        "        testing_data.append([np.array(img),name])\n",
        "    np.save('test.npy', testing_data) \n",
        "    return testing_data\n",
        "\n",
        "test_data = Create_test_data()"
      ],
      "execution_count": null,
      "outputs": [
        {
          "output_type": "stream",
          "text": [
            "100%|██████████| 3050/3050 [00:02<00:00, 1372.79it/s]\n",
            "/usr/local/lib/python3.7/dist-packages/numpy/core/_asarray.py:136: VisibleDeprecationWarning: Creating an ndarray from ragged nested sequences (which is a list-or-tuple of lists-or-tuples-or ndarrays with different lengths or shapes) is deprecated. If you meant to do this, you must specify 'dtype=object' when creating the ndarray\n",
            "  return array(a, dtype, copy=False, order=order, subok=True)\n"
          ],
          "name": "stderr"
        }
      ]
    },
    {
      "cell_type": "code",
      "metadata": {
        "id": "dytg3y5U53Se"
      },
      "source": [
        " train_data=np.load(\"/content/drive/MyDrive/natural scense/train.npy\", allow_pickle=True) \n",
        " test_data=np.load(\"/content/drive/MyDrive/natural scense/test.npy\", allow_pickle=True) "
      ],
      "execution_count": null,
      "outputs": []
    },
    {
      "cell_type": "code",
      "metadata": {
        "id": "gm3licqn53U5",
        "colab": {
          "base_uri": "https://localhost:8080/"
        },
        "outputId": "a85c53fb-e698-4dda-d06a-a31f31bae34b"
      },
      "source": [
        "#Load weights of VGG19 NO TOP ON IMAGENET\n",
        "##To make transfer learning\n",
        "##\n",
        "####\n",
        "WEIGHTS_PATH_NO_TOP = 'https://github.com/fchollet/deep-learning-models/releases/download/v0.1/vgg16_weights_tf_dim_ordering_tf_kernels_notop.h5'\n",
        "weights_path = get_file('vgg16_weights_tf_dim_ordering_tf_kernels_notop.h5',WEIGHTS_PATH_NO_TOP)"
      ],
      "execution_count": null,
      "outputs": [
        {
          "output_type": "stream",
          "text": [
            "Downloading data from https://github.com/fchollet/deep-learning-models/releases/download/v0.1/vgg16_weights_tf_dim_ordering_tf_kernels_notop.h5\n",
            "58892288/58889256 [==============================] - 1s 0us/step\n"
          ],
          "name": "stdout"
        }
      ]
    },
    {
      "cell_type": "code",
      "metadata": {
        "id": "57k2_bn1Yxps"
      },
      "source": [
        "#padding: one of \"valid\" or \"same\" (case-insensitive). \"valid\" means no padding. \n",
        "###\"same\" results in padding evenly to the left/right or up/down of the input such that output has the same height/width dimension as the input.\n"
      ],
      "execution_count": null,
      "outputs": []
    },
    {
      "cell_type": "code",
      "metadata": {
        "id": "mWZuV_h553Z8"
      },
      "source": [
        "def VGG16(include_top=False,weights='imagenet',\n",
        "          classes=6):\n",
        "  \n",
        "  input = Input(shape=(224, 224, 3))\n",
        "\n",
        "  x = Conv2D(filters=64, kernel_size=3, padding='same', activation='relu')(input)\n",
        "  x = Conv2D(filters=64, kernel_size=3, padding='same', activation='relu')(x)\n",
        "  x = MaxPool2D(pool_size=2, strides=2, padding='same')(x)\n",
        "\n",
        "  x = Conv2D(filters=128, kernel_size=3, padding='same', activation='relu')(x)\n",
        "  x = Conv2D(filters=128, kernel_size=3, padding='same', activation='relu')(x)\n",
        "  x = MaxPool2D(pool_size=2, strides=2, padding='same')(x)\n",
        "\n",
        "  x = Conv2D(filters=256, kernel_size=3, padding='same', activation='relu')(x)\n",
        "  x = Conv2D(filters=256, kernel_size=3, padding='same', activation='relu')(x)\n",
        "  x = Conv2D(filters=256, kernel_size=3, padding='same', activation='relu')(x)\n",
        "  x = MaxPool2D(pool_size=2, strides=2, padding='same')(x)\n",
        "\n",
        "  x = Conv2D(filters=512, kernel_size=3, padding='same', activation='relu')(x)\n",
        "  x = Conv2D(filters=512, kernel_size=3, padding='same', activation='relu')(x)\n",
        "  x = Conv2D(filters=512, kernel_size=3, padding='same', activation='relu')(x)\n",
        "  x = MaxPool2D(pool_size=2, strides=2, padding='same')(x)\n",
        "\n",
        "  x = Conv2D(filters=512, kernel_size=3, padding='same', activation='relu')(x)\n",
        "  x = Conv2D(filters=512, kernel_size=3, padding='same', activation='relu')(x)\n",
        "  x = Conv2D(filters=512, kernel_size=3, padding='same', activation='relu')(x)\n",
        "  x = MaxPool2D(pool_size=2, strides=2, padding='same')(x)\n",
        "\n",
        "  # x = Flatten()(x)\n",
        "  # x = Dense(units=4096, activation='relu')(x)\n",
        "  # # x = Dropout(0.2)(x)\n",
        "  # x = Dense(units=4096, activation='relu')(x)\n",
        "  # # x = Dropout(0.2)(x)\n",
        "  # output = Dense(units=2, activation='softmax')(x)\n",
        "\n",
        "  model = Model(inputs=input, outputs=x)\n",
        "\n",
        "  model.load_weights(weights_path)\n",
        "\n",
        "  return model\n",
        "\n",
        "model = VGG16(include_top=False, weights='imagenet', classes=6)\n",
        "new_model = model.output\n",
        "#model.trainable = False\n",
        "#Pooling layers:GlobalAveragePooling2D::Global average pooling operation for spatial data.\n",
        "global_layer = GlobalAveragePooling2D() \n",
        "new_model = global_layer(new_model)\n",
        "new_model = Dense(3072, activation=\"relu\")(new_model)\n",
        "new_model = Dense(6, activation=\"softmax\")(new_model)\n"
      ],
      "execution_count": null,
      "outputs": []
    },
    {
      "cell_type": "code",
      "metadata": {
        "id": "G7C6YHOlLsDY"
      },
      "source": [
        "vgg_model = Model(inputs=model.input, outputs=new_model)"
      ],
      "execution_count": null,
      "outputs": []
    },
    {
      "cell_type": "code",
      "metadata": {
        "colab": {
          "base_uri": "https://localhost:8080/"
        },
        "id": "3oGzB6yJLsEv",
        "outputId": "4f4d4fc0-739d-4ef7-9760-f22b6bda7be9"
      },
      "source": [
        "vgg_model.summary()"
      ],
      "execution_count": null,
      "outputs": [
        {
          "output_type": "stream",
          "text": [
            "Model: \"model_2\"\n",
            "_________________________________________________________________\n",
            "Layer (type)                 Output Shape              Param #   \n",
            "=================================================================\n",
            "input_2 (InputLayer)         [(None, 224, 224, 3)]     0         \n",
            "_________________________________________________________________\n",
            "conv2d_13 (Conv2D)           (None, 224, 224, 64)      1792      \n",
            "_________________________________________________________________\n",
            "conv2d_14 (Conv2D)           (None, 224, 224, 64)      36928     \n",
            "_________________________________________________________________\n",
            "max_pooling2d_5 (MaxPooling2 (None, 112, 112, 64)      0         \n",
            "_________________________________________________________________\n",
            "conv2d_15 (Conv2D)           (None, 112, 112, 128)     73856     \n",
            "_________________________________________________________________\n",
            "conv2d_16 (Conv2D)           (None, 112, 112, 128)     147584    \n",
            "_________________________________________________________________\n",
            "max_pooling2d_6 (MaxPooling2 (None, 56, 56, 128)       0         \n",
            "_________________________________________________________________\n",
            "conv2d_17 (Conv2D)           (None, 56, 56, 256)       295168    \n",
            "_________________________________________________________________\n",
            "conv2d_18 (Conv2D)           (None, 56, 56, 256)       590080    \n",
            "_________________________________________________________________\n",
            "conv2d_19 (Conv2D)           (None, 56, 56, 256)       590080    \n",
            "_________________________________________________________________\n",
            "max_pooling2d_7 (MaxPooling2 (None, 28, 28, 256)       0         \n",
            "_________________________________________________________________\n",
            "conv2d_20 (Conv2D)           (None, 28, 28, 512)       1180160   \n",
            "_________________________________________________________________\n",
            "conv2d_21 (Conv2D)           (None, 28, 28, 512)       2359808   \n",
            "_________________________________________________________________\n",
            "conv2d_22 (Conv2D)           (None, 28, 28, 512)       2359808   \n",
            "_________________________________________________________________\n",
            "max_pooling2d_8 (MaxPooling2 (None, 14, 14, 512)       0         \n",
            "_________________________________________________________________\n",
            "conv2d_23 (Conv2D)           (None, 14, 14, 512)       2359808   \n",
            "_________________________________________________________________\n",
            "conv2d_24 (Conv2D)           (None, 14, 14, 512)       2359808   \n",
            "_________________________________________________________________\n",
            "conv2d_25 (Conv2D)           (None, 14, 14, 512)       2359808   \n",
            "_________________________________________________________________\n",
            "max_pooling2d_9 (MaxPooling2 (None, 7, 7, 512)         0         \n",
            "_________________________________________________________________\n",
            "global_average_pooling2d_1 ( (None, 512)               0         \n",
            "_________________________________________________________________\n",
            "dense_2 (Dense)              (None, 3072)              1575936   \n",
            "_________________________________________________________________\n",
            "dense_3 (Dense)              (None, 6)                 18438     \n",
            "=================================================================\n",
            "Total params: 16,309,062\n",
            "Trainable params: 16,309,062\n",
            "Non-trainable params: 0\n",
            "_________________________________________________________________\n"
          ],
          "name": "stdout"
        }
      ]
    },
    {
      "cell_type": "markdown",
      "metadata": {
        "id": "U2VDwzdDeBT1"
      },
      "source": [
        ""
      ]
    },
    {
      "cell_type": "code",
      "metadata": {
        "colab": {
          "base_uri": "https://localhost:8080/"
        },
        "id": "kOn95b3tLsGw",
        "outputId": "4932b6df-70da-4cd0-d709-19e1013ce751"
      },
      "source": [
        "IMG_SIZE = 224\n",
        "\n",
        "\n",
        "\n",
        "#momentum: float hyperparameter >= 0 that accelerates gradient descent in the relevant direction and dampens oscillations.\n",
        "#Defaults to 0, i.e., vanilla gradient descent.\n",
        "#nesterov: boolean. Whether to apply Nesterov momentum. Defaults to False.\n",
        "\n",
        "\n",
        "\n",
        "optimization = optimizers.SGD(lr=.0001,decay=1e-6 \n",
        "                              ,momentum=0.9,nesterov=True,name=\"SGD\")\n",
        "\n",
        "vgg_model.compile(optimizer=optimization, loss='categorical_crossentropy', metrics=['accuracy'])\n",
        "\n",
        "x_train = np.array([i[0] for i in train_data]).reshape(-1, IMG_SIZE, IMG_SIZE, 3) \n",
        "\n",
        "y_train = np.asarray([i[1] for i in train_data])\n",
        "\n",
        "vgg_model.fit(x_train, y_train, batch_size=8, epochs=10, verbose=1)\n",
        "  \n",
        "vgg_model.save(\"vgg16.model\")"
      ],
      "execution_count": null,
      "outputs": [
        {
          "output_type": "stream",
          "text": [
            "Epoch 1/10\n",
            "1755/1755 [==============================] - 152s 69ms/step - loss: 0.3954 - accuracy: 0.8686\n",
            "Epoch 2/10\n",
            "1755/1755 [==============================] - 120s 68ms/step - loss: 0.1644 - accuracy: 0.9444\n",
            "Epoch 3/10\n",
            "1755/1755 [==============================] - 120s 68ms/step - loss: 0.1216 - accuracy: 0.9567\n",
            "Epoch 4/10\n",
            "1755/1755 [==============================] - 120s 68ms/step - loss: 0.0812 - accuracy: 0.9726\n",
            "Epoch 5/10\n",
            "1755/1755 [==============================] - 119s 68ms/step - loss: 0.0651 - accuracy: 0.9785\n",
            "Epoch 6/10\n",
            "1755/1755 [==============================] - 120s 68ms/step - loss: 0.0455 - accuracy: 0.9858\n",
            "Epoch 7/10\n",
            "1755/1755 [==============================] - 120s 69ms/step - loss: 0.0329 - accuracy: 0.9887\n",
            "Epoch 8/10\n",
            "1755/1755 [==============================] - 120s 69ms/step - loss: 0.0195 - accuracy: 0.9944\n",
            "Epoch 9/10\n",
            "1755/1755 [==============================] - 120s 68ms/step - loss: 0.0157 - accuracy: 0.9953\n",
            "Epoch 10/10\n",
            "1755/1755 [==============================] - 120s 68ms/step - loss: 0.0108 - accuracy: 0.9973\n",
            "INFO:tensorflow:Assets written to: vgg16.model/assets\n"
          ],
          "name": "stdout"
        }
      ]
    },
    {
      "cell_type": "code",
      "metadata": {
        "colab": {
          "base_uri": "https://localhost:8080/"
        },
        "id": "jxVajWjeWlJP",
        "outputId": "738163c2-b418-4564-b107-dba9ac6f4b60"
      },
      "source": [
        "Submit=[]\n",
        "for num, data in enumerate(test_data[:]): \n",
        "    img_label = data[0]\n",
        "    name = data[1] \n",
        "    data = img_label.reshape(-1,224, 224, 3) \n",
        "    model_out = vgg_model.predict([data])[0]\n",
        "    if np.argmax(model_out) == 0:\n",
        "        Submit.append([name,0])\n",
        "    elif np.argmax(model_out) == 1:\n",
        "        Submit.append([name,1])\n",
        "    elif np.argmax(model_out) == 2:\n",
        "        Submit.append([name,2])\n",
        "    elif np.argmax(model_out) == 3:\n",
        "        Submit.append([name,3])\n",
        "    elif np.argmax(model_out) == 4:\n",
        "        Submit.append([name,4])\n",
        "    elif np.argmax(model_out) == 5:\n",
        "        Submit.append([name,5])                                 \n",
        "print(Submit)\n",
        "Submied=pd.DataFrame(Submit,columns=['Image','Label'])\n",
        "Submied.to_csv(\"/content/submit.csv\", index = False) "
      ],
      "execution_count": null,
      "outputs": [
        {
          "output_type": "stream",
          "text": [
            "[['23004.jpg', 3], ['23215.jpg', 5], ['20998.jpg', 2], ['20627.jpg', 2], ['23885.jpg', 4], ['23291.jpg', 3], ['22374.jpg', 4], ['20683.jpg', 0], ['22636.jpg', 3], ['22623.jpg', 4], ['20647.jpg', 4], ['21277.jpg', 4], ['22450.jpg', 5], ['24115.jpg', 3], ['21967.jpg', 2], ['20283.jpg', 4], ['23597.jpg', 1], ['20751.jpg', 2], ['22311.jpg', 5], ['24213.jpg', 2], ['22346.jpg', 3], ['22400.jpg', 1], ['22490.jpg', 1], ['21936.jpg', 4], ['24175.jpg', 5], ['20334.jpg', 3], ['23024.jpg', 3], ['22149.jpg', 1], ['21017.jpg', 0], ['22268.jpg', 1], ['24132.jpg', 4], ['24250.jpg', 5], ['23429.jpg', 3], ['21230.jpg', 2], ['546.jpg', 0], ['23932.jpg', 0], ['22097.jpg', 5], ['23419.jpg', 4], ['22724.jpg', 3], ['20807.jpg', 5], ['22064.jpg', 5], ['21287.jpg', 5], ['20261.jpg', 1], ['949.jpg', 0], ['21186.jpg', 2], ['22895.jpg', 4], ['23177.jpg', 2], ['23876.jpg', 1], ['20726.jpg', 2], ['24133.jpg', 2], ['22614.jpg', 3], ['21294.jpg', 5], ['20096.jpg', 0], ['22158.jpg', 3], ['20435.jpg', 3], ['24297.jpg', 2], ['20695.jpg', 4], ['20148.jpg', 4], ['21297.jpg', 1], ['22214.jpg', 3], ['21787.jpg', 1], ['24239.jpg', 1], ['21343.jpg', 3], ['21381.jpg', 5], ['20277.jpg', 3], ['20909.jpg', 4], ['23055.jpg', 0], ['20307.jpg', 2], ['22220.jpg', 4], ['21853.jpg', 5], ['23745.jpg', 5], ['20389.jpg', 4], ['24290.jpg', 5], ['20270.jpg', 5], ['21887.jpg', 1], ['24300.jpg', 5], ['23469.jpg', 3], ['24097.jpg', 5], ['23244.jpg', 1], ['20626.jpg', 3], ['21640.jpg', 5], ['21376.jpg', 3], ['24052.jpg', 5], ['21994.jpg', 1], ['24149.jpg', 5], ['23461.jpg', 3], ['21156.jpg', 2], ['23968.jpg', 5], ['20560.jpg', 2], ['21288.jpg', 2], ['24129.jpg', 4], ['23808.jpg', 3], ['21098.jpg', 2], ['20894.jpg', 1], ['22666.jpg', 2], ['24113.jpg', 2], ['23528.jpg', 1], ['20989.jpg', 0], ['22877.jpg', 5], ['20116.jpg', 2], ['22388.jpg', 0], ['22971.jpg', 5], ['23612.jpg', 0], ['22852.jpg', 3], ['20757.jpg', 2], ['22900.jpg', 5], ['22076.jpg', 0], ['22887.jpg', 2], ['22250.jpg', 2], ['23089.jpg', 4], ['23783.jpg', 3], ['21012.jpg', 4], ['23406.jpg', 1], ['24190.jpg', 3], ['21198.jpg', 1], ['24020.jpg', 3], ['23816.jpg', 2], ['21686.jpg', 3], ['22765.jpg', 3], ['23210.jpg', 3], ['24312.jpg', 1], ['23209.jpg', 4], ['23285.jpg', 3], ['24207.jpg', 3], ['21259.jpg', 4], ['21769.jpg', 1], ['21841.jpg', 0], ['22966.jpg', 3], ['23166.jpg', 3], ['22526.jpg', 3], ['22028.jpg', 1], ['24153.jpg', 5], ['21792.jpg', 5], ['22066.jpg', 4], ['23779.jpg', 5], ['24037.jpg', 2], ['21837.jpg', 4], ['22574.jpg', 4], ['22801.jpg', 5], ['23261.jpg', 1], ['21146.jpg', 2], ['21745.jpg', 5], ['20057.jpg', 0], ['23702.jpg', 3], ['20345.jpg', 2], ['22603.jpg', 2], ['21466.jpg', 3], ['22215.jpg', 3], ['21875.jpg', 3], ['21932.jpg', 1], ['22706.jpg', 0], ['24058.jpg', 0], ['21053.jpg', 2], ['22372.jpg', 5], ['23157.jpg', 2], ['21759.jpg', 3], ['20458.jpg', 2], ['23087.jpg', 0], ['23505.jpg', 0], ['20154.jpg', 3], ['21104.jpg', 0], ['22565.jpg', 4], ['20819.jpg', 5], ['614.jpg', 5], ['21246.jpg', 2], ['23381.jpg', 4], ['24204.jpg', 3], ['24329.jpg', 3], ['21161.jpg', 3], ['22486.jpg', 5], ['20935.jpg', 5], ['20485.jpg', 1], ['21861.jpg', 2], ['23148.jpg', 1], ['24275.jpg', 0], ['20628.jpg', 0], ['22235.jpg', 2], ['24247.jpg', 3], ['20735.jpg', 4], ['21701.jpg', 3], ['21464.jpg', 2], ['23306.jpg', 1], ['20276.jpg', 3], ['21200.jpg', 5], ['21248.jpg', 2], ['22951.jpg', 5], ['22416.jpg', 1], ['23659.jpg', 3], ['20981.jpg', 0], ['23154.jpg', 3], ['20871.jpg', 3], ['23126.jpg', 3], ['21485.jpg', 0], ['22843.jpg', 0], ['23757.jpg', 0], ['21559.jpg', 1], ['20113.jpg', 0], ['20286.jpg', 0], ['20581.jpg', 0], ['22569.jpg', 1], ['23552.jpg', 3], ['22320.jpg', 2], ['21206.jpg', 1], ['22071.jpg', 2], ['23874.jpg', 1], ['23312.jpg', 3], ['21977.jpg', 0], ['21992.jpg', 3], ['20109.jpg', 3], ['21982.jpg', 2], ['22167.jpg', 1], ['22382.jpg', 3], ['23289.jpg', 1], ['22947.jpg', 1], ['21375.jpg', 1], ['24158.jpg', 4], ['24251.jpg', 1], ['23274.jpg', 3], ['20431.jpg', 0], ['20305.jpg', 4], ['22255.jpg', 0], ['22412.jpg', 5], ['23575.jpg', 1], ['22817.jpg', 2], ['24236.jpg', 4], ['24285.jpg', 3], ['22994.jpg', 2], ['24033.jpg', 1], ['21278.jpg', 2], ['21529.jpg', 1], ['21238.jpg', 1], ['21266.jpg', 2], ['21479.jpg', 5], ['21583.jpg', 1], ['22360.jpg', 0], ['22063.jpg', 2], ['23852.jpg', 1], ['24036.jpg', 2], ['24029.jpg', 5], ['20161.jpg', 5], ['22307.jpg', 1], ['20414.jpg', 2], ['20677.jpg', 5], ['20970.jpg', 4], ['23016.jpg', 2], ['23343.jpg', 3], ['645.jpg', 5], ['21632.jpg', 3], ['21389.jpg', 3], ['20841.jpg', 4], ['21348.jpg', 3], ['24187.jpg', 4], ['20168.jpg', 4], ['20137.jpg', 5], ['20476.jpg', 4], ['22254.jpg', 2], ['23964.jpg', 2], ['21607.jpg', 4], ['23114.jpg', 3], ['23609.jpg', 3], ['20838.jpg', 5], ['21085.jpg', 3], ['23365.jpg', 0], ['23686.jpg', 3], ['22740.jpg', 4], ['21962.jpg', 0], ['20378.jpg', 5], ['24279.jpg', 3], ['20174.jpg', 4], ['23159.jpg', 0], ['23890.jpg', 0], ['20941.jpg', 3], ['23118.jpg', 5], ['23292.jpg', 2], ['24268.jpg', 5], ['21255.jpg', 3], ['21514.jpg', 5], ['22483.jpg', 3], ['22897.jpg', 1], ['23830.jpg', 3], ['23989.jpg', 0], ['24107.jpg', 2], ['23998.jpg', 4], ['23520.jpg', 4], ['24256.jpg', 1], ['21852.jpg', 1], ['23042.jpg', 4], ['21292.jpg', 4], ['20872.jpg', 2], ['20517.jpg', 2], ['23219.jpg', 2], ['23237.jpg', 4], ['23698.jpg', 1], ['22029.jpg', 2], ['21694.jpg', 0], ['24019.jpg', 5], ['21240.jpg', 1], ['23324.jpg', 4], ['23718.jpg', 2], ['20770.jpg', 2], ['21844.jpg', 3], ['20392.jpg', 4], ['21385.jpg', 3], ['22516.jpg', 4], ['23543.jpg', 0], ['23308.jpg', 1], ['20241.jpg', 0], ['20416.jpg', 1], ['20779.jpg', 1], ['22836.jpg', 2], ['21260.jpg', 5], ['20395.jpg', 4], ['22438.jpg', 2], ['23969.jpg', 4], ['21480.jpg', 0], ['20449.jpg', 0], ['23075.jpg', 5], ['23026.jpg', 2], ['22152.jpg', 0], ['22168.jpg', 4], ['22200.jpg', 5], ['22827.jpg', 2], ['21727.jpg', 2], ['20616.jpg', 2], ['20464.jpg', 5], ['20550.jpg', 0], ['22176.jpg', 4], ['23712.jpg', 2], ['20299.jpg', 1], ['23223.jpg', 2], ['24095.jpg', 5], ['20696.jpg', 4], ['24073.jpg', 4], ['22212.jpg', 2], ['22576.jpg', 2], ['23342.jpg', 4], ['23430.jpg', 1], ['22180.jpg', 2], ['20232.jpg', 3], ['20864.jpg', 5], ['22930.jpg', 4], ['22393.jpg', 4], ['21490.jpg', 3], ['21350.jpg', 5], ['21643.jpg', 3], ['23952.jpg', 2], ['21357.jpg', 2], ['21187.jpg', 1], ['23928.jpg', 1], ['20089.jpg', 1], ['21790.jpg', 4], ['21575.jpg', 2], ['22921.jpg', 3], ['24246.jpg', 4], ['22546.jpg', 3], ['22330.jpg', 0], ['21615.jpg', 2], ['23683.jpg', 0], ['20704.jpg', 4], ['20386.jpg', 2], ['22540.jpg', 1], ['22617.jpg', 3], ['24230.jpg', 5], ['21989.jpg', 5], ['21182.jpg', 0], ['21393.jpg', 4], ['20082.jpg', 1], ['22949.jpg', 4], ['23716.jpg', 3], ['20878.jpg', 4], ['23498.jpg', 1], ['22191.jpg', 3], ['23703.jpg', 2], ['21360.jpg', 0], ['23587.jpg', 4], ['21734.jpg', 3], ['21956.jpg', 1], ['23317.jpg', 0], ['22153.jpg', 5], ['23433.jpg', 2], ['23041.jpg', 0], ['20582.jpg', 1], ['20069.jpg', 5], ['21580.jpg', 0], ['20346.jpg', 5], ['20587.jpg', 0], ['20314.jpg', 2], ['21311.jpg', 4], ['73.jpg', 0], ['21128.jpg', 4], ['21573.jpg', 5], ['22038.jpg', 3], ['21340.jpg', 3], ['21770.jpg', 3], ['24231.jpg', 5], ['23930.jpg', 1], ['23807.jpg', 2], ['22539.jpg', 3], ['24024.jpg', 5], ['24177.jpg', 1], ['23110.jpg', 1], ['20965.jpg', 2], ['23226.jpg', 2], ['20140.jpg', 0], ['23287.jpg', 1], ['22417.jpg', 5], ['22019.jpg', 4], ['23165.jpg', 4], ['22934.jpg', 2], ['24016.jpg', 1], ['23136.jpg', 0], ['20293.jpg', 5], ['21743.jpg', 5], ['22427.jpg', 1], ['22822.jpg', 2], ['20513.jpg', 4], ['22239.jpg', 2], ['22089.jpg', 4], ['20907.jpg', 5], ['22988.jpg', 5], ['22572.jpg', 4], ['21933.jpg', 1], ['20799.jpg', 0], ['21766.jpg', 2], ['23933.jpg', 1], ['21081.jpg', 5], ['24324.jpg', 1], ['22144.jpg', 1], ['20230.jpg', 2], ['23986.jpg', 3], ['20860.jpg', 2], ['24127.jpg', 3], ['23915.jpg', 3], ['20170.jpg', 4], ['22685.jpg', 3], ['20566.jpg', 2], ['22471.jpg', 4], ['23717.jpg', 1], ['20071.jpg', 2], ['20732.jpg', 2], ['23018.jpg', 2], ['22405.jpg', 2], ['23925.jpg', 1], ['22912.jpg', 0], ['23262.jpg', 3], ['21985.jpg', 5], ['24055.jpg', 4], ['23873.jpg', 1], ['21152.jpg', 4], ['24146.jpg', 3], ['23723.jpg', 1], ['23620.jpg', 4], ['23420.jpg', 5], ['20252.jpg', 1], ['22024.jpg', 5], ['1082.jpg', 0], ['24241.jpg', 1], ['23314.jpg', 5], ['21432.jpg', 5], ['23389.jpg', 5], ['21601.jpg', 5], ['21510.jpg', 5], ['23762.jpg', 4], ['23972.jpg', 3], ['23269.jpg', 5], ['20320.jpg', 2], ['22119.jpg', 5], ['22558.jpg', 0], ['21990.jpg', 1], ['23919.jpg', 4], ['23813.jpg', 1], ['21949.jpg', 2], ['20978.jpg', 1], ['23892.jpg', 5], ['23033.jpg', 5], ['22079.jpg', 2], ['21935.jpg', 3], ['22347.jpg', 2], ['23714.jpg', 2], ['23266.jpg', 3], ['21108.jpg', 5], ['21554.jpg', 0], ['24197.jpg', 0], ['22423.jpg', 0], ['24314.jpg', 1], ['21227.jpg', 4], ['23268.jpg', 1], ['21983.jpg', 2], ['22130.jpg', 2], ['20493.jpg', 5], ['21987.jpg', 3], ['21298.jpg', 0], ['20536.jpg', 0], ['22864.jpg', 2], ['21355.jpg', 5], ['23450.jpg', 4], ['21729.jpg', 4], ['23225.jpg', 5], ['22172.jpg', 1], ['20847.jpg', 3], ['21115.jpg', 3], ['24237.jpg', 4], ['22568.jpg', 0], ['23418.jpg', 2], ['23068.jpg', 5], ['22378.jpg', 5], ['23677.jpg', 2], ['22833.jpg', 1], ['21806.jpg', 1], ['22284.jpg', 0], ['23819.jpg', 1], ['20853.jpg', 3], ['22140.jpg', 2], ['20495.jpg', 2], ['23012.jpg', 0], ['22952.jpg', 0], ['23537.jpg', 2], ['21621.jpg', 0], ['23920.jpg', 2], ['20158.jpg', 5], ['21469.jpg', 3], ['20303.jpg', 1], ['21236.jpg', 3], ['22408.jpg', 5], ['20333.jpg', 4], ['20388.jpg', 5], ['22000.jpg', 0], ['20343.jpg', 5], ['23270.jpg', 2], ['22830.jpg', 5], ['20134.jpg', 1], ['20309.jpg', 0], ['21564.jpg', 5], ['21120.jpg', 5], ['22436.jpg', 4], ['22629.jpg', 1], ['22790.jpg', 3], ['20387.jpg', 1], ['20218.jpg', 0], ['22504.jpg', 3], ['21121.jpg', 4], ['20530.jpg', 4], ['21908.jpg', 5], ['21659.jpg', 3], ['21062.jpg', 5], ['23455.jpg', 5], ['22021.jpg', 0], ['23255.jpg', 0], ['21738.jpg', 4], ['21896.jpg', 5], ['23707.jpg', 5], ['21761.jpg', 4], ['23296.jpg', 2], ['20598.jpg', 2], ['22834.jpg', 4], ['23901.jpg', 4], ['24212.jpg', 5], ['23253.jpg', 5], ['20151.jpg', 1], ['21314.jpg', 3], ['24315.jpg', 5], ['24229.jpg', 0], ['23843.jpg', 2], ['22755.jpg', 4], ['21695.jpg', 4], ['23104.jpg', 0], ['20535.jpg', 5], ['23697.jpg', 3], ['23495.jpg', 4], ['23243.jpg', 3], ['22513.jpg', 2], ['20473.jpg', 4], ['20171.jpg', 4], ['21765.jpg', 1], ['20947.jpg', 1], ['24215.jpg', 0], ['21973.jpg', 4], ['23759.jpg', 4], ['23588.jpg', 5], ['22276.jpg', 3], ['22789.jpg', 1], ['22950.jpg', 3], ['20275.jpg', 2], ['23207.jpg', 1], ['23445.jpg', 2], ['22420.jpg', 1], ['20489.jpg', 2], ['21105.jpg', 1], ['22280.jpg', 1], ['20764.jpg', 5], ['22125.jpg', 1], ['22385.jpg', 4], ['20595.jpg', 4], ['23708.jpg', 4], ['20444.jpg', 3], ['20910.jpg', 2], ['20266.jpg', 5], ['21041.jpg', 0], ['22854.jpg', 1], ['23898.jpg', 2], ['23608.jpg', 2], ['23481.jpg', 2], ['22259.jpg', 2], ['22800.jpg', 3], ['20567.jpg', 4], ['222.jpg', 0], ['21320.jpg', 3], ['22832.jpg', 4], ['21090.jpg', 3], ['22692.jpg', 3], ['22040.jpg', 3], ['21498.jpg', 3], ['22488.jpg', 3], ['23550.jpg', 5], ['22722.jpg', 5], ['20322.jpg', 1], ['20484.jpg', 5], ['23848.jpg', 2], ['22035.jpg', 5], ['23861.jpg', 4], ['20454.jpg', 5], ['23774.jpg', 3], ['22115.jpg', 0], ['22414.jpg', 4], ['22447.jpg', 0], ['21076.jpg', 2], ['23579.jpg', 4], ['20229.jpg', 1], ['23051.jpg', 3], ['21354.jpg', 5], ['20337.jpg', 5], ['23490.jpg', 1], ['23392.jpg', 2], ['20162.jpg', 5], ['21623.jpg', 4], ['22645.jpg', 5], ['20801.jpg', 1], ['22992.jpg', 3], ['22048.jpg', 4], ['20198.jpg', 2], ['22860.jpg', 0], ['21817.jpg', 0], ['22829.jpg', 2], ['20639.jpg', 4], ['22433.jpg', 4], ['22092.jpg', 1], ['23738.jpg', 2], ['20350.jpg', 0], ['22186.jpg', 4], ['24078.jpg', 5], ['21555.jpg', 0], ['20147.jpg', 1], ['24045.jpg', 1], ['23564.jpg', 0], ['20240.jpg', 4], ['23862.jpg', 1], ['22756.jpg', 2], ['20924.jpg', 2], ['21096.jpg', 3], ['20300.jpg', 4], ['20868.jpg', 2], ['21763.jpg', 0], ['23181.jpg', 1], ['23407.jpg', 1], ['21065.jpg', 0], ['20455.jpg', 3], ['23376.jpg', 1], ['20238.jpg', 5], ['22977.jpg', 4], ['23411.jpg', 5], ['21452.jpg', 3], ['23401.jpg', 4], ['23786.jpg', 4], ['23011.jpg', 1], ['22708.jpg', 5], ['23794.jpg', 1], ['23191.jpg', 5], ['23283.jpg', 3], ['22506.jpg', 5], ['22676.jpg', 0], ['22199.jpg', 3], ['20207.jpg', 0], ['23139.jpg', 5], ['22896.jpg', 3], ['24201.jpg', 4], ['22609.jpg', 2], ['24137.jpg', 1], ['24010.jpg', 0], ['20448.jpg', 1], ['22899.jpg', 0], ['20117.jpg', 1], ['22809.jpg', 3], ['21725.jpg', 3], ['23692.jpg', 0], ['23846.jpg', 0], ['23663.jpg', 1], ['21141.jpg', 0], ['20572.jpg', 5], ['20534.jpg', 4], ['21316.jpg', 1], ['21691.jpg', 2], ['22179.jpg', 1], ['23457.jpg', 3], ['22508.jpg', 4], ['23990.jpg', 4], ['20512.jpg', 3], ['20441.jpg', 0], ['691.jpg', 0], ['20243.jpg', 2], ['21055.jpg', 3], ['22496.jpg', 0], ['21923.jpg', 0], ['23951.jpg', 2], ['23700.jpg', 1], ['23220.jpg', 0], ['23072.jpg', 2], ['21674.jpg', 5], ['23108.jpg', 2], ['23865.jpg', 1], ['21912.jpg', 3], ['24086.jpg', 4], ['24265.jpg', 5], ['20591.jpg', 5], ['23981.jpg', 1], ['23593.jpg', 4], ['21611.jpg', 5], ['21411.jpg', 2], ['21719.jpg', 0], ['22439.jpg', 4], ['21512.jpg', 2], ['21325.jpg', 1], ['20272.jpg', 2], ['24060.jpg', 2], ['20259.jpg', 5], ['23776.jpg', 0], ['21671.jpg', 5], ['21473.jpg', 2], ['24063.jpg', 0], ['22145.jpg', 3], ['21917.jpg', 3], ['22867.jpg', 4], ['23221.jpg', 2], ['20465.jpg', 0], ['23103.jpg', 3], ['21091.jpg', 1], ['22545.jpg', 4], ['23416.jpg', 4], ['20731.jpg', 1], ['20409.jpg', 2], ['20820.jpg', 2], ['244.jpg', 0], ['351.jpg', 0], ['21506.jpg', 5], ['23442.jpg', 0], ['24176.jpg', 3], ['21196.jpg', 1], ['22642.jpg', 5], ['21924.jpg', 4], ['22660.jpg', 2], ['23721.jpg', 5], ['23473.jpg', 1], ['22221.jpg', 3], ['24224.jpg', 0], ['22767.jpg', 2], ['22356.jpg', 5], ['21811.jpg', 2], ['24223.jpg', 0], ['22256.jpg', 0], ['837.jpg', 0], ['21740.jpg', 4], ['20584.jpg', 3], ['22695.jpg', 2], ['20561.jpg', 5], ['24173.jpg', 2], ['23373.jpg', 1], ['23906.jpg', 2], ['20226.jpg', 3], ['22839.jpg', 5], ['23853.jpg', 1], ['24050.jpg', 0], ['22943.jpg', 4], ['20745.jpg', 4], ['24295.jpg', 4], ['23899.jpg', 2], ['21279.jpg', 0], ['20085.jpg', 3], ['20813.jpg', 5], ['23227.jpg', 5], ['22848.jpg', 3], ['21612.jpg', 1], ['22345.jpg', 0], ['23499.jpg', 1], ['23586.jpg', 5], ['20655.jpg', 3], ['21526.jpg', 5], ['23390.jpg', 5], ['23275.jpg', 4], ['21551.jpg', 2], ['22512.jpg', 3], ['23760.jpg', 1], ['23044.jpg', 2], ['23423.jpg', 4], ['21353.jpg', 3], ['20657.jpg', 3], ['24211.jpg', 3], ['797.jpg', 5], ['23859.jpg', 5], ['20652.jpg', 5], ['22260.jpg', 1], ['23133.jpg', 5], ['20750.jpg', 5], ['21507.jpg', 4], ['20432.jpg', 5], ['22967.jpg', 5], ['23213.jpg', 4], ['22336.jpg', 1], ['21047.jpg', 4], ['23212.jpg', 3], ['22823.jpg', 5], ['22746.jpg', 4], ['21522.jpg', 5], ['21832.jpg', 4], ['23301.jpg', 5], ['21201.jpg', 3], ['21655.jpg', 4], ['22328.jpg', 3], ['20759.jpg', 4], ['21364.jpg', 4], ['242.jpg', 0], ['24009.jpg', 5], ['23780.jpg', 2], ['20982.jpg', 4], ['21955.jpg', 0], ['21177.jpg', 1], ['22350.jpg', 4], ['21688.jpg', 0], ['20879.jpg', 4], ['23993.jpg', 3], ['21649.jpg', 4], ['24200.jpg', 2], ['21210.jpg', 2], ['24057.jpg', 2], ['21491.jpg', 1], ['23554.jpg', 0], ['24174.jpg', 4], ['20774.jpg', 1], ['23841.jpg', 4], ['23681.jpg', 1], ['20633.jpg', 4], ['20405.jpg', 5], ['23725.jpg', 4], ['20953.jpg', 5], ['20430.jpg', 0], ['20620.jpg', 1], ['22027.jpg', 3], ['22502.jpg', 2], ['22552.jpg', 1], ['23606.jpg', 2], ['20946.jpg', 4], ['20563.jpg', 1], ['21614.jpg', 0], ['20555.jpg', 0], ['23464.jpg', 0], ['24206.jpg', 1], ['20601.jpg', 0], ['23801.jpg', 2], ['21816.jpg', 2], ['20752.jpg', 0], ['22321.jpg', 4], ['23037.jpg', 2], ['21866.jpg', 5], ['20568.jpg', 1], ['23441.jpg', 1], ['21341.jpg', 3], ['20903.jpg', 5], ['21744.jpg', 5], ['21345.jpg', 1], ['20606.jpg', 0], ['23256.jpg', 2], ['21979.jpg', 1], ['22547.jpg', 3], ['23507.jpg', 1], ['22354.jpg', 4], ['23065.jpg', 1], ['20777.jpg', 5], ['21603.jpg', 3], ['23973.jpg', 5], ['22648.jpg', 3], ['22166.jpg', 5], ['20079.jpg', 5], ['22470.jpg', 5], ['24195.jpg', 2], ['20930.jpg', 1], ['24193.jpg', 2], ['22123.jpg', 2], ['24235.jpg', 4], ['22619.jpg', 5], ['21225.jpg', 5], ['21926.jpg', 2], ['21797.jpg', 4], ['20722.jpg', 4], ['21386.jpg', 0], ['24160.jpg', 5], ['20418.jpg', 2], ['23100.jpg', 0], ['22150.jpg', 0], ['22383.jpg', 0], ['20586.jpg', 5], ['23515.jpg', 2], ['22753.jpg', 1], ['21027.jpg', 2], ['20812.jpg', 5], ['23040.jpg', 3], ['22734.jpg', 3], ['20546.jpg', 0], ['20285.jpg', 4], ['24322.jpg', 0], ['22633.jpg', 0], ['22799.jpg', 3], ['23298.jpg', 4], ['20127.jpg', 5], ['22891.jpg', 2], ['22022.jpg', 1], ['22628.jpg', 4], ['21788.jpg', 3], ['22341.jpg', 0], ['24254.jpg', 1], ['21620.jpg', 5], ['21940.jpg', 4], ['21915.jpg', 3], ['21349.jpg', 3], ['20479.jpg', 3], ['21125.jpg', 1], ['20227.jpg', 2], ['23060.jpg', 2], ['20355.jpg', 2], ['23633.jpg', 5], ['22742.jpg', 2], ['24264.jpg', 2], ['23923.jpg', 3], ['23327.jpg', 3], ['21301.jpg', 3], ['23658.jpg', 4], ['20491.jpg', 0], ['22289.jpg', 1], ['22481.jpg', 5], ['21305.jpg', 5], ['21192.jpg', 4], ['23870.jpg', 2], ['21664.jpg', 2], ['20191.jpg', 5], ['20798.jpg', 4], ['21874.jpg', 2], ['22389.jpg', 4], ['22017.jpg', 5], ['24167.jpg', 2], ['21504.jpg', 5], ['21221.jpg', 0], ['23333.jpg', 3], ['21461.jpg', 0], ['21431.jpg', 1], ['21347.jpg', 5], ['23027.jpg', 4], ['23417.jpg', 5], ['23503.jpg', 1], ['23711.jpg', 3], ['23325.jpg', 0], ['21107.jpg', 5], ['22779.jpg', 5], ['24319.jpg', 3], ['20249.jpg', 2], ['20424.jpg', 0], ['20099.jpg', 4], ['24198.jpg', 1], ['22233.jpg', 5], ['22730.jpg', 4], ['20106.jpg', 4], ['20665.jpg', 5], ['24203.jpg', 0], ['21660.jpg', 3], ['21684.jpg', 2], ['20818.jpg', 5], ['23679.jpg', 4], ['20297.jpg', 5], ['22597.jpg', 1], ['23931.jpg', 1], ['20257.jpg', 4], ['22675.jpg', 4], ['20742.jpg', 2], ['23322.jpg', 5], ['22231.jpg', 0], ['21885.jpg', 1], ['21342.jpg', 4], ['21824.jpg', 2], ['23883.jpg', 2], ['23387.jpg', 3], ['21680.jpg', 0], ['21239.jpg', 2], ['22107.jpg', 4], ['23531.jpg', 3], ['20800.jpg', 1], ['22600.jpg', 3], ['24041.jpg', 4], ['20294.jpg', 5], ['20383.jpg', 2], ['23446.jpg', 0], ['20765.jpg', 5], ['21083.jpg', 4], ['22683.jpg', 2], ['23088.jpg', 1], ['22394.jpg', 3], ['23408.jpg', 4], ['20976.jpg', 3], ['21731.jpg', 5], ['302.jpg', 0], ['21144.jpg', 2], ['22764.jpg', 2], ['740.jpg', 0], ['21999.jpg', 4], ['20611.jpg', 0], ['22269.jpg', 0], ['23647.jpg', 2], ['20959.jpg', 3], ['20929.jpg', 1], ['22310.jpg', 2], ['22884.jpg', 3], ['20319.jpg', 1], ['20087.jpg', 2], ['21689.jpg', 0], ['20348.jpg', 4], ['21560.jpg', 5], ['23536.jpg', 4], ['21099.jpg', 0], ['20762.jpg', 3], ['24103.jpg', 0], ['22592.jpg', 3], ['21045.jpg', 4], ['23987.jpg', 1], ['22251.jpg', 3], ['23045.jpg', 4], ['23002.jpg', 4], ['24023.jpg', 0], ['22705.jpg', 2], ['22421.jpg', 0], ['20095.jpg', 1], ['21610.jpg', 2], ['22198.jpg', 5], ['23437.jpg', 4], ['20447.jpg', 1], ['20660.jpg', 1], ['20908.jpg', 3], ['23005.jpg', 5], ['20974.jpg', 3], ['22663.jpg', 3], ['21257.jpg', 0], ['22117.jpg', 3], ['22983.jpg', 2], ['21363.jpg', 3], ['23939.jpg', 4], ['21631.jpg', 0], ['23339.jpg', 2], ['21779.jpg', 0], ['22710.jpg', 0], ['22216.jpg', 5], ['22982.jpg', 2], ['20739.jpg', 2], ['21242.jpg', 5], ['23451.jpg', 3], ['20596.jpg', 1], ['21777.jpg', 3], ['22469.jpg', 4], ['23456.jpg', 4], ['22203.jpg', 3], ['21222.jpg', 3], ['23359.jpg', 0], ['23263.jpg', 5], ['23466.jpg', 4], ['23900.jpg', 4], ['22564.jpg', 3], ['21101.jpg', 5], ['23123.jpg', 1], ['23366.jpg', 0], ['23224.jpg', 3], ['21016.jpg', 1], ['23367.jpg', 2], ['21371.jpg', 1], ['22778.jpg', 5], ['21024.jpg', 2], ['23675.jpg', 0], ['23616.jpg', 5], ['20597.jpg', 0], ['20352.jpg', 2], ['20341.jpg', 4], ['20393.jpg', 4], ['22857.jpg', 2], ['22369.jpg', 0], ['61.jpg', 0], ['22112.jpg', 2], ['21373.jpg', 1], ['22138.jpg', 3], ['21142.jpg', 5], ['23431.jpg', 2], ['23648.jpg', 1], ['20541.jpg', 2], ['22465.jpg', 2], ['22116.jpg', 1], ['21762.jpg', 2], ['22657.jpg', 3], ['24080.jpg', 3], ['24332.jpg', 5], ['20911.jpg', 4], ['20705.jpg', 5], ['21368.jpg', 2], ['21799.jpg', 2], ['22655.jpg', 3], ['23487.jpg', 4], ['20436.jpg', 0], ['22837.jpg', 5], ['23877.jpg', 1], ['23328.jpg', 2], ['103.jpg', 0], ['21714.jpg', 4], ['20056.jpg', 1], ['21947.jpg', 1], ['22500.jpg', 2], ['20649.jpg', 4], ['22099.jpg', 5], ['23236.jpg', 3], ['23688.jpg', 1], ['21159.jpg', 0], ['20576.jpg', 2], ['20605.jpg', 1], ['24226.jpg', 1], ['23967.jpg', 5], ['23590.jpg', 0], ['23427.jpg', 2], ['22103.jpg', 0], ['22349.jpg', 3], ['20242.jpg', 1], ['23447.jpg', 2], ['20781.jpg', 3], ['23936.jpg', 3], ['23826.jpg', 4], ['24304.jpg', 4], ['22672.jpg', 4], ['23598.jpg', 1], ['20183.jpg', 5], ['22784.jpg', 0], ['20851.jpg', 2], ['20828.jpg', 0], ['23179.jpg', 0], ['20164.jpg', 2], ['20287.jpg', 2], ['23130.jpg', 1], ['21087.jpg', 1], ['23574.jpg', 5], ['23628.jpg', 5], ['22650.jpg', 0], ['22339.jpg', 0], ['22295.jpg', 0], ['21909.jpg', 3], ['22679.jpg', 4], ['20185.jpg', 4], ['22271.jpg', 4], ['24260.jpg', 1], ['22143.jpg', 2], ['21624.jpg', 4], ['23600.jpg', 1], ['23902.jpg', 2], ['20831.jpg', 1], ['22202.jpg', 3], ['24059.jpg', 4], ['22234.jpg', 0], ['22104.jpg', 4], ['20187.jpg', 2], ['20714.jpg', 1], ['23727.jpg', 5], ['24098.jpg', 1], ['20753.jpg', 4], ['24013.jpg', 2], ['22192.jpg', 3], ['23926.jpg', 4], ['22850.jpg', 2], ['21450.jpg', 2], ['21793.jpg', 0], ['22062.jpg', 3], ['23907.jpg', 0], ['20408.jpg', 5], ['21069.jpg', 5], ['20612.jpg', 2], ['23509.jpg', 1], ['20524.jpg', 0], ['21630.jpg', 0], ['23976.jpg', 4], ['21126.jpg', 1], ['20709.jpg', 0], ['21921.jpg', 1], ['23271.jpg', 5], ['22171.jpg', 0], ['20564.jpg', 5], ['20253.jpg', 2], ['23160.jpg', 1], ['23815.jpg', 0], ['23304.jpg', 0], ['21136.jpg', 2], ['20370.jpg', 5], ['24171.jpg', 2], ['21722.jpg', 5], ['24228.jpg', 1], ['21954.jpg', 4], ['21494.jpg', 5], ['21519.jpg', 4], ['24287.jpg', 3], ['23384.jpg', 3], ['21593.jpg', 5], ['21843.jpg', 1], ['20570.jpg', 2], ['23570.jpg', 2], ['22699.jpg', 2], ['22291.jpg', 5], ['23535.jpg', 2], ['24169.jpg', 3], ['21106.jpg', 1], ['21401.jpg', 5], ['22553.jpg', 2], ['23062.jpg', 3], ['23386.jpg', 1], ['22920.jpg', 4], ['21539.jpg', 0], ['23014.jpg', 5], ['22501.jpg', 4], ['22807.jpg', 4], ['22978.jpg', 0], ['22855.jpg', 2], ['22811.jpg', 3], ['22467.jpg', 4], ['22209.jpg', 3], ['23625.jpg', 1], ['23458.jpg', 3], ['21900.jpg', 1], ['23079.jpg', 2], ['22011.jpg', 4], ['22078.jpg', 2], ['23008.jpg', 5], ['24007.jpg', 1], ['23522.jpg', 3], ['20421.jpg', 3], ['24258.jpg', 0], ['21857.jpg', 5], ['21269.jpg', 2], ['21870.jpg', 4], ['21421.jpg', 3], ['20330.jpg', 1], ['22159.jpg', 3], ['22161.jpg', 2], ['20461.jpg', 4], ['20460.jpg', 0], ['21418.jpg', 2], ['20400.jpg', 1], ['21910.jpg', 5], ['23096.jpg', 3], ['23290.jpg', 5], ['22849.jpg', 4], ['23796.jpg', 5], ['350.jpg', 5], ['24120.jpg', 0], ['22296.jpg', 0], ['20060.jpg', 0], ['20728.jpg', 1], ['20738.jpg', 2], ['21262.jpg', 3], ['20892.jpg', 5], ['22955.jpg', 4], ['22531.jpg', 0], ['22632.jpg', 5], ['22562.jpg', 0], ['20289.jpg', 4], ['24138.jpg', 5], ['23867.jpg', 4], ['20630.jpg', 0], ['21019.jpg', 3], ['20553.jpg', 0], ['20256.jpg', 4], ['21037.jpg', 4], ['20068.jpg', 3], ['21723.jpg', 5], ['22732.jpg', 3], ['21167.jpg', 5], ['548.jpg', 5], ['21173.jpg', 3], ['20603.jpg', 2], ['23961.jpg', 5], ['23242.jpg', 1], ['21591.jpg', 3], ['21197.jpg', 4], ['21627.jpg', 4], ['20692.jpg', 4], ['20131.jpg', 0], ['22990.jpg', 4], ['23353.jpg', 3], ['20440.jpg', 5], ['21448.jpg', 3], ['21720.jpg', 1], ['24145.jpg', 1], ['5.jpg', 0], ['22326.jpg', 4], ['22964.jpg', 2], ['21263.jpg', 4], ['23516.jpg', 2], ['20093.jpg', 2], ['22511.jpg', 4], ['23047.jpg', 4], ['21067.jpg', 4], ['23053.jpg', 1], ['21950.jpg', 2], ['22635.jpg', 2], ['20372.jpg', 2], ['23956.jpg', 2], ['21972.jpg', 1], ['23884.jpg', 2], ['20204.jpg', 2], ['21013.jpg', 3], ['23978.jpg', 3], ['21216.jpg', 3], ['20209.jpg', 5], ['21717.jpg', 2], ['20157.jpg', 3], ['23163.jpg', 5], ['23320.jpg', 2], ['22587.jpg', 0], ['22207.jpg', 4], ['23833.jpg', 0], ['21064.jpg', 2], ['20124.jpg', 4], ['21544.jpg', 2], ['21176.jpg', 2], ['21339.jpg', 0], ['23497.jpg', 3], ['22491.jpg', 4], ['24070.jpg', 5], ['23573.jpg', 5], ['20761.jpg', 1], ['23245.jpg', 3], ['23319.jpg', 5], ['22121.jpg', 4], ['22376.jpg', 1], ['22694.jpg', 2], ['458.jpg', 0], ['20166.jpg', 1], ['21945.jpg', 0], ['23151.jpg', 2], ['20691.jpg', 3], ['23656.jpg', 2], ['23694.jpg', 1], ['22557.jpg', 2], ['22401.jpg', 1], ['23257.jpg', 2], ['22373.jpg', 5], ['21362.jpg', 1], ['22563.jpg', 5], ['21036.jpg', 3], ['21578.jpg', 3], ['21043.jpg', 2], ['20895.jpg', 0], ['20737.jpg', 5], ['21721.jpg', 5], ['21163.jpg', 4], ['24034.jpg', 4], ['700.jpg', 5], ['20380.jpg', 2], ['20717.jpg', 1], ['20905.jpg', 4], ['21215.jpg', 2], ['21647.jpg', 3], ['23385.jpg', 0], ['23741.jpg', 0], ['24154.jpg', 3], ['920.jpg', 0], ['20439.jpg', 1], ['22913.jpg', 2], ['20520.jpg', 4], ['20545.jpg', 3], ['20917.jpg', 2], ['24100.jpg', 1], ['24309.jpg', 4], ['21715.jpg', 1], ['23635.jpg', 4], ['20216.jpg', 5], ['20954.jpg', 4], ['20342.jpg', 4], ['23233.jpg', 5], ['21558.jpg', 4], ['21872.jpg', 3], ['23644.jpg', 5], ['23660.jpg', 0], ['20433.jpg', 2], ['21911.jpg', 5], ['22162.jpg', 4], ['22866.jpg', 3], ['23687.jpg', 3], ['21383.jpg', 4], ['20210.jpg', 2], ['23294.jpg', 2], ['22441.jpg', 4], ['23652.jpg', 5], ['22543.jpg', 4], ['24325.jpg', 4], ['23472.jpg', 1], ['23073.jpg', 5], ['23405.jpg', 0], ['24001.jpg', 4], ['22844.jpg', 3], ['22620.jpg', 4], ['20802.jpg', 2], ['22956.jpg', 1], ['21856.jpg', 5], ['21669.jpg', 2], ['20870.jpg', 3], ['22014.jpg', 1], ['24185.jpg', 3], ['23511.jpg', 3], ['21658.jpg', 5], ['21356.jpg', 3], ['20271.jpg', 4], ['23521.jpg', 4], ['20643.jpg', 2], ['20288.jpg', 1], ['22775.jpg', 2], ['23585.jpg', 4], ['22379.jpg', 2], ['24141.jpg', 5], ['22448.jpg', 0], ['21073.jpg', 4], ['22973.jpg', 1], ['22132.jpg', 5], ['22124.jpg', 2], ['23829.jpg', 2], ['22266.jpg', 5], ['24096.jpg', 2], ['22804.jpg', 3], ['20202.jpg', 2], ['23299.jpg', 1], ['23185.jpg', 1], ['21957.jpg', 4], ['23150.jpg', 2], ['23866.jpg', 0], ['21810.jpg', 5], ['22160.jpg', 3], ['22459.jpg', 2], ['22025.jpg', 5], ['20064.jpg', 0], ['22777.jpg', 5], ['20734.jpg', 5], ['23116.jpg', 1], ['23032.jpg', 1], ['21581.jpg', 5], ['22991.jpg', 2], ['21916.jpg', 1], ['20221.jpg', 5], ['20344.jpg', 0], ['22090.jpg', 2], ['20826.jpg', 5], ['23091.jpg', 4], ['23176.jpg', 3], ['22001.jpg', 5], ['22073.jpg', 4], ['23272.jpg', 4], ['20966.jpg', 0], ['23369.jpg', 4], ['20467.jpg', 2], ['20066.jpg', 5], ['21846.jpg', 4], ['20363.jpg', 3], ['24301.jpg', 4], ['23167.jpg', 1], ['20916.jpg', 1], ['22046.jpg', 3], ['20358.jpg', 3], ['22588.jpg', 4], ['20958.jpg', 1], ['23329.jpg', 0], ['22068.jpg', 2], ['20680.jpg', 2], ['22127.jpg', 4], ['21828.jpg', 4], ['22942.jpg', 2], ['23653.jpg', 4], ['22868.jpg', 3], ['21589.jpg', 4], ['20088.jpg', 5], ['22908.jpg', 3], ['23117.jpg', 3], ['21800.jpg', 5], ['23613.jpg', 1], ['22012.jpg', 4], ['23918.jpg', 3], ['23729.jpg', 5], ['24006.jpg', 3], ['23310.jpg', 0], ['22647.jpg', 2], ['24066.jpg', 3], ['21390.jpg', 2], ['21699.jpg', 1], ['21497.jpg', 1], ['24172.jpg', 5], ['23413.jpg', 2], ['23106.jpg', 0], ['22634.jpg', 3], ['20459.jpg', 5], ['21040.jpg', 3], ['21170.jpg', 0], ['21666.jpg', 4], ['21465.jpg', 4], ['22577.jpg', 5], ['21859.jpg', 2], ['20133.jpg', 3], ['20848.jpg', 4], ['20282.jpg', 3], ['23557.jpg', 5], ['23584.jpg', 0], ['22760.jpg', 5], ['21993.jpg', 4], ['22962.jpg', 4], ['21676.jpg', 2], ['21572.jpg', 5], ['23955.jpg', 4], ['20413.jpg', 2], ['22776.jpg', 0], ['21789.jpg', 4], ['23337.jpg', 5], ['22993.jpg', 1], ['23321.jpg', 1], ['20927.jpg', 1], ['22163.jpg', 0], ['20482.jpg', 2], ['22936.jpg', 2], ['22883.jpg', 4], ['22304.jpg', 2], ['22425.jpg', 5], ['21135.jpg', 5], ['22745.jpg', 4], ['23810.jpg', 5], ['20475.jpg', 2], ['20672.jpg', 4], ['24051.jpg', 1], ['23792.jpg', 2], ['22230.jpg', 5], ['22398.jpg', 3], ['21061.jpg', 4], ['23854.jpg', 1], ['22133.jpg', 2], ['21430.jpg', 1], ['23611.jpg', 5], ['21459.jpg', 1], ['22933.jpg', 5], ['23476.jpg', 1], ['23346.jpg', 5], ['22286.jpg', 1], ['24219.jpg', 4], ['23127.jpg', 5], ['21505.jpg', 0], ['854.jpg', 0], ['22342.jpg', 1], ['22856.jpg', 0], ['22737.jpg', 5], ['23489.jpg', 4], ['22986.jpg', 5], ['23950.jpg', 5], ['20336.jpg', 5], ['21934.jpg', 2], ['24017.jpg', 0], ['23761.jpg', 3], ['22510.jpg', 2], ['23484.jpg', 4], ['20450.jpg', 1], ['23334.jpg', 3], ['22358.jpg', 2], ['21845.jpg', 4], ['21484.jpg', 1], ['22037.jpg', 2], ['22893.jpg', 3], ['23383.jpg', 2], ['20975.jpg', 4], ['22050.jpg', 1], ['23782.jpg', 1], ['23436.jpg', 2], ['22308.jpg', 1], ['23949.jpg', 1], ['21034.jpg', 5], ['20427.jpg', 3], ['20822.jpg', 4], ['22316.jpg', 5], ['20631.jpg', 2], ['22431.jpg', 3], ['21730.jpg', 4], ['21656.jpg', 0], ['23402.jpg', 1], ['22686.jpg', 5], ['21217.jpg', 4], ['24221.jpg', 5], ['22631.jpg', 0], ['21359.jpg', 5], ['20516.jpg', 5], ['21503.jpg', 5], ['21405.jpg', 4], ['24008.jpg', 2], ['23250.jpg', 4], ['20662.jpg', 2], ['20152.jpg', 5], ['24323.jpg', 3], ['20260.jpg', 1], ['21858.jpg', 5], ['21774.jpg', 3], ['20425.jpg', 0], ['22264.jpg', 2], ['22083.jpg', 4], ['22718.jpg', 4], ['22944.jpg', 1], ['22273.jpg', 3], ['22051.jpg', 3], ['23797.jpg', 3], ['22355.jpg', 1], ['23111.jpg', 5], ['23636.jpg', 2], ['22399.jpg', 2], ['24111.jpg', 4], ['23208.jpg', 5], ['23211.jpg', 5], ['22223.jpg', 5], ['20379.jpg', 4], ['21423.jpg', 5], ['23689.jpg', 5], ['20867.jpg', 3], ['22177.jpg', 1], ['24053.jpg', 0], ['21840.jpg', 4], ['21243.jpg', 0], ['22596.jpg', 0], ['22156.jpg', 5], ['20769.jpg', 4], ['22696.jpg', 2], ['22970.jpg', 5], ['22110.jpg', 0], ['23603.jpg', 2], ['22719.jpg', 4], ['22644.jpg', 5], ['21412.jpg', 2], ['497.jpg', 5], ['21293.jpg', 0], ['22862.jpg', 1], ['20362.jpg', 2], ['21574.jpg', 1], ['24005.jpg', 1], ['20686.jpg', 1], ['20138.jpg', 4], ['22293.jpg', 1], ['21707.jpg', 4], ['20638.jpg', 1], ['23171.jpg', 3], ['21818.jpg', 1], ['20490.jpg', 2], ['21443.jpg', 1], ['144.jpg', 5], ['23860.jpg', 5], ['21553.jpg', 2], ['20504.jpg', 0], ['20642.jpg', 5], ['23871.jpg', 2], ['20327.jpg', 3], ['20304.jpg', 4], ['21864.jpg', 1], ['22036.jpg', 2], ['20078.jpg', 0], ['20100.jpg', 1], ['23380.jpg', 1], ['20457.jpg', 2], ['22476.jpg', 5], ['22222.jpg', 2], ['21685.jpg', 1], ['20637.jpg', 0], ['22208.jpg', 0], ['21771.jpg', 2], ['21310.jpg', 1], ['20921.jpg', 2], ['23491.jpg', 1], ['21961.jpg', 2], ['23276.jpg', 1], ['22453.jpg', 5], ['23246.jpg', 3], ['23155.jpg', 5], ['952.jpg', 0], ['21199.jpg', 3], ['22183.jpg', 5], ['22731.jpg', 1], ['22890.jpg', 3], ['23965.jpg', 4], ['22390.jpg', 2], ['20874.jpg', 0], ['21675.jpg', 2], ['24083.jpg', 0], ['23591.jpg', 1], ['23254.jpg', 4], ['21319.jpg', 0], ['20650.jpg', 1], ['23785.jpg', 2], ['20963.jpg', 2], ['20968.jpg', 0], ['22707.jpg', 1], ['23218.jpg', 1], ['23295.jpg', 0], ['21434.jpg', 5], ['20397.jpg', 3], ['20629.jpg', 0], ['22761.jpg', 3], ['24184.jpg', 3], ['156.jpg', 0], ['22484.jpg', 4], ['20648.jpg', 0], ['20273.jpg', 4], ['21703.jpg', 0], ['24159.jpg', 5], ['21407.jpg', 3], ['24094.jpg', 3], ['20863.jpg', 5], ['21258.jpg', 4], ['20163.jpg', 5], ['20783.jpg', 2], ['24004.jpg', 3], ['22370.jpg', 0], ['24027.jpg', 4], ['21212.jpg', 1], ['21653.jpg', 5], ['23189.jpg', 2], ['21634.jpg', 5], ['23845.jpg', 5], ['20384.jpg', 1], ['22555.jpg', 4], ['22368.jpg', 5], ['21890.jpg', 1], ['20419.jpg', 4], ['20985.jpg', 3], ['21518.jpg', 2], ['22434.jpg', 1], ['21710.jpg', 4], ['21303.jpg', 2], ['20918.jpg', 0], ['21613.jpg', 3], ['20988.jpg', 5], ['20335.jpg', 5], ['20120.jpg', 3], ['24165.jpg', 3], ['21724.jpg', 5], ['23336.jpg', 4], ['24317.jpg', 5], ['22869.jpg', 3], ['22876.jpg', 2], ['20613.jpg', 3], ['22102.jpg', 4], ['22996.jpg', 1], ['20406.jpg', 2], ['23835.jpg', 5], ['21598.jpg', 4], ['20713.jpg', 2], ['22154.jpg', 4], ['22725.jpg', 5], ['20873.jpg', 4], ['1081.jpg', 0], ['24040.jpg', 5], ['21367.jpg', 0], ['24126.jpg', 4], ['23452.jpg', 4], ['20811.jpg', 4], ['23576.jpg', 4], ['23912.jpg', 1], ['22963.jpg', 4], ['24242.jpg', 3], ['23974.jpg', 4], ['21948.jpg', 0], ['21022.jpg', 4], ['22331.jpg', 1], ['22859.jpg', 3], ['22096.jpg', 1], ['23309.jpg', 1], ['21533.jpg', 4], ['22786.jpg', 5], ['24271.jpg', 0], ['22461.jpg', 5], ['20882.jpg', 4], ['22201.jpg', 1], ['21203.jpg', 0], ['24021.jpg', 2], ['23758.jpg', 5], ['20766.jpg', 0], ['20574.jpg', 5], ['22487.jpg', 4], ['21702.jpg', 4], ['22086.jpg', 3], ['23726.jpg', 0], ['21851.jpg', 2], ['20794.jpg', 1], ['22243.jpg', 1], ['23661.jpg', 2], ['21366.jpg', 1], ['21645.jpg', 1], ['23795.jpg', 5], ['23736.jpg', 3], ['22626.jpg', 4], ['22444.jpg', 3], ['24199.jpg', 5], ['22624.jpg', 0], ['20390.jpg', 0], ['23174.jpg', 2], ['23559.jpg', 3], ['23838.jpg', 2], ['22567.jpg', 3], ['20126.jpg', 5], ['21455.jpg', 4], ['20179.jpg', 2], ['20556.jpg', 1], ['22058.jpg', 0], ['23632.jpg', 1], ['21247.jpg', 3], ['21662.jpg', 4], ['23746.jpg', 3], ['20746.jpg', 2], ['24205.jpg', 0], ['20173.jpg', 1], ['23889.jpg', 4], ['20719.jpg', 5], ['22479.jpg', 3], ['21804.jpg', 2], ['20741.jpg', 3], ['23947.jpg', 4], ['21605.jpg', 3], ['20730.jpg', 0], ['20900.jpg', 1], ['20269.jpg', 4], ['22182.jpg', 2], ['22245.jpg', 4], ['20991.jpg', 3], ['22432.jpg', 4], ['21750.jpg', 3], ['21032.jpg', 4], ['22810.jpg', 0], ['22391.jpg', 3], ['23049.jpg', 4], ['22717.jpg', 5], ['24076.jpg', 4], ['23470.jpg', 3], ['21427.jpg', 5], ['23432.jpg', 3], ['21377.jpg', 3], ['22277.jpg', 3], ['20159.jpg', 1], ['23822.jpg', 2], ['24152.jpg', 2], ['22960.jpg', 3], ['21456.jpg', 4], ['22846.jpg', 3], ['23286.jpg', 5], ['23477.jpg', 1], ['22185.jpg', 0], ['21587.jpg', 1], ['22386.jpg', 4], ['23541.jpg', 3], ['24082.jpg', 1], ['24128.jpg', 4], ['21488.jpg', 3], ['22643.jpg', 1], ['23349.jpg', 5], ['21776.jpg', 5], ['23182.jpg', 5], ['21618.jpg', 3], ['24252.jpg', 3], ['24022.jpg', 2], ['21409.jpg', 2], ['23962.jpg', 2], ['23855.jpg', 4], ['20933.jpg', 2], ['23368.jpg', 1], ['21387.jpg', 0], ['21245.jpg', 4], ['21943.jpg', 3], ['22375.jpg', 5], ['20889.jpg', 4], ['20808.jpg', 5], ['23094.jpg', 1], ['23610.jpg', 3], ['20070.jpg', 5], ['23886.jpg', 0], ['20317.jpg', 2], ['21400.jpg', 5], ['21665.jpg', 3], ['20816.jpg', 1], ['20160.jpg', 2], ['22997.jpg', 4], ['22262.jpg', 4], ['23172.jpg', 4], ['23766.jpg', 5], ['20443.jpg', 3], ['22437.jpg', 4], ['21781.jpg', 3], ['23510.jpg', 5], ['21336.jpg', 2], ['23183.jpg', 5], ['20666.jpg', 0], ['20558.jpg', 5], ['22034.jpg', 4], ['24274.jpg', 4], ['21492.jpg', 3], ['20671.jpg', 3], ['21570.jpg', 3], ['21842.jpg', 2], ['22671.jpg', 0], ['20931.jpg', 5], ['20129.jpg', 3], ['23169.jpg', 3], ['22727.jpg', 4], ['20059.jpg', 2], ['21638.jpg', 4], ['22157.jpg', 3], ['22410.jpg', 0], ['23090.jpg', 1], ['20621.jpg', 5], ['20825.jpg', 1], ['20114.jpg', 4], ['22004.jpg', 1], ['23869.jpg', 2], ['23492.jpg', 2], ['23009.jpg', 0], ['22763.jpg', 1], ['20328.jpg', 1], ['21462.jpg', 4], ['22442.jpg', 0], ['20950.jpg', 2], ['20502.jpg', 1], ['23502.jpg', 1], ['20527.jpg', 5], ['22958.jpg', 3], ['21276.jpg', 3], ['20255.jpg', 4], ['22406.jpg', 5], ['23753.jpg', 2], ['23122.jpg', 1], ['22175.jpg', 0], ['20332.jpg', 5], ['20589.jpg', 3], ['20544.jpg', 1], ['21897.jpg', 0], ['22070.jpg', 4], ['21234.jpg', 4], ['22126.jpg', 3], ['20438.jpg', 3], ['22088.jpg', 0], ['22015.jpg', 2], ['23023.jpg', 0], ['20679.jpg', 4], ['20373.jpg', 2], ['21682.jpg', 5], ['20884.jpg', 5], ['22593.jpg', 5], ['520.jpg', 0], ['21905.jpg', 0], ['22976.jpg', 5], ['24161.jpg', 5], ['22473.jpg', 4], ['24108.jpg', 1], ['21422.jpg', 1], ['22845.jpg', 1], ['21768.jpg', 2], ['23979.jpg', 1], ['20893.jpg', 4], ['23806.jpg', 4], ['21102.jpg', 2], ['21092.jpg', 2], ['21597.jpg', 0], ['22768.jpg', 3], ['20326.jpg', 2], ['23156.jpg', 1], ['21995.jpg', 2], ['23578.jpg', 2], ['23744.jpg', 2], ['20367.jpg', 5], ['23643.jpg', 5], ['21285.jpg', 4], ['20212.jpg', 4], ['23942.jpg', 3], ['23260.jpg', 2], ['23036.jpg', 4], ['23097.jpg', 0], ['23982.jpg', 0], ['20796.jpg', 3], ['23149.jpg', 2], ['21445.jpg', 0], ['21014.jpg', 4], ['20231.jpg', 0], ['24018.jpg', 4], ['23377.jpg', 1], ['21960.jpg', 3], ['20074.jpg', 0], ['22082.jpg', 5], ['24049.jpg', 2], ['24267.jpg', 2], ['23975.jpg', 3], ['22959.jpg', 3], ['23872.jpg', 4], ['23534.jpg', 1], ['20098.jpg', 1], ['22670.jpg', 2], ['22586.jpg', 0], ['20315.jpg', 1], ['23630.jpg', 3], ['20678.jpg', 4], ['23194.jpg', 4], ['22351.jpg', 4], ['20175.jpg', 1], ['23798.jpg', 1], ['24091.jpg', 3], ['849.jpg', 0], ['22204.jpg', 5], ['21307.jpg', 2], ['23297.jpg', 0], ['21361.jpg', 2], ['24112.jpg', 2], ['22137.jpg', 2], ['21862.jpg', 4], ['22105.jpg', 4], ['22187.jpg', 2], ['21937.jpg', 4], ['20960.jpg', 0], ['23910.jpg', 2], ['22688.jpg', 4], ['21808.jpg', 3], ['21463.jpg', 2], ['24056.jpg', 2], ['23138.jpg', 5], ['20992.jpg', 3], ['22527.jpg', 5], ['23560.jpg', 1], ['22462.jpg', 0], ['24311.jpg', 4], ['21819.jpg', 3], ['22528.jpg', 4], ['20771.jpg', 0], ['23555.jpg', 0], ['23594.jpg', 0], ['22608.jpg', 3], ['21458.jpg', 5], ['22272.jpg', 3], ['22580.jpg', 4], ['21318.jpg', 0], ['21396.jpg', 3], ['23463.jpg', 1], ['20815.jpg', 2], ['21829.jpg', 3], ['23465.jpg', 1], ['21478.jpg', 2], ['23551.jpg', 1], ['22415.jpg', 0], ['21965.jpg', 1], ['23234.jpg', 5], ['22495.jpg', 5], ['21543.jpg', 2], ['23069.jpg', 4], ['20540.jpg', 2], ['23668.jpg', 5], ['21754.jpg', 0], ['21903.jpg', 4], ['23769.jpg', 4], ['21020.jpg', 1], ['655.jpg', 5], ['20528.jpg', 3], ['23400.jpg', 4], ['23316.jpg', 0], ['20537.jpg', 5], ['23749.jpg', 5], ['20858.jpg', 0], ['21066.jpg', 0], ['23825.jpg', 0], ['24099.jpg', 4], ['21929.jpg', 5], ['21525.jpg', 4], ['20664.jpg', 4], ['23935.jpg', 5], ['23107.jpg', 1], ['20172.jpg', 4], ['23135.jpg', 4], ['20477.jpg', 2], ['23164.jpg', 2], ['21100.jpg', 5], ['24163.jpg', 4], ['24245.jpg', 4], ['23293.jpg', 4], ['20733.jpg', 5], ['24139.jpg', 5], ['811.jpg', 0], ['22193.jpg', 2], ['20653.jpg', 5], ['21496.jpg', 0], ['20111.jpg', 2], ['21592.jpg', 2], ['21650.jpg', 3], ['21139.jpg', 1], ['20942.jpg', 4], ['24147.jpg', 2], ['22556.jpg', 2], ['23641.jpg', 4], ['23428.jpg', 3], ['21185.jpg', 5], ['20585.jpg', 3], ['23775.jpg', 3], ['22440.jpg', 4], ['23512.jpg', 5], ['21775.jpg', 4], ['23404.jpg', 0], ['20292.jpg', 2], ['23282.jpg', 2], ['20644.jpg', 4], ['21213.jpg', 2], ['21191.jpg', 4], ['22969.jpg', 0], ['23709.jpg', 1], ['22858.jpg', 3], ['20565.jpg', 3], ['21807.jpg', 4], ['20687.jpg', 4], ['21970.jpg', 0], ['22045.jpg', 0], ['20181.jpg', 3], ['21274.jpg', 2], ['22290.jpg', 3], ['21231.jpg', 2], ['20177.jpg', 0], ['21600.jpg', 3], ['20706.jpg', 2], ['20274.jpg', 1], ['20869.jpg', 4], ['22111.jpg', 1], ['23131.jpg', 2], ['22227.jpg', 0], ['21876.jpg', 3], ['20899.jpg', 5], ['21049.jpg', 2], ['21256.jpg', 3], ['23382.jpg', 4], ['21442.jpg', 4], ['21576.jpg', 4], ['21344.jpg', 1], ['23265.jpg', 4], ['23637.jpg', 5], ['21399.jpg', 0], ['22261.jpg', 3], ['23375.jpg', 5], ['23529.jpg', 0], ['21291.jpg', 0], ['23098.jpg', 2], ['21641.jpg', 5], ['22129.jpg', 4], ['22928.jpg', 3], ['21046.jpg', 1], ['22278.jpg', 3], ['23748.jpg', 2], ['20940.jpg', 3], ['21044.jpg', 5], ['20676.jpg', 3], ['21481.jpg', 4], ['22606.jpg', 2], ['20887.jpg', 2], ['23409.jpg', 0], ['21538.jpg', 1], ['24124.jpg', 5], ['24123.jpg', 4], ['20885.jpg', 1], ['21063.jpg', 2], ['21214.jpg', 3], ['24131.jpg', 0], ['22720.jpg', 3], ['20067.jpg', 0], ['20549.jpg', 0], ['20167.jpg', 4], ['23137.jpg', 5], ['22797.jpg', 3], ['20832.jpg', 2], ['22228.jpg', 5], ['22057.jpg', 5], ['23232.jpg', 3], ['22826.jpg', 5], ['20313.jpg', 4], ['22026.jpg', 2], ['24273.jpg', 3], ['20937.jpg', 5], ['20810.jpg', 2], ['21007.jpg', 5], ['22464.jpg', 5], ['21527.jpg', 5], ['20906.jpg', 2], ['24218.jpg', 2], ['23669.jpg', 5], ['22712.jpg', 3], ['20150.jpg', 1], ['22325.jpg', 4], ['22087.jpg', 1], ['22100.jpg', 2], ['23713.jpg', 1], ['23735.jpg', 0], ['21813.jpg', 3], ['23247.jpg', 4], ['22141.jpg', 3], ['22518.jpg', 2], ['23604.jpg', 0], ['23273.jpg', 5], ['20190.jpg', 4], ['24214.jpg', 4], ['23361.jpg', 2], ['20834.jpg', 4], ['515.jpg', 5], ['22455.jpg', 4], ['20888.jpg', 5], ['21224.jpg', 4], ['20533.jpg', 1], ['21794.jpg', 1], ['23929.jpg', 2], ['24011.jpg', 2], ['20497.jpg', 3], ['21826.jpg', 3], ['20398.jpg', 2], ['21220.jpg', 5], ['24320.jpg', 0], ['20318.jpg', 5], ['22656.jpg', 5], ['23909.jpg', 2], ['22411.jpg', 3], ['21008.jpg', 2], ['20184.jpg', 5], ['21428.jpg', 4], ['23058.jpg', 4], ['23577.jpg', 5], ['23228.jpg', 5], ['21378.jpg', 4], ['20084.jpg', 5], ['23187.jpg', 4], ['21516.jpg', 0], ['20670.jpg', 5], ['21635.jpg', 4], ['23821.jpg', 5], ['22515.jpg', 3], ['22665.jpg', 0], ['21892.jpg', 5], ['22043.jpg', 2], ['23496.jpg', 3], ['22754.jpg', 2], ['20896.jpg', 0], ['23879.jpg', 1], ['20108.jpg', 1], ['22818.jpg', 3], ['23639.jpg', 0], ['20944.jpg', 5], ['20640.jpg', 4], ['22299.jpg', 1], ['22673.jpg', 5], ['22953.jpg', 0], ['22457.jpg', 5], ['22377.jpg', 4], ['24321.jpg', 3], ['20821.jpg', 2], ['21119.jpg', 2], ['23052.jpg', 5], ['23101.jpg', 1], ['21735.jpg', 1], ['22520.jpg', 3], ['22409.jpg', 0], ['22980.jpg', 4], ['21648.jpg', 0], ['20480.jpg', 2], ['22581.jpg', 2], ['20994.jpg', 5], ['23277.jpg', 3], ['21352.jpg', 1], ['20635.jpg', 0], ['23478.jpg', 2], ['24119.jpg', 0], ['22120.jpg', 5], ['20934.jpg', 5], ['22813.jpg', 0], ['21524.jpg', 2], ['20522.jpg', 4], ['22782.jpg', 2], ['20844.jpg', 2], ['20983.jpg', 2], ['21286.jpg', 0], ['21545.jpg', 3], ['22998.jpg', 2], ['23388.jpg', 0], ['21569.jpg', 4], ['24088.jpg', 4], ['22542.jpg', 1], ['24269.jpg', 5], ['21868.jpg', 1], ['23527.jpg', 0], ['22009.jpg', 3], ['21677.jpg', 1], ['23629.jpg', 2], ['20866.jpg', 3], ['24077.jpg', 5], ['23003.jpg', 0], ['22812.jpg', 0], ['22721.jpg', 4], ['22598.jpg', 5], ['22995.jpg', 0], ['20136.jpg', 1], ['20804.jpg', 0], ['21884.jpg', 1], ['20915.jpg', 5], ['22625.jpg', 2], ['20952.jpg', 0], ['22903.jpg', 5], ['22664.jpg', 4], ['22805.jpg', 1], ['22426.jpg', 5], ['21153.jpg', 2], ['23977.jpg', 2], ['20651.jpg', 3], ['21272.jpg', 4], ['21894.jpg', 1], ['22301.jpg', 5], ['23393.jpg', 1], ['20577.jpg', 3], ['20206.jpg', 0], ['24155.jpg', 4], ['21006.jpg', 4], ['22766.jpg', 2], ['23281.jpg', 4], ['24075.jpg', 3], ['23812.jpg', 2], ['24072.jpg', 1], ['21209.jpg', 1], ['21162.jpg', 3], ['24270.jpg', 5], ['20776.jpg', 0], ['24150.jpg', 2], ['20854.jpg', 2], ['22136.jpg', 1], ['20531.jpg', 4], ['21749.jpg', 5], ['20211.jpg', 2], ['23678.jpg', 4], ['20740.jpg', 1], ['21419.jpg', 0], ['24118.jpg', 5], ['21542.jpg', 3], ['22640.jpg', 5], ['21329.jpg', 2], ['22780.jpg', 3], ['23657.jpg', 1], ['21486.jpg', 3], ['22031.jpg', 5], ['20580.jpg', 0], ['24130.jpg', 1], ['22384.jpg', 0], ['23959.jpg', 4], ['22538.jpg', 1], ['21964.jpg', 1], ['22925.jpg', 2], ['22709.jpg', 5], ['24286.jpg', 3], ['20225.jpg', 1], ['20394.jpg', 0], ['20619.jpg', 1], ['20972.jpg', 5], ['23318.jpg', 3], ['23837.jpg', 4], ['20347.jpg', 4], ['20195.jpg', 2], ['20250.jpg', 0], ['20702.jpg', 3], ['23851.jpg', 4], ['20072.jpg', 4], ['24261.jpg', 2], ['22366.jpg', 5], ['21537.jpg', 2], ['23344.jpg', 1], ['20835.jpg', 5], ['22678.jpg', 4], ['22687.jpg', 2], ['21086.jpg', 5], ['20980.jpg', 3], ['21517.jpg', 3], ['20634.jpg', 4], ['21547.jpg', 5], ['23454.jpg', 5], ['21138.jpg', 4], ['23259.jpg', 1], ['22824.jpg', 4], ['20559.jpg', 3], ['24234.jpg', 1], ['23435.jpg', 0], ['22774.jpg', 1], ['23804.jpg', 4], ['24282.jpg', 3], ['23084.jpg', 1], ['22668.jpg', 5], ['23875.jpg', 1], ['22283.jpg', 5], ['20685.jpg', 1], ['21060.jpg', 2], ['23739.jpg', 2], ['21663.jpg', 0], ['20487.jpg', 5], ['23948.jpg', 5], ['23240.jpg', 1], ['23193.jpg', 0], ['21148.jpg', 0], ['20306.jpg', 1], ['22522.jpg', 4], ['23547.jpg', 5], ['22747.jpg', 4], ['21881.jpg', 2], ['20245.jpg', 0], ['21599.jpg', 0], ['21895.jpg', 3], ['21415.jpg', 3], ['22173.jpg', 4], ['21035.jpg', 2], ['21633.jpg', 2], ['21410.jpg', 5], ['20115.jpg', 4], ['21358.jpg', 1], ['23682.jpg', 4], ['22169.jpg', 1], ['22570.jpg', 1], ['20311.jpg', 1], ['20833.jpg', 1], ['23589.jpg', 2], ['21712.jpg', 0], ['22871.jpg', 3], ['20153.jpg', 3], ['22478.jpg', 4], ['20806.jpg', 5], ['21137.jpg', 5], ['23161.jpg', 1], ['21764.jpg', 0], ['23638.jpg', 4], ['23001.jpg', 2], ['20186.jpg', 0], ['20073.jpg', 0], ['21942.jpg', 2], ['23363.jpg', 3], ['20329.jpg', 2], ['21918.jpg', 4], ['23695.jpg', 1], ['22821.jpg', 0], ['24266.jpg', 4], ['20948.jpg', 2], ['23814.jpg', 5], ['23370.jpg', 3], ['23462.jpg', 1], ['22691.jpg', 0], ['605.jpg', 0], ['20357.jpg', 5], ['21889.jpg', 4], ['23201.jpg', 3], ['24109.jpg', 2], ['20971.jpg', 3], ['23125.jpg', 2], ['20955.jpg', 4], ['21077.jpg', 5], ['22165.jpg', 3], ['21241.jpg', 5], ['22246.jpg', 4], ['22690.jpg', 4], ['22493.jpg', 3], ['20856.jpg', 4], ['23351.jpg', 4], ['22247.jpg', 1], ['20265.jpg', 4], ['20718.jpg', 1], ['22881.jpg', 4], ['692.jpg', 1], ['22267.jpg', 0], ['23938.jpg', 3], ['20081.jpg', 4], ['23195.jpg', 5], ['20076.jpg', 4], ['21369.jpg', 3], ['22237.jpg', 4], ['23371.jpg', 1], ['22616.jpg', 4], ['20090.jpg', 5], ['21435.jpg', 5], ['20094.jpg', 0], ['22654.jpg', 5], ['20599.jpg', 3], ['22915.jpg', 2], ['23565.jpg', 2], ['21978.jpg', 3], ['23248.jpg', 4], ['21919.jpg', 1], ['20366.jpg', 0], ['961.jpg', 0], ['745.jpg', 0], ['20112.jpg', 4], ['21433.jpg', 0], ['671.jpg', 5], ['24106.jpg', 5], ['23743.jpg', 1], ['20926.jpg', 0], ['23937.jpg', 5], ['989.jpg', 0], ['22924.jpg', 2], ['22819.jpg', 1], ['22265.jpg', 2], ['22965.jpg', 5], ['21772.jpg', 5], ['22875.jpg', 4], ['22917.jpg', 1], ['21747.jpg', 2], ['736.jpg', 0], ['21226.jpg', 3], ['23715.jpg', 2], ['23943.jpg', 5], ['22101.jpg', 3], ['23624.jpg', 4], ['21756.jpg', 4], ['23474.jpg', 1], ['21798.jpg', 1], ['21546.jpg', 2], ['21174.jpg', 5], ['20785.jpg', 1], ['21697.jpg', 3], ['22093.jpg', 1], ['20986.jpg', 3], ['20246.jpg', 5], ['22820.jpg', 3], ['24136.jpg', 4], ['22309.jpg', 3], ['20519.jpg', 4], ['20446.jpg', 2], ['20080.jpg', 5], ['20382.jpg', 4], ['23338.jpg', 5], ['23475.jpg', 0], ['23180.jpg', 3], ['21309.jpg', 0], ['23048.jpg', 0], ['22134.jpg', 0], ['22387.jpg', 0], ['23162.jpg', 4], ['21904.jpg', 1], ['24085.jpg', 5], ['23771.jpg', 2], ['24244.jpg', 2], ['21907.jpg', 2], ['22885.jpg', 3], ['22335.jpg', 3], ['22241.jpg', 2], ['20674.jpg', 1], ['1053.jpg', 0], ['23022.jpg', 4], ['21499.jpg', 5], ['20123.jpg', 3], ['20602.jpg', 5], ['22329.jpg', 5], ['21737.jpg', 4], ['22882.jpg', 2], ['22653.jpg', 2], ['388.jpg', 0], ['23006.jpg', 4], ['22253.jpg', 3], ['23818.jpg', 1], ['20511.jpg', 4], ['21860.jpg', 4], ['24186.jpg', 4], ['21563.jpg', 4], ['23222.jpg', 4], ['21898.jpg', 4], ['21784.jpg', 4], ['21783.jpg', 1], ['21535.jpg', 4], ['20401.jpg', 3], ['24122.jpg', 4], ['22646.jpg', 3], ['22639.jpg', 1], ['22197.jpg', 1], ['20498.jpg', 5], ['22769.jpg', 3], ['23997.jpg', 0], ['20663.jpg', 0], ['22736.jpg', 4], ['22738.jpg', 1], ['20356.jpg', 2], ['23868.jpg', 3], ['23737.jpg', 0], ['21151.jpg', 0], ['22109.jpg', 5], ['24166.jpg', 3], ['23453.jpg', 1], ['24249.jpg', 2], ['21313.jpg', 2], ['20999.jpg', 4], ['23549.jpg', 4], ['20539.jpg', 2], ['22637.jpg', 0], ['23655.jpg', 2], ['21513.jpg', 4], ['23144.jpg', 5], ['22669.jpg', 5], ['21893.jpg', 3], ['24280.jpg', 5], ['21093.jpg', 3], ['21054.jpg', 4], ['22536.jpg', 2], ['22667.jpg', 2], ['21237.jpg', 4], ['23984.jpg', 1], ['23153.jpg', 3], ['22362.jpg', 2], ['21175.jpg', 5], ['21059.jpg', 3], ['22741.jpg', 0], ['24044.jpg', 1], ['20904.jpg', 0], ['22847.jpg', 1], ['20510.jpg', 1], ['22258.jpg', 2], ['21229.jpg', 0], ['21557.jpg', 4], ['24292.jpg', 5], ['22735.jpg', 0], ['21179.jpg', 1], ['23710.jpg', 2], ['22315.jpg', 0], ['22240.jpg', 5], ['24283.jpg', 3], ['20690.jpg', 3], ['22575.jpg', 1], ['20608.jpg', 3], ['21476.jpg', 4], ['20725.jpg', 0], ['23542.jpg', 0], ['21328.jpg', 4], ['23945.jpg', 0], ['20331.jpg', 5], ['513.jpg', 0], ['22184.jpg', 2], ['22219.jpg', 4], ['23995.jpg', 5], ['22249.jpg', 5], ['21736.jpg', 1], ['22128.jpg', 1], ['21984.jpg', 2], ['22879.jpg', 5], ['23548.jpg', 2], ['20222.jpg', 5], ['22989.jpg', 0], ['23640.jpg', 1], ['21169.jpg', 1], ['22911.jpg', 0], ['22475.jpg', 3], ['21812.jpg', 4], ['22716.jpg', 3], ['23143.jpg', 0], ['23667.jpg', 4], ['24179.jpg', 5], ['20617.jpg', 3], ['22343.jpg', 3], ['23332.jpg', 1], ['23927.jpg', 4], ['21468.jpg', 3], ['21038.jpg', 3], ['21011.jpg', 0], ['21475.jpg', 2], ['20268.jpg', 0], ['21018.jpg', 1], ['21334.jpg', 4], ['22919.jpg', 2], ['20703.jpg', 3], ['21158.jpg', 0], ['23563.jpg', 2], ['20142.jpg', 2], ['23903.jpg', 2], ['22941.jpg', 0], ['20615.jpg', 5], ['21726.jpg', 3], ['21380.jpg', 5], ['22085.jpg', 4], ['24043.jpg', 3], ['20754.jpg', 1], ['23315.jpg', 5], ['22948.jpg', 4], ['21004.jpg', 3], ['21118.jpg', 3], ['24189.jpg', 4], ['22003.jpg', 4], ['20763.jpg', 2], ['21609.jpg', 4], ['20508.jpg', 2], ['20353.jpg', 5], ['22205.jpg', 2], ['22188.jpg', 3], ['22842.jpg', 2], ['22147.jpg', 4], ['21232.jpg', 0], ['23538.jpg', 3], ['22232.jpg', 5], ['22599.jpg', 3], ['21706.jpg', 0], ['21271.jpg', 0], ['22870.jpg', 5], ['22074.jpg', 1], ['20165.jpg', 4], ['23958.jpg', 5], ['22583.jpg', 3], ['23747.jpg', 1], ['21025.jpg', 2], ['24170.jpg', 4], ['21454.jpg', 5], ['21001.jpg', 1], ['20684.jpg', 3], ['22681.jpg', 2], ['22814.jpg', 1], ['23119.jpg', 4], ['22380.jpg', 5], ['23791.jpg', 1], ['24222.jpg', 1], ['22898.jpg', 5], ['20622.jpg', 0], ['23448.jpg', 2], ['22306.jpg', 3], ['24087.jpg', 0], ['22652.jpg', 5], ['20281.jpg', 2], ['20402.jpg', 4], ['24196.jpg', 2], ['20178.jpg', 5], ['20668.jpg', 2], ['21556.jpg', 2], ['20554.jpg', 0], ['21290.jpg', 2], ['23175.jpg', 0], ['23421.jpg', 0], ['20494.jpg', 2], ['20995.jpg', 5], ['20264.jpg', 4], ['24032.jpg', 3], ['20423.jpg', 2], ['23186.jpg', 5], ['24135.jpg', 5], ['24178.jpg', 1], ['23817.jpg', 1], ['23284.jpg', 5], ['20144.jpg', 3], ['24039.jpg', 1], ['22337.jpg', 4], ['22042.jpg', 3], ['22886.jpg', 2], ['23540.jpg', 1], ['20061.jpg', 0], ['20176.jpg', 3], ['21052.jpg', 1], ['22974.jpg', 2], ['21584.jpg', 1], ['20897.jpg', 5], ['22689.jpg', 5], ['20374.jpg', 0], ['23781.jpg', 5], ['23724.jpg', 2], ['22938.jpg', 5], ['23642.jpg', 5], ['21568.jpg', 4], ['23530.jpg', 5], ['21814.jpg', 1], ['20310.jpg', 2], ['21304.jpg', 2], ['23188.jpg', 0], ['22711.jpg', 4], ['20857.jpg', 2], ['20228.jpg', 0], ['20928.jpg', 0], ['21281.jpg', 1], ['20710.jpg', 0], ['22935.jpg', 5], ['22314.jpg', 5], ['22458.jpg', 5], ['21711.jpg', 3], ['21302.jpg', 2], ['22317.jpg', 0], ['20996.jpg', 1], ['20062.jpg', 1], ['20247.jpg', 4], ['21472.jpg', 2], ['23280.jpg', 4], ['20077.jpg', 4], ['23567.jpg', 1], ['22005.jpg', 2], ['22252.jpg', 0], ['145.jpg', 0], ['24284.jpg', 3], ['22054.jpg', 2], ['20767.jpg', 3], ['23093.jpg', 4], ['22322.jpg', 5], ['23444.jpg', 5], ['23596.jpg', 2], ['20712.jpg', 2], ['22534.jpg', 5], ['22030.jpg', 3], ['24248.jpg', 2], ['21123.jpg', 2], ['616.jpg', 0], ['24000.jpg', 4], ['22189.jpg', 3], ['20843.jpg', 5], ['21996.jpg', 4], ['20091.jpg', 1], ['21678.jpg', 5], ['24334.jpg', 2], ['21780.jpg', 5], ['21941.jpg', 5], ['1020.jpg', 0], ['20898.jpg', 0], ['23067.jpg', 1], ['23348.jpg', 2], ['23443.jpg', 2], ['21150.jpg', 1], ['23750.jpg', 1], ['20365.jpg', 5], ['20474.jpg', 5], ['22661.jpg', 4], ['22514.jpg', 1], ['21426.jpg', 0], ['278.jpg', 0], ['22987.jpg', 0], ['22098.jpg', 0], ['21129.jpg', 4], ['20925.jpg', 1], ['21280.jpg', 3], ['20842.jpg', 2], ['22279.jpg', 2], ['21805.jpg', 2], ['21183.jpg', 2], ['22424.jpg', 2], ['20876.jpg', 3], ['22338.jpg', 3], ['22091.jpg', 2], ['23192.jpg', 4], ['668.jpg', 0], ['23398.jpg', 2], ['22831.jpg', 4], ['23617.jpg', 1], ['22571.jpg', 5], ['21078.jpg', 2], ['24209.jpg', 4], ['21827.jpg', 0], ['21392.jpg', 4], ['21483.jpg', 1], ['20723.jpg', 0], ['20984.jpg', 1], ['21959.jpg', 5], ['21414.jpg', 4], ['23229.jpg', 4], ['20840.jpg', 4], ['22851.jpg', 2], ['21155.jpg', 2], ['20236.jpg', 4], ['22357.jpg', 0], ['22340.jpg', 2], ['20846.jpg', 5], ['20296.jpg', 5], ['21296.jpg', 0], ['24026.jpg', 5], ['22595.jpg', 1], ['20688.jpg', 0], ['23733.jpg', 5], ['24062.jpg', 0], ['23230.jpg', 2], ['22954.jpg', 2], ['23728.jpg', 1], ['21207.jpg', 1], ['24294.jpg', 4], ['21913.jpg', 5], ['21095.jpg', 1], ['22602.jpg', 1], ['21991.jpg', 1], ['21000.jpg', 2], ['23764.jpg', 1], ['22494.jpg', 3], ['20658.jpg', 2], ['24310.jpg', 2], ['21244.jpg', 3], ['22032.jpg', 5], ['20092.jpg', 2], ['21406.jpg', 4], ['21751.jpg', 2], ['20189.jpg', 3], ['20624.jpg', 2], ['21306.jpg', 4], ['20961.jpg', 3], ['22589.jpg', 4], ['23205.jpg', 4], ['23676.jpg', 2], ['23459.jpg', 0], ['20756.jpg', 1], ['24263.jpg', 3], ['21417.jpg', 3], ['21447.jpg', 0], ['20058.jpg', 3], ['20949.jpg', 2], ['23076.jpg', 5], ['23061.jpg', 1], ['22771.jpg', 1], ['24181.jpg', 2], ['20575.jpg', 3], ['20720.jpg', 2], ['24101.jpg', 5], ['20472.jpg', 4], ['23684.jpg', 2], ['24299.jpg', 2], ['22318.jpg', 2], ['23070.jpg', 1], ['20316.jpg', 4], ['24313.jpg', 1], ['20590.jpg', 3], ['22095.jpg', 3], ['23793.jpg', 5], ['21470.jpg', 5], ['22503.jpg', 4], ['20411.jpg', 1], ['23988.jpg', 2], ['20571.jpg', 2], ['20234.jpg', 5], ['23705.jpg', 4], ['23141.jpg', 3], ['22428.jpg', 5], ['23562.jpg', 4], ['23734.jpg', 3], ['22702.jpg', 0], ['24143.jpg', 1], ['22525.jpg', 2], ['23031.jpg', 1], ['24328.jpg', 3], ['21873.jpg', 1], ['22353.jpg', 4], ['20371.jpg', 4], ['22927.jpg', 2], ['20748.jpg', 0], ['23102.jpg', 5], ['22446.jpg', 1], ['20938.jpg', 1], ['21604.jpg', 1], ['21168.jpg', 2], ['23908.jpg', 0], ['615.jpg', 5], ['20646.jpg', 5], ['22550.jpg', 1], ['22294.jpg', 2], ['21906.jpg', 2], ['20805.jpg', 5], ['23105.jpg', 4], ['24180.jpg', 4], ['23241.jpg', 1], ['23486.jpg', 1], ['23355.jpg', 0], ['21646.jpg', 0], ['23731.jpg', 4], ['24220.jpg', 1], ['20694.jpg', 4], ['21865.jpg', 2], ['21596.jpg', 2], ['21453.jpg', 3], ['22723.jpg', 1], ['24208.jpg', 3], ['22677.jpg', 5], ['23649.jpg', 4], ['22700.jpg', 3], ['24277.jpg', 2], ['23471.jpg', 5], ['21317.jpg', 1], ['20788.jpg', 0], ['21130.jpg', 4], ['21981.jpg', 3], ['24047.jpg', 1], ['20922.jpg', 0], ['20359.jpg', 5], ['22196.jpg', 5], ['21670.jpg', 0], ['23362.jpg', 0], ['21250.jpg', 1], ['22257.jpg', 0], ['21233.jpg', 0], ['21639.jpg', 4], ['21437.jpg', 2], ['20075.jpg', 5], ['22537.jpg', 3], ['20486.jpg', 2], ['22472.jpg', 1], ['21849.jpg', 4], ['23896.jpg', 3], ['23773.jpg', 5], ['21683.jpg', 0], ['23619.jpg', 3], ['24110.jpg', 1], ['23623.jpg', 4], ['21501.jpg', 0], ['21651.jpg', 2], ['22517.jpg', 1], ['22907.jpg', 0], ['22759.jpg', 0], ['20107.jpg', 3], ['21154.jpg', 5], ['21617.jpg', 5], ['20417.jpg', 5], ['23888.jpg', 2], ['22460.jpg', 5], ['23109.jpg', 0], ['23124.jpg', 4], ['22020.jpg', 2], ['21058.jpg', 0], ['20592.jpg', 5], ['22451.jpg', 2], ['21097.jpg', 1], ['21042.jpg', 3], ['21657.jpg', 2], ['22452.jpg', 5], ['22139.jpg', 5], ['20515.jpg', 0], ['21855.jpg', 1], ['20194.jpg', 5], ['22961.jpg', 4], ['20962.jpg', 5], ['20782.jpg', 1], ['21254.jpg', 1], ['20267.jpg', 4], ['22748.jpg', 1], ['22585.jpg', 4], ['21586.jpg', 1], ['23360.jpg', 1], ['23756.jpg', 4], ['24262.jpg', 0], ['21986.jpg', 2], ['21879.jpg', 2], ['22065.jpg', 1], ['21143.jpg', 5], ['21644.jpg', 1], ['20083.jpg', 0], ['22703.jpg', 1], ['20890.jpg', 4], ['21801.jpg', 0], ['21149.jpg', 2], ['22210.jpg', 0], ['22072.jpg', 4]]\n"
          ],
          "name": "stdout"
        }
      ]
    },
    {
      "cell_type": "code",
      "metadata": {
        "id": "Ct3S-MwfMiI7"
      },
      "source": [
        ""
      ],
      "execution_count": null,
      "outputs": []
    },
    {
      "cell_type": "code",
      "metadata": {
        "id": "3nGcPYnn3R36"
      },
      "source": [
        "#Ensemble is done because an ensemble tends to perform better than singles improving the generalization ability.\n",
        "\n",
        "#CONCATENATION ENSEMBLE\n",
        "#The concatenation is the most common technique to merge different data sources.\n",
        "# A concatenation ensemble receives different inputs, whatever their dimensions are, and concatenates them on a given axis.\n",
        "# A drawback, of attaching information side by side, can be the dimensionality explosion."
      ],
      "execution_count": null,
      "outputs": []
    },
    {
      "cell_type": "code",
      "metadata": {
        "id": "besQaW-3oXUg"
      },
      "source": [
        "model1 = tf.keras.models.load_model(\"/content/drive/MyDrive/natural scense/vgg19(true).model\")\n",
        "#freezing all the weights:before compiling the model\n",
        "model1.trainable = False\n",
        "for i, layer in enumerate(model1.layers):\n",
        "  #Change layers names !\n",
        "    layer._name = 'm1_layer_' + str(i)\n"
      ],
      "execution_count": null,
      "outputs": []
    },
    {
      "cell_type": "code",
      "metadata": {
        "id": "MOHg1r_HBHAi"
      },
      "source": [
        "model2 = tf.keras.models.load_model(\"/content/drive/MyDrive/natural scense/vgg16.model\")\n",
        "model2.trainable = False\n",
        "for i, layer in enumerate(model2.layers):\n",
        "    layer._name = 'm2_layer_' + str(i)"
      ],
      "execution_count": null,
      "outputs": []
    },
    {
      "cell_type": "code",
      "metadata": {
        "id": "KS0PooV8BHGh"
      },
      "source": [
        "merge = Concatenate()([model1.output,model2.output])\n",
        "merge = tf.keras.layers.Dense(3072, activation='relu')(merge)\n",
        "output = tf.keras.layers.Dense(6, activation='softmax')(merge)\n",
        "Final_model = tf.keras.models.Model(inputs=[model1.input,model2.input],\n",
        "outputs=output)"
      ],
      "execution_count": null,
      "outputs": []
    },
    {
      "cell_type": "code",
      "metadata": {
        "id": "JK0567-mBHO_"
      },
      "source": [
        "IMG_SIZE = 224\n",
        "optimization = optimizers.SGD(lr=.001,decay=1e-6 ,momentum=0.9,nesterov=True,name=\"SGD\")\n",
        "Final_model.compile(optimizer=optimization, loss='categorical_crossentropy', metrics=['accuracy'])\n",
        "\n",
        "x_train1= np.array([i[0] for i in train_data]).reshape(-1, IMG_SIZE, IMG_SIZE, 3) \n",
        "x_train2= np.array([i[0] for i in train_data]).reshape(-1, IMG_SIZE, IMG_SIZE, 3)\n",
        "\n",
        "y_train = np.asarray([i[1] for i in train_data])\n",
        "\n",
        "#By setting verbose 0, 1 or 2 you just say how do you want to 'see' the training progress for each epoch.\n",
        "Final_model.fit([x_train1,x_train2], y_train, batch_size=8, epochs=10, verbose=1)\n",
        "  \n",
        "Final_model.save(\"ensemble.model\")"
      ],
      "execution_count": null,
      "outputs": []
    },
    {
      "cell_type": "code",
      "metadata": {
        "colab": {
          "base_uri": "https://localhost:8080/"
        },
        "id": "12B_gX8WFTZS",
        "outputId": "8a7df1c2-8ac5-472f-b022-7e49dfdce10c"
      },
      "source": [
        "Submit=[]\n",
        "for num, data in enumerate(test_data[:]): \n",
        "    img_label = data[0]\n",
        "    name=data[1] \n",
        "    data1 = img_label.reshape(-1,224, 224, 3) \n",
        "    data2 = img_label.reshape(-1,224, 224, 3)\n",
        "    model_out = Final_model.predict([data1,data2])[0]\n",
        "    if np.argmax(model_out) == 0:\n",
        "        Submit.append([name,0])\n",
        "    elif np.argmax(model_out) == 1:\n",
        "        Submit.append([name,1])\n",
        "    elif np.argmax(model_out) == 2:\n",
        "        Submit.append([name,2])\n",
        "    elif np.argmax(model_out) == 3:\n",
        "        Submit.append([name,3])\n",
        "    elif np.argmax(model_out) == 4:\n",
        "        Submit.append([name,4])\n",
        "    elif np.argmax(model_out) == 5:\n",
        "        Submit.append([name,5])                                 \n",
        "print(Submit)\n",
        "Submited=pd.DataFrame(Submit,columns=['Image','Label'])\n",
        "Submited.to_csv(\"/content/submit.csv\", index = False) "
      ],
      "execution_count": null,
      "outputs": [
        {
          "output_type": "stream",
          "text": [
            "[['23004.jpg', 3], ['23215.jpg', 5], ['20998.jpg', 2], ['20627.jpg', 3], ['23885.jpg', 4], ['23291.jpg', 3], ['22374.jpg', 4], ['20683.jpg', 0], ['22636.jpg', 3], ['22623.jpg', 4], ['20647.jpg', 4], ['21277.jpg', 4], ['22450.jpg', 5], ['24115.jpg', 2], ['21967.jpg', 2], ['20283.jpg', 4], ['23597.jpg', 1], ['20751.jpg', 2], ['22311.jpg', 5], ['24213.jpg', 2], ['22346.jpg', 3], ['22400.jpg', 1], ['22490.jpg', 1], ['21936.jpg', 4], ['24175.jpg', 5], ['20334.jpg', 3], ['23024.jpg', 3], ['22149.jpg', 1], ['21017.jpg', 0], ['22268.jpg', 1], ['24132.jpg', 4], ['24250.jpg', 5], ['23429.jpg', 3], ['21230.jpg', 2], ['546.jpg', 0], ['23932.jpg', 0], ['22097.jpg', 5], ['23419.jpg', 4], ['22724.jpg', 3], ['20807.jpg', 5], ['22064.jpg', 5], ['21287.jpg', 5], ['20261.jpg', 1], ['949.jpg', 0], ['21186.jpg', 2], ['22895.jpg', 3], ['23177.jpg', 2], ['23876.jpg', 1], ['20726.jpg', 2], ['24133.jpg', 2], ['22614.jpg', 3], ['21294.jpg', 0], ['20096.jpg', 0], ['22158.jpg', 3], ['20435.jpg', 3], ['24297.jpg', 2], ['20695.jpg', 4], ['20148.jpg', 4], ['21297.jpg', 1], ['22214.jpg', 3], ['21787.jpg', 1], ['24239.jpg', 1], ['21343.jpg', 3], ['21381.jpg', 5], ['20277.jpg', 3], ['20909.jpg', 4], ['23055.jpg', 0], ['20307.jpg', 2], ['22220.jpg', 4], ['21853.jpg', 5], ['23745.jpg', 5], ['20389.jpg', 4], ['24290.jpg', 5], ['20270.jpg', 5], ['21887.jpg', 1], ['24300.jpg', 5], ['23469.jpg', 3], ['24097.jpg', 5], ['23244.jpg', 1], ['20626.jpg', 3], ['21640.jpg', 5], ['21376.jpg', 3], ['24052.jpg', 5], ['21994.jpg', 1], ['24149.jpg', 5], ['23461.jpg', 3], ['21156.jpg', 2], ['23968.jpg', 5], ['20560.jpg', 2], ['21288.jpg', 2], ['24129.jpg', 4], ['23808.jpg', 3], ['21098.jpg', 2], ['20894.jpg', 1], ['22666.jpg', 2], ['24113.jpg', 2], ['23528.jpg', 1], ['20989.jpg', 0], ['22877.jpg', 5], ['20116.jpg', 3], ['22388.jpg', 0], ['22971.jpg', 5], ['23612.jpg', 0], ['22852.jpg', 3], ['20757.jpg', 2], ['22900.jpg', 5], ['22076.jpg', 0], ['22887.jpg', 2], ['22250.jpg', 2], ['23089.jpg', 4], ['23783.jpg', 3], ['21012.jpg', 4], ['23406.jpg', 1], ['24190.jpg', 3], ['21198.jpg', 1], ['24020.jpg', 3], ['23816.jpg', 2], ['21686.jpg', 3], ['22765.jpg', 3], ['23210.jpg', 3], ['24312.jpg', 1], ['23209.jpg', 4], ['23285.jpg', 3], ['24207.jpg', 3], ['21259.jpg', 4], ['21769.jpg', 1], ['21841.jpg', 0], ['22966.jpg', 3], ['23166.jpg', 3], ['22526.jpg', 3], ['22028.jpg', 1], ['24153.jpg', 5], ['21792.jpg', 5], ['22066.jpg', 4], ['23779.jpg', 5], ['24037.jpg', 2], ['21837.jpg', 4], ['22574.jpg', 2], ['22801.jpg', 5], ['23261.jpg', 1], ['21146.jpg', 2], ['21745.jpg', 5], ['20057.jpg', 0], ['23702.jpg', 3], ['20345.jpg', 2], ['22603.jpg', 2], ['21466.jpg', 3], ['22215.jpg', 3], ['21875.jpg', 3], ['21932.jpg', 1], ['22706.jpg', 0], ['24058.jpg', 0], ['21053.jpg', 2], ['22372.jpg', 5], ['23157.jpg', 2], ['21759.jpg', 3], ['20458.jpg', 2], ['23087.jpg', 0], ['23505.jpg', 0], ['20154.jpg', 3], ['21104.jpg', 0], ['22565.jpg', 4], ['20819.jpg', 5], ['614.jpg', 5], ['21246.jpg', 2], ['23381.jpg', 4], ['24204.jpg', 3], ['24329.jpg', 3], ['21161.jpg', 3], ['22486.jpg', 0], ['20935.jpg', 5], ['20485.jpg', 1], ['21861.jpg', 2], ['23148.jpg', 1], ['24275.jpg', 0], ['20628.jpg', 0], ['22235.jpg', 2], ['24247.jpg', 3], ['20735.jpg', 4], ['21701.jpg', 3], ['21464.jpg', 2], ['23306.jpg', 1], ['20276.jpg', 3], ['21200.jpg', 5], ['21248.jpg', 2], ['22951.jpg', 5], ['22416.jpg', 1], ['23659.jpg', 3], ['20981.jpg', 0], ['23154.jpg', 3], ['20871.jpg', 3], ['23126.jpg', 3], ['21485.jpg', 0], ['22843.jpg', 0], ['23757.jpg', 0], ['21559.jpg', 1], ['20113.jpg', 0], ['20286.jpg', 0], ['20581.jpg', 0], ['22569.jpg', 1], ['23552.jpg', 3], ['22320.jpg', 2], ['21206.jpg', 1], ['22071.jpg', 2], ['23874.jpg', 1], ['23312.jpg', 3], ['21977.jpg', 0], ['21992.jpg', 3], ['20109.jpg', 3], ['21982.jpg', 2], ['22167.jpg', 1], ['22382.jpg', 3], ['23289.jpg', 1], ['22947.jpg', 1], ['21375.jpg', 1], ['24158.jpg', 4], ['24251.jpg', 1], ['23274.jpg', 3], ['20431.jpg', 0], ['20305.jpg', 4], ['22255.jpg', 0], ['22412.jpg', 5], ['23575.jpg', 1], ['22817.jpg', 2], ['24236.jpg', 4], ['24285.jpg', 3], ['22994.jpg', 2], ['24033.jpg', 1], ['21278.jpg', 2], ['21529.jpg', 1], ['21238.jpg', 1], ['21266.jpg', 2], ['21479.jpg', 5], ['21583.jpg', 1], ['22360.jpg', 0], ['22063.jpg', 2], ['23852.jpg', 1], ['24036.jpg', 2], ['24029.jpg', 5], ['20161.jpg', 5], ['22307.jpg', 1], ['20414.jpg', 2], ['20677.jpg', 5], ['20970.jpg', 4], ['23016.jpg', 2], ['23343.jpg', 3], ['645.jpg', 5], ['21632.jpg', 3], ['21389.jpg', 3], ['20841.jpg', 4], ['21348.jpg', 3], ['24187.jpg', 4], ['20168.jpg', 4], ['20137.jpg', 5], ['20476.jpg', 4], ['22254.jpg', 2], ['23964.jpg', 2], ['21607.jpg', 4], ['23114.jpg', 3], ['23609.jpg', 3], ['20838.jpg', 5], ['21085.jpg', 3], ['23365.jpg', 0], ['23686.jpg', 3], ['22740.jpg', 4], ['21962.jpg', 0], ['20378.jpg', 5], ['24279.jpg', 3], ['20174.jpg', 4], ['23159.jpg', 0], ['23890.jpg', 0], ['20941.jpg', 3], ['23118.jpg', 5], ['23292.jpg', 2], ['24268.jpg', 5], ['21255.jpg', 3], ['21514.jpg', 5], ['22483.jpg', 3], ['22897.jpg', 1], ['23830.jpg', 3], ['23989.jpg', 0], ['24107.jpg', 2], ['23998.jpg', 4], ['23520.jpg', 4], ['24256.jpg', 1], ['21852.jpg', 1], ['23042.jpg', 4], ['21292.jpg', 4], ['20872.jpg', 2], ['20517.jpg', 2], ['23219.jpg', 2], ['23237.jpg', 4], ['23698.jpg', 1], ['22029.jpg', 2], ['21694.jpg', 0], ['24019.jpg', 5], ['21240.jpg', 1], ['23324.jpg', 4], ['23718.jpg', 2], ['20770.jpg', 2], ['21844.jpg', 3], ['20392.jpg', 4], ['21385.jpg', 3], ['22516.jpg', 4], ['23543.jpg', 0], ['23308.jpg', 1], ['20241.jpg', 0], ['20416.jpg', 1], ['20779.jpg', 1], ['22836.jpg', 2], ['21260.jpg', 5], ['20395.jpg', 4], ['22438.jpg', 2], ['23969.jpg', 4], ['21480.jpg', 0], ['20449.jpg', 0], ['23075.jpg', 5], ['23026.jpg', 2], ['22152.jpg', 0], ['22168.jpg', 4], ['22200.jpg', 5], ['22827.jpg', 4], ['21727.jpg', 2], ['20616.jpg', 2], ['20464.jpg', 5], ['20550.jpg', 0], ['22176.jpg', 4], ['23712.jpg', 2], ['20299.jpg', 1], ['23223.jpg', 2], ['24095.jpg', 5], ['20696.jpg', 4], ['24073.jpg', 4], ['22212.jpg', 2], ['22576.jpg', 2], ['23342.jpg', 4], ['23430.jpg', 1], ['22180.jpg', 2], ['20232.jpg', 3], ['20864.jpg', 5], ['22930.jpg', 4], ['22393.jpg', 4], ['21490.jpg', 3], ['21350.jpg', 5], ['21643.jpg', 3], ['23952.jpg', 2], ['21357.jpg', 2], ['21187.jpg', 1], ['23928.jpg', 1], ['20089.jpg', 1], ['21790.jpg', 4], ['21575.jpg', 2], ['22921.jpg', 3], ['24246.jpg', 4], ['22546.jpg', 3], ['22330.jpg', 0], ['21615.jpg', 2], ['23683.jpg', 0], ['20704.jpg', 4], ['20386.jpg', 2], ['22540.jpg', 1], ['22617.jpg', 3], ['24230.jpg', 5], ['21989.jpg', 5], ['21182.jpg', 0], ['21393.jpg', 4], ['20082.jpg', 1], ['22949.jpg', 4], ['23716.jpg', 3], ['20878.jpg', 4], ['23498.jpg', 1], ['22191.jpg', 3], ['23703.jpg', 2], ['21360.jpg', 0], ['23587.jpg', 4], ['21734.jpg', 3], ['21956.jpg', 1], ['23317.jpg', 0], ['22153.jpg', 5], ['23433.jpg', 2], ['23041.jpg', 0], ['20582.jpg', 1], ['20069.jpg', 5], ['21580.jpg', 4], ['20346.jpg', 5], ['20587.jpg', 0], ['20314.jpg', 2], ['21311.jpg', 4], ['73.jpg', 0], ['21128.jpg', 4], ['21573.jpg', 5], ['22038.jpg', 3], ['21340.jpg', 3], ['21770.jpg', 3], ['24231.jpg', 5], ['23930.jpg', 1], ['23807.jpg', 3], ['22539.jpg', 3], ['24024.jpg', 5], ['24177.jpg', 1], ['23110.jpg', 1], ['20965.jpg', 2], ['23226.jpg', 2], ['20140.jpg', 0], ['23287.jpg', 1], ['22417.jpg', 5], ['22019.jpg', 4], ['23165.jpg', 4], ['22934.jpg', 2], ['24016.jpg', 1], ['23136.jpg', 0], ['20293.jpg', 5], ['21743.jpg', 5], ['22427.jpg', 1], ['22822.jpg', 2], ['20513.jpg', 4], ['22239.jpg', 2], ['22089.jpg', 4], ['20907.jpg', 5], ['22988.jpg', 5], ['22572.jpg', 4], ['21933.jpg', 1], ['20799.jpg', 0], ['21766.jpg', 2], ['23933.jpg', 1], ['21081.jpg', 5], ['24324.jpg', 1], ['22144.jpg', 1], ['20230.jpg', 2], ['23986.jpg', 3], ['20860.jpg', 2], ['24127.jpg', 3], ['23915.jpg', 3], ['20170.jpg', 4], ['22685.jpg', 3], ['20566.jpg', 2], ['22471.jpg', 4], ['23717.jpg', 1], ['20071.jpg', 2], ['20732.jpg', 3], ['23018.jpg', 2], ['22405.jpg', 2], ['23925.jpg', 1], ['22912.jpg', 0], ['23262.jpg', 3], ['21985.jpg', 5], ['24055.jpg', 4], ['23873.jpg', 1], ['21152.jpg', 5], ['24146.jpg', 3], ['23723.jpg', 1], ['23620.jpg', 4], ['23420.jpg', 0], ['20252.jpg', 1], ['22024.jpg', 5], ['1082.jpg', 0], ['24241.jpg', 1], ['23314.jpg', 2], ['21432.jpg', 5], ['23389.jpg', 5], ['21601.jpg', 5], ['21510.jpg', 5], ['23762.jpg', 2], ['23972.jpg', 3], ['23269.jpg', 5], ['20320.jpg', 2], ['22119.jpg', 5], ['22558.jpg', 0], ['21990.jpg', 1], ['23919.jpg', 4], ['23813.jpg', 1], ['21949.jpg', 2], ['20978.jpg', 1], ['23892.jpg', 5], ['23033.jpg', 3], ['22079.jpg', 2], ['21935.jpg', 3], ['22347.jpg', 2], ['23714.jpg', 2], ['23266.jpg', 3], ['21108.jpg', 5], ['21554.jpg', 0], ['24197.jpg', 0], ['22423.jpg', 0], ['24314.jpg', 1], ['21227.jpg', 4], ['23268.jpg', 1], ['21983.jpg', 2], ['22130.jpg', 2], ['20493.jpg', 5], ['21987.jpg', 3], ['21298.jpg', 0], ['20536.jpg', 0], ['22864.jpg', 2], ['21355.jpg', 5], ['23450.jpg', 4], ['21729.jpg', 4], ['23225.jpg', 5], ['22172.jpg', 1], ['20847.jpg', 3], ['21115.jpg', 3], ['24237.jpg', 4], ['22568.jpg', 0], ['23418.jpg', 2], ['23068.jpg', 5], ['22378.jpg', 5], ['23677.jpg', 2], ['22833.jpg', 1], ['21806.jpg', 1], ['22284.jpg', 0], ['23819.jpg', 2], ['20853.jpg', 3], ['22140.jpg', 2], ['20495.jpg', 2], ['23012.jpg', 0], ['22952.jpg', 5], ['23537.jpg', 2], ['21621.jpg', 0], ['23920.jpg', 2], ['20158.jpg', 5], ['21469.jpg', 3], ['20303.jpg', 2], ['21236.jpg', 3], ['22408.jpg', 5], ['20333.jpg', 4], ['20388.jpg', 5], ['22000.jpg', 0], ['20343.jpg', 5], ['23270.jpg', 2], ['22830.jpg', 5], ['20134.jpg', 1], ['20309.jpg', 0], ['21564.jpg', 5], ['21120.jpg', 5], ['22436.jpg', 3], ['22629.jpg', 1], ['22790.jpg', 3], ['20387.jpg', 2], ['20218.jpg', 0], ['22504.jpg', 3], ['21121.jpg', 4], ['20530.jpg', 4], ['21908.jpg', 5], ['21659.jpg', 3], ['21062.jpg', 5], ['23455.jpg', 5], ['22021.jpg', 0], ['23255.jpg', 0], ['21738.jpg', 4], ['21896.jpg', 5], ['23707.jpg', 5], ['21761.jpg', 4], ['23296.jpg', 2], ['20598.jpg', 2], ['22834.jpg', 4], ['23901.jpg', 4], ['24212.jpg', 5], ['23253.jpg', 5], ['20151.jpg', 1], ['21314.jpg', 2], ['24315.jpg', 3], ['24229.jpg', 0], ['23843.jpg', 2], ['22755.jpg', 4], ['21695.jpg', 4], ['23104.jpg', 0], ['20535.jpg', 5], ['23697.jpg', 3], ['23495.jpg', 4], ['23243.jpg', 3], ['22513.jpg', 2], ['20473.jpg', 4], ['20171.jpg', 4], ['21765.jpg', 1], ['20947.jpg', 1], ['24215.jpg', 0], ['21973.jpg', 4], ['23759.jpg', 4], ['23588.jpg', 5], ['22276.jpg', 3], ['22789.jpg', 1], ['22950.jpg', 3], ['20275.jpg', 2], ['23207.jpg', 1], ['23445.jpg', 2], ['22420.jpg', 1], ['20489.jpg', 2], ['21105.jpg', 1], ['22280.jpg', 1], ['20764.jpg', 5], ['22125.jpg', 1], ['22385.jpg', 4], ['20595.jpg', 4], ['23708.jpg', 4], ['20444.jpg', 3], ['20910.jpg', 2], ['20266.jpg', 5], ['21041.jpg', 0], ['22854.jpg', 1], ['23898.jpg', 2], ['23608.jpg', 2], ['23481.jpg', 2], ['22259.jpg', 2], ['22800.jpg', 3], ['20567.jpg', 4], ['222.jpg', 0], ['21320.jpg', 3], ['22832.jpg', 4], ['21090.jpg', 2], ['22692.jpg', 3], ['22040.jpg', 3], ['21498.jpg', 3], ['22488.jpg', 3], ['23550.jpg', 0], ['22722.jpg', 5], ['20322.jpg', 1], ['20484.jpg', 5], ['23848.jpg', 2], ['22035.jpg', 5], ['23861.jpg', 4], ['20454.jpg', 5], ['23774.jpg', 3], ['22115.jpg', 0], ['22414.jpg', 4], ['22447.jpg', 0], ['21076.jpg', 3], ['23579.jpg', 4], ['20229.jpg', 1], ['23051.jpg', 3], ['21354.jpg', 5], ['20337.jpg', 5], ['23490.jpg', 1], ['23392.jpg', 2], ['20162.jpg', 5], ['21623.jpg', 4], ['22645.jpg', 5], ['20801.jpg', 1], ['22992.jpg', 3], ['22048.jpg', 4], ['20198.jpg', 2], ['22860.jpg', 0], ['21817.jpg', 0], ['22829.jpg', 2], ['20639.jpg', 4], ['22433.jpg', 4], ['22092.jpg', 1], ['23738.jpg', 2], ['20350.jpg', 0], ['22186.jpg', 4], ['24078.jpg', 5], ['21555.jpg', 0], ['20147.jpg', 1], ['24045.jpg', 1], ['23564.jpg', 0], ['20240.jpg', 4], ['23862.jpg', 1], ['22756.jpg', 2], ['20924.jpg', 2], ['21096.jpg', 3], ['20300.jpg', 4], ['20868.jpg', 2], ['21763.jpg', 0], ['23181.jpg', 1], ['23407.jpg', 1], ['21065.jpg', 0], ['20455.jpg', 3], ['23376.jpg', 1], ['20238.jpg', 5], ['22977.jpg', 4], ['23411.jpg', 5], ['21452.jpg', 3], ['23401.jpg', 4], ['23786.jpg', 4], ['23011.jpg', 1], ['22708.jpg', 5], ['23794.jpg', 1], ['23191.jpg', 0], ['23283.jpg', 3], ['22506.jpg', 5], ['22676.jpg', 0], ['22199.jpg', 3], ['20207.jpg', 0], ['23139.jpg', 5], ['22896.jpg', 2], ['24201.jpg', 4], ['22609.jpg', 2], ['24137.jpg', 1], ['24010.jpg', 0], ['20448.jpg', 1], ['22899.jpg', 0], ['20117.jpg', 1], ['22809.jpg', 2], ['21725.jpg', 3], ['23692.jpg', 0], ['23846.jpg', 0], ['23663.jpg', 1], ['21141.jpg', 0], ['20572.jpg', 5], ['20534.jpg', 4], ['21316.jpg', 1], ['21691.jpg', 3], ['22179.jpg', 1], ['23457.jpg', 3], ['22508.jpg', 4], ['23990.jpg', 4], ['20512.jpg', 3], ['20441.jpg', 0], ['691.jpg', 0], ['20243.jpg', 2], ['21055.jpg', 3], ['22496.jpg', 0], ['21923.jpg', 0], ['23951.jpg', 2], ['23700.jpg', 1], ['23220.jpg', 0], ['23072.jpg', 2], ['21674.jpg', 5], ['23108.jpg', 2], ['23865.jpg', 1], ['21912.jpg', 3], ['24086.jpg', 4], ['24265.jpg', 5], ['20591.jpg', 5], ['23981.jpg', 1], ['23593.jpg', 4], ['21611.jpg', 5], ['21411.jpg', 2], ['21719.jpg', 0], ['22439.jpg', 4], ['21512.jpg', 2], ['21325.jpg', 1], ['20272.jpg', 2], ['24060.jpg', 2], ['20259.jpg', 5], ['23776.jpg', 0], ['21671.jpg', 0], ['21473.jpg', 2], ['24063.jpg', 0], ['22145.jpg', 3], ['21917.jpg', 3], ['22867.jpg', 4], ['23221.jpg', 2], ['20465.jpg', 0], ['23103.jpg', 3], ['21091.jpg', 1], ['22545.jpg', 4], ['23416.jpg', 4], ['20731.jpg', 1], ['20409.jpg', 2], ['20820.jpg', 2], ['244.jpg', 0], ['351.jpg', 0], ['21506.jpg', 5], ['23442.jpg', 0], ['24176.jpg', 3], ['21196.jpg', 1], ['22642.jpg', 0], ['21924.jpg', 4], ['22660.jpg', 2], ['23721.jpg', 5], ['23473.jpg', 1], ['22221.jpg', 3], ['24224.jpg', 0], ['22767.jpg', 2], ['22356.jpg', 5], ['21811.jpg', 2], ['24223.jpg', 0], ['22256.jpg', 0], ['837.jpg', 0], ['21740.jpg', 4], ['20584.jpg', 3], ['22695.jpg', 2], ['20561.jpg', 5], ['24173.jpg', 2], ['23373.jpg', 1], ['23906.jpg', 2], ['20226.jpg', 3], ['22839.jpg', 5], ['23853.jpg', 1], ['24050.jpg', 0], ['22943.jpg', 4], ['20745.jpg', 3], ['24295.jpg', 4], ['23899.jpg', 2], ['21279.jpg', 0], ['20085.jpg', 3], ['20813.jpg', 5], ['23227.jpg', 5], ['22848.jpg', 3], ['21612.jpg', 1], ['22345.jpg', 0], ['23499.jpg', 1], ['23586.jpg', 5], ['20655.jpg', 3], ['21526.jpg', 5], ['23390.jpg', 5], ['23275.jpg', 4], ['21551.jpg', 2], ['22512.jpg', 3], ['23760.jpg', 1], ['23044.jpg', 2], ['23423.jpg', 4], ['21353.jpg', 3], ['20657.jpg', 3], ['24211.jpg', 3], ['797.jpg', 0], ['23859.jpg', 5], ['20652.jpg', 5], ['22260.jpg', 1], ['23133.jpg', 5], ['20750.jpg', 5], ['21507.jpg', 3], ['20432.jpg', 5], ['22967.jpg', 5], ['23213.jpg', 4], ['22336.jpg', 1], ['21047.jpg', 4], ['23212.jpg', 3], ['22823.jpg', 5], ['22746.jpg', 4], ['21522.jpg', 5], ['21832.jpg', 4], ['23301.jpg', 5], ['21201.jpg', 3], ['21655.jpg', 4], ['22328.jpg', 3], ['20759.jpg', 2], ['21364.jpg', 4], ['242.jpg', 0], ['24009.jpg', 5], ['23780.jpg', 2], ['20982.jpg', 4], ['21955.jpg', 0], ['21177.jpg', 1], ['22350.jpg', 4], ['21688.jpg', 0], ['20879.jpg', 4], ['23993.jpg', 3], ['21649.jpg', 4], ['24200.jpg', 2], ['21210.jpg', 2], ['24057.jpg', 2], ['21491.jpg', 1], ['23554.jpg', 0], ['24174.jpg', 4], ['20774.jpg', 1], ['23841.jpg', 4], ['23681.jpg', 1], ['20633.jpg', 4], ['20405.jpg', 5], ['23725.jpg', 4], ['20953.jpg', 0], ['20430.jpg', 0], ['20620.jpg', 1], ['22027.jpg', 3], ['22502.jpg', 2], ['22552.jpg', 1], ['23606.jpg', 2], ['20946.jpg', 4], ['20563.jpg', 1], ['21614.jpg', 0], ['20555.jpg', 0], ['23464.jpg', 0], ['24206.jpg', 1], ['20601.jpg', 0], ['23801.jpg', 2], ['21816.jpg', 2], ['20752.jpg', 0], ['22321.jpg', 4], ['23037.jpg', 3], ['21866.jpg', 5], ['20568.jpg', 1], ['23441.jpg', 1], ['21341.jpg', 3], ['20903.jpg', 5], ['21744.jpg', 5], ['21345.jpg', 1], ['20606.jpg', 0], ['23256.jpg', 2], ['21979.jpg', 1], ['22547.jpg', 3], ['23507.jpg', 1], ['22354.jpg', 4], ['23065.jpg', 1], ['20777.jpg', 0], ['21603.jpg', 3], ['23973.jpg', 5], ['22648.jpg', 3], ['22166.jpg', 5], ['20079.jpg', 5], ['22470.jpg', 5], ['24195.jpg', 2], ['20930.jpg', 1], ['24193.jpg', 2], ['22123.jpg', 2], ['24235.jpg', 4], ['22619.jpg', 5], ['21225.jpg', 0], ['21926.jpg', 2], ['21797.jpg', 4], ['20722.jpg', 4], ['21386.jpg', 0], ['24160.jpg', 0], ['20418.jpg', 2], ['23100.jpg', 0], ['22150.jpg', 0], ['22383.jpg', 0], ['20586.jpg', 5], ['23515.jpg', 2], ['22753.jpg', 1], ['21027.jpg', 2], ['20812.jpg', 5], ['23040.jpg', 3], ['22734.jpg', 3], ['20546.jpg', 0], ['20285.jpg', 4], ['24322.jpg', 0], ['22633.jpg', 0], ['22799.jpg', 3], ['23298.jpg', 4], ['20127.jpg', 5], ['22891.jpg', 2], ['22022.jpg', 1], ['22628.jpg', 4], ['21788.jpg', 3], ['22341.jpg', 0], ['24254.jpg', 1], ['21620.jpg', 5], ['21940.jpg', 4], ['21915.jpg', 3], ['21349.jpg', 3], ['20479.jpg', 3], ['21125.jpg', 1], ['20227.jpg', 3], ['23060.jpg', 2], ['20355.jpg', 2], ['23633.jpg', 5], ['22742.jpg', 2], ['24264.jpg', 2], ['23923.jpg', 2], ['23327.jpg', 3], ['21301.jpg', 3], ['23658.jpg', 2], ['20491.jpg', 5], ['22289.jpg', 1], ['22481.jpg', 5], ['21305.jpg', 5], ['21192.jpg', 4], ['23870.jpg', 2], ['21664.jpg', 2], ['20191.jpg', 5], ['20798.jpg', 5], ['21874.jpg', 2], ['22389.jpg', 4], ['22017.jpg', 5], ['24167.jpg', 2], ['21504.jpg', 0], ['21221.jpg', 0], ['23333.jpg', 3], ['21461.jpg', 0], ['21431.jpg', 1], ['21347.jpg', 5], ['23027.jpg', 4], ['23417.jpg', 5], ['23503.jpg', 1], ['23711.jpg', 3], ['23325.jpg', 0], ['21107.jpg', 5], ['22779.jpg', 5], ['24319.jpg', 3], ['20249.jpg', 2], ['20424.jpg', 0], ['20099.jpg', 4], ['24198.jpg', 1], ['22233.jpg', 5], ['22730.jpg', 4], ['20106.jpg', 4], ['20665.jpg', 5], ['24203.jpg', 0], ['21660.jpg', 3], ['21684.jpg', 2], ['20818.jpg', 5], ['23679.jpg', 4], ['20297.jpg', 5], ['22597.jpg', 1], ['23931.jpg', 1], ['20257.jpg', 4], ['22675.jpg', 4], ['20742.jpg', 2], ['23322.jpg', 0], ['22231.jpg', 0], ['21885.jpg', 1], ['21342.jpg', 4], ['21824.jpg', 2], ['23883.jpg', 2], ['23387.jpg', 3], ['21680.jpg', 0], ['21239.jpg', 2], ['22107.jpg', 4], ['23531.jpg', 3], ['20800.jpg', 1], ['22600.jpg', 3], ['24041.jpg', 4], ['20294.jpg', 5], ['20383.jpg', 2], ['23446.jpg', 0], ['20765.jpg', 5], ['21083.jpg', 4], ['22683.jpg', 2], ['23088.jpg', 1], ['22394.jpg', 3], ['23408.jpg', 4], ['20976.jpg', 3], ['21731.jpg', 5], ['302.jpg', 0], ['21144.jpg', 2], ['22764.jpg', 2], ['740.jpg', 0], ['21999.jpg', 4], ['20611.jpg', 0], ['22269.jpg', 0], ['23647.jpg', 3], ['20959.jpg', 3], ['20929.jpg', 1], ['22310.jpg', 2], ['22884.jpg', 3], ['20319.jpg', 1], ['20087.jpg', 2], ['21689.jpg', 0], ['20348.jpg', 5], ['21560.jpg', 5], ['23536.jpg', 4], ['21099.jpg', 0], ['20762.jpg', 3], ['24103.jpg', 0], ['22592.jpg', 3], ['21045.jpg', 4], ['23987.jpg', 1], ['22251.jpg', 3], ['23045.jpg', 4], ['23002.jpg', 4], ['24023.jpg', 0], ['22705.jpg', 2], ['22421.jpg', 0], ['20095.jpg', 1], ['21610.jpg', 2], ['22198.jpg', 5], ['23437.jpg', 4], ['20447.jpg', 1], ['20660.jpg', 1], ['20908.jpg', 3], ['23005.jpg', 5], ['20974.jpg', 3], ['22663.jpg', 3], ['21257.jpg', 0], ['22117.jpg', 3], ['22983.jpg', 2], ['21363.jpg', 3], ['23939.jpg', 4], ['21631.jpg', 0], ['23339.jpg', 2], ['21779.jpg', 0], ['22710.jpg', 0], ['22216.jpg', 5], ['22982.jpg', 2], ['20739.jpg', 2], ['21242.jpg', 5], ['23451.jpg', 3], ['20596.jpg', 1], ['21777.jpg', 3], ['22469.jpg', 4], ['23456.jpg', 4], ['22203.jpg', 3], ['21222.jpg', 3], ['23359.jpg', 0], ['23263.jpg', 5], ['23466.jpg', 4], ['23900.jpg', 4], ['22564.jpg', 3], ['21101.jpg', 5], ['23123.jpg', 1], ['23366.jpg', 0], ['23224.jpg', 3], ['21016.jpg', 1], ['23367.jpg', 2], ['21371.jpg', 1], ['22778.jpg', 5], ['21024.jpg', 2], ['23675.jpg', 0], ['23616.jpg', 5], ['20597.jpg', 0], ['20352.jpg', 2], ['20341.jpg', 4], ['20393.jpg', 4], ['22857.jpg', 2], ['22369.jpg', 0], ['61.jpg', 0], ['22112.jpg', 2], ['21373.jpg', 1], ['22138.jpg', 3], ['21142.jpg', 5], ['23431.jpg', 2], ['23648.jpg', 1], ['20541.jpg', 2], ['22465.jpg', 2], ['22116.jpg', 1], ['21762.jpg', 2], ['22657.jpg', 3], ['24080.jpg', 3], ['24332.jpg', 5], ['20911.jpg', 4], ['20705.jpg', 5], ['21368.jpg', 2], ['21799.jpg', 2], ['22655.jpg', 3], ['23487.jpg', 4], ['20436.jpg', 0], ['22837.jpg', 5], ['23877.jpg', 1], ['23328.jpg', 2], ['103.jpg', 0], ['21714.jpg', 4], ['20056.jpg', 1], ['21947.jpg', 1], ['22500.jpg', 2], ['20649.jpg', 4], ['22099.jpg', 5], ['23236.jpg', 3], ['23688.jpg', 1], ['21159.jpg', 0], ['20576.jpg', 2], ['20605.jpg', 1], ['24226.jpg', 1], ['23967.jpg', 5], ['23590.jpg', 0], ['23427.jpg', 2], ['22103.jpg', 0], ['22349.jpg', 3], ['20242.jpg', 1], ['23447.jpg', 2], ['20781.jpg', 3], ['23936.jpg', 3], ['23826.jpg', 4], ['24304.jpg', 4], ['22672.jpg', 4], ['23598.jpg', 1], ['20183.jpg', 5], ['22784.jpg', 0], ['20851.jpg', 2], ['20828.jpg', 0], ['23179.jpg', 0], ['20164.jpg', 2], ['20287.jpg', 2], ['23130.jpg', 1], ['21087.jpg', 1], ['23574.jpg', 5], ['23628.jpg', 5], ['22650.jpg', 0], ['22339.jpg', 0], ['22295.jpg', 0], ['21909.jpg', 3], ['22679.jpg', 4], ['20185.jpg', 4], ['22271.jpg', 4], ['24260.jpg', 1], ['22143.jpg', 2], ['21624.jpg', 4], ['23600.jpg', 1], ['23902.jpg', 2], ['20831.jpg', 1], ['22202.jpg', 3], ['24059.jpg', 4], ['22234.jpg', 0], ['22104.jpg', 4], ['20187.jpg', 2], ['20714.jpg', 1], ['23727.jpg', 5], ['24098.jpg', 1], ['20753.jpg', 4], ['24013.jpg', 2], ['22192.jpg', 3], ['23926.jpg', 4], ['22850.jpg', 2], ['21450.jpg', 2], ['21793.jpg', 0], ['22062.jpg', 2], ['23907.jpg', 0], ['20408.jpg', 5], ['21069.jpg', 5], ['20612.jpg', 2], ['23509.jpg', 1], ['20524.jpg', 0], ['21630.jpg', 0], ['23976.jpg', 4], ['21126.jpg', 1], ['20709.jpg', 0], ['21921.jpg', 1], ['23271.jpg', 5], ['22171.jpg', 0], ['20564.jpg', 5], ['20253.jpg', 2], ['23160.jpg', 1], ['23815.jpg', 0], ['23304.jpg', 0], ['21136.jpg', 2], ['20370.jpg', 5], ['24171.jpg', 2], ['21722.jpg', 5], ['24228.jpg', 1], ['21954.jpg', 4], ['21494.jpg', 5], ['21519.jpg', 4], ['24287.jpg', 3], ['23384.jpg', 3], ['21593.jpg', 5], ['21843.jpg', 1], ['20570.jpg', 2], ['23570.jpg', 2], ['22699.jpg', 3], ['22291.jpg', 5], ['23535.jpg', 2], ['24169.jpg', 3], ['21106.jpg', 1], ['21401.jpg', 5], ['22553.jpg', 2], ['23062.jpg', 3], ['23386.jpg', 1], ['22920.jpg', 4], ['21539.jpg', 0], ['23014.jpg', 5], ['22501.jpg', 4], ['22807.jpg', 4], ['22978.jpg', 0], ['22855.jpg', 2], ['22811.jpg', 3], ['22467.jpg', 4], ['22209.jpg', 3], ['23625.jpg', 1], ['23458.jpg', 3], ['21900.jpg', 1], ['23079.jpg', 2], ['22011.jpg', 3], ['22078.jpg', 2], ['23008.jpg', 5], ['24007.jpg', 1], ['23522.jpg', 3], ['20421.jpg', 3], ['24258.jpg', 0], ['21857.jpg', 5], ['21269.jpg', 2], ['21870.jpg', 4], ['21421.jpg', 3], ['20330.jpg', 1], ['22159.jpg', 3], ['22161.jpg', 2], ['20461.jpg', 4], ['20460.jpg', 0], ['21418.jpg', 2], ['20400.jpg', 1], ['21910.jpg', 5], ['23096.jpg', 3], ['23290.jpg', 5], ['22849.jpg', 4], ['23796.jpg', 5], ['350.jpg', 5], ['24120.jpg', 0], ['22296.jpg', 0], ['20060.jpg', 0], ['20728.jpg', 1], ['20738.jpg', 3], ['21262.jpg', 3], ['20892.jpg', 5], ['22955.jpg', 1], ['22531.jpg', 0], ['22632.jpg', 5], ['22562.jpg', 0], ['20289.jpg', 4], ['24138.jpg', 0], ['23867.jpg', 4], ['20630.jpg', 0], ['21019.jpg', 3], ['20553.jpg', 0], ['20256.jpg', 4], ['21037.jpg', 4], ['20068.jpg', 3], ['21723.jpg', 0], ['22732.jpg', 2], ['21167.jpg', 5], ['548.jpg', 5], ['21173.jpg', 3], ['20603.jpg', 2], ['23961.jpg', 5], ['23242.jpg', 1], ['21591.jpg', 3], ['21197.jpg', 4], ['21627.jpg', 4], ['20692.jpg', 4], ['20131.jpg', 0], ['22990.jpg', 4], ['23353.jpg', 3], ['20440.jpg', 5], ['21448.jpg', 3], ['21720.jpg', 1], ['24145.jpg', 1], ['5.jpg', 0], ['22326.jpg', 4], ['22964.jpg', 2], ['21263.jpg', 4], ['23516.jpg', 2], ['20093.jpg', 2], ['22511.jpg', 4], ['23047.jpg', 4], ['21067.jpg', 4], ['23053.jpg', 1], ['21950.jpg', 2], ['22635.jpg', 2], ['20372.jpg', 2], ['23956.jpg', 2], ['21972.jpg', 1], ['23884.jpg', 2], ['20204.jpg', 2], ['21013.jpg', 3], ['23978.jpg', 3], ['21216.jpg', 3], ['20209.jpg', 5], ['21717.jpg', 3], ['20157.jpg', 3], ['23163.jpg', 5], ['23320.jpg', 2], ['22587.jpg', 0], ['22207.jpg', 3], ['23833.jpg', 0], ['21064.jpg', 2], ['20124.jpg', 4], ['21544.jpg', 2], ['21176.jpg', 2], ['21339.jpg', 0], ['23497.jpg', 3], ['22491.jpg', 4], ['24070.jpg', 5], ['23573.jpg', 5], ['20761.jpg', 1], ['23245.jpg', 3], ['23319.jpg', 5], ['22121.jpg', 4], ['22376.jpg', 1], ['22694.jpg', 2], ['458.jpg', 0], ['20166.jpg', 1], ['21945.jpg', 0], ['23151.jpg', 2], ['20691.jpg', 3], ['23656.jpg', 2], ['23694.jpg', 1], ['22557.jpg', 2], ['22401.jpg', 1], ['23257.jpg', 2], ['22373.jpg', 5], ['21362.jpg', 1], ['22563.jpg', 5], ['21036.jpg', 3], ['21578.jpg', 3], ['21043.jpg', 2], ['20895.jpg', 0], ['20737.jpg', 5], ['21721.jpg', 0], ['21163.jpg', 4], ['24034.jpg', 4], ['700.jpg', 5], ['20380.jpg', 2], ['20717.jpg', 1], ['20905.jpg', 4], ['21215.jpg', 2], ['21647.jpg', 3], ['23385.jpg', 0], ['23741.jpg', 0], ['24154.jpg', 3], ['920.jpg', 0], ['20439.jpg', 1], ['22913.jpg', 2], ['20520.jpg', 4], ['20545.jpg', 3], ['20917.jpg', 2], ['24100.jpg', 1], ['24309.jpg', 4], ['21715.jpg', 1], ['23635.jpg', 3], ['20216.jpg', 5], ['20954.jpg', 4], ['20342.jpg', 4], ['23233.jpg', 5], ['21558.jpg', 4], ['21872.jpg', 3], ['23644.jpg', 5], ['23660.jpg', 0], ['20433.jpg', 2], ['21911.jpg', 5], ['22162.jpg', 4], ['22866.jpg', 3], ['23687.jpg', 3], ['21383.jpg', 2], ['20210.jpg', 2], ['23294.jpg', 2], ['22441.jpg', 4], ['23652.jpg', 0], ['22543.jpg', 4], ['24325.jpg', 4], ['23472.jpg', 1], ['23073.jpg', 5], ['23405.jpg', 0], ['24001.jpg', 4], ['22844.jpg', 3], ['22620.jpg', 4], ['20802.jpg', 2], ['22956.jpg', 1], ['21856.jpg', 5], ['21669.jpg', 3], ['20870.jpg', 3], ['22014.jpg', 1], ['24185.jpg', 3], ['23511.jpg', 3], ['21658.jpg', 5], ['21356.jpg', 3], ['20271.jpg', 3], ['23521.jpg', 4], ['20643.jpg', 3], ['20288.jpg', 1], ['22775.jpg', 2], ['23585.jpg', 4], ['22379.jpg', 2], ['24141.jpg', 5], ['22448.jpg', 0], ['21073.jpg', 4], ['22973.jpg', 1], ['22132.jpg', 0], ['22124.jpg', 2], ['23829.jpg', 2], ['22266.jpg', 5], ['24096.jpg', 2], ['22804.jpg', 3], ['20202.jpg', 2], ['23299.jpg', 1], ['23185.jpg', 1], ['21957.jpg', 4], ['23150.jpg', 2], ['23866.jpg', 0], ['21810.jpg', 5], ['22160.jpg', 3], ['22459.jpg', 2], ['22025.jpg', 0], ['20064.jpg', 0], ['22777.jpg', 5], ['20734.jpg', 5], ['23116.jpg', 1], ['23032.jpg', 1], ['21581.jpg', 0], ['22991.jpg', 2], ['21916.jpg', 1], ['20221.jpg', 5], ['20344.jpg', 0], ['22090.jpg', 2], ['20826.jpg', 5], ['23091.jpg', 4], ['23176.jpg', 3], ['22001.jpg', 5], ['22073.jpg', 4], ['23272.jpg', 4], ['20966.jpg', 0], ['23369.jpg', 4], ['20467.jpg', 2], ['20066.jpg', 5], ['21846.jpg', 4], ['20363.jpg', 3], ['24301.jpg', 4], ['23167.jpg', 1], ['20916.jpg', 1], ['22046.jpg', 3], ['20358.jpg', 3], ['22588.jpg', 4], ['20958.jpg', 1], ['23329.jpg', 0], ['22068.jpg', 2], ['20680.jpg', 2], ['22127.jpg', 4], ['21828.jpg', 4], ['22942.jpg', 2], ['23653.jpg', 2], ['22868.jpg', 3], ['21589.jpg', 4], ['20088.jpg', 5], ['22908.jpg', 3], ['23117.jpg', 3], ['21800.jpg', 5], ['23613.jpg', 1], ['22012.jpg', 4], ['23918.jpg', 3], ['23729.jpg', 5], ['24006.jpg', 3], ['23310.jpg', 0], ['22647.jpg', 2], ['24066.jpg', 3], ['21390.jpg', 2], ['21699.jpg', 1], ['21497.jpg', 1], ['24172.jpg', 5], ['23413.jpg', 3], ['23106.jpg', 0], ['22634.jpg', 3], ['20459.jpg', 5], ['21040.jpg', 3], ['21170.jpg', 0], ['21666.jpg', 3], ['21465.jpg', 4], ['22577.jpg', 5], ['21859.jpg', 2], ['20133.jpg', 3], ['20848.jpg', 4], ['20282.jpg', 3], ['23557.jpg', 5], ['23584.jpg', 0], ['22760.jpg', 5], ['21993.jpg', 4], ['22962.jpg', 4], ['21676.jpg', 2], ['21572.jpg', 5], ['23955.jpg', 4], ['20413.jpg', 2], ['22776.jpg', 0], ['21789.jpg', 4], ['23337.jpg', 5], ['22993.jpg', 1], ['23321.jpg', 1], ['20927.jpg', 1], ['22163.jpg', 0], ['20482.jpg', 2], ['22936.jpg', 2], ['22883.jpg', 4], ['22304.jpg', 2], ['22425.jpg', 5], ['21135.jpg', 5], ['22745.jpg', 4], ['23810.jpg', 5], ['20475.jpg', 2], ['20672.jpg', 4], ['24051.jpg', 1], ['23792.jpg', 2], ['22230.jpg', 5], ['22398.jpg', 3], ['21061.jpg', 4], ['23854.jpg', 1], ['22133.jpg', 2], ['21430.jpg', 1], ['23611.jpg', 5], ['21459.jpg', 1], ['22933.jpg', 5], ['23476.jpg', 1], ['23346.jpg', 5], ['22286.jpg', 1], ['24219.jpg', 4], ['23127.jpg', 5], ['21505.jpg', 0], ['854.jpg', 0], ['22342.jpg', 1], ['22856.jpg', 0], ['22737.jpg', 5], ['23489.jpg', 4], ['22986.jpg', 5], ['23950.jpg', 5], ['20336.jpg', 5], ['21934.jpg', 2], ['24017.jpg', 0], ['23761.jpg', 3], ['22510.jpg', 2], ['23484.jpg', 4], ['20450.jpg', 1], ['23334.jpg', 3], ['22358.jpg', 2], ['21845.jpg', 4], ['21484.jpg', 1], ['22037.jpg', 2], ['22893.jpg', 3], ['23383.jpg', 2], ['20975.jpg', 4], ['22050.jpg', 1], ['23782.jpg', 1], ['23436.jpg', 3], ['22308.jpg', 1], ['23949.jpg', 1], ['21034.jpg', 5], ['20427.jpg', 3], ['20822.jpg', 4], ['22316.jpg', 5], ['20631.jpg', 2], ['22431.jpg', 3], ['21730.jpg', 4], ['21656.jpg', 0], ['23402.jpg', 1], ['22686.jpg', 5], ['21217.jpg', 4], ['24221.jpg', 5], ['22631.jpg', 0], ['21359.jpg', 5], ['20516.jpg', 5], ['21503.jpg', 5], ['21405.jpg', 4], ['24008.jpg', 2], ['23250.jpg', 4], ['20662.jpg', 2], ['20152.jpg', 5], ['24323.jpg', 2], ['20260.jpg', 1], ['21858.jpg', 5], ['21774.jpg', 3], ['20425.jpg', 0], ['22264.jpg', 2], ['22083.jpg', 4], ['22718.jpg', 4], ['22944.jpg', 1], ['22273.jpg', 3], ['22051.jpg', 3], ['23797.jpg', 3], ['22355.jpg', 1], ['23111.jpg', 5], ['23636.jpg', 2], ['22399.jpg', 2], ['24111.jpg', 4], ['23208.jpg', 5], ['23211.jpg', 0], ['22223.jpg', 5], ['20379.jpg', 3], ['21423.jpg', 5], ['23689.jpg', 5], ['20867.jpg', 3], ['22177.jpg', 1], ['24053.jpg', 0], ['21840.jpg', 4], ['21243.jpg', 0], ['22596.jpg', 0], ['22156.jpg', 5], ['20769.jpg', 4], ['22696.jpg', 2], ['22970.jpg', 5], ['22110.jpg', 0], ['23603.jpg', 2], ['22719.jpg', 4], ['22644.jpg', 5], ['21412.jpg', 2], ['497.jpg', 5], ['21293.jpg', 0], ['22862.jpg', 1], ['20362.jpg', 2], ['21574.jpg', 1], ['24005.jpg', 1], ['20686.jpg', 1], ['20138.jpg', 4], ['22293.jpg', 1], ['21707.jpg', 4], ['20638.jpg', 1], ['23171.jpg', 3], ['21818.jpg', 1], ['20490.jpg', 2], ['21443.jpg', 1], ['144.jpg', 0], ['23860.jpg', 5], ['21553.jpg', 2], ['20504.jpg', 0], ['20642.jpg', 5], ['23871.jpg', 2], ['20327.jpg', 3], ['20304.jpg', 4], ['21864.jpg', 1], ['22036.jpg', 2], ['20078.jpg', 0], ['20100.jpg', 1], ['23380.jpg', 1], ['20457.jpg', 2], ['22476.jpg', 5], ['22222.jpg', 2], ['21685.jpg', 1], ['20637.jpg', 0], ['22208.jpg', 0], ['21771.jpg', 2], ['21310.jpg', 1], ['20921.jpg', 2], ['23491.jpg', 1], ['21961.jpg', 2], ['23276.jpg', 1], ['22453.jpg', 5], ['23246.jpg', 3], ['23155.jpg', 5], ['952.jpg', 0], ['21199.jpg', 3], ['22183.jpg', 5], ['22731.jpg', 1], ['22890.jpg', 3], ['23965.jpg', 4], ['22390.jpg', 2], ['20874.jpg', 0], ['21675.jpg', 3], ['24083.jpg', 0], ['23591.jpg', 1], ['23254.jpg', 4], ['21319.jpg', 0], ['20650.jpg', 1], ['23785.jpg', 2], ['20963.jpg', 2], ['20968.jpg', 0], ['22707.jpg', 1], ['23218.jpg', 1], ['23295.jpg', 0], ['21434.jpg', 5], ['20397.jpg', 3], ['20629.jpg', 0], ['22761.jpg', 3], ['24184.jpg', 3], ['156.jpg', 0], ['22484.jpg', 4], ['20648.jpg', 0], ['20273.jpg', 4], ['21703.jpg', 0], ['24159.jpg', 5], ['21407.jpg', 3], ['24094.jpg', 3], ['20863.jpg', 5], ['21258.jpg', 4], ['20163.jpg', 5], ['20783.jpg', 2], ['24004.jpg', 3], ['22370.jpg', 0], ['24027.jpg', 4], ['21212.jpg', 1], ['21653.jpg', 5], ['23189.jpg', 2], ['21634.jpg', 5], ['23845.jpg', 5], ['20384.jpg', 1], ['22555.jpg', 4], ['22368.jpg', 5], ['21890.jpg', 1], ['20419.jpg', 4], ['20985.jpg', 3], ['21518.jpg', 2], ['22434.jpg', 1], ['21710.jpg', 4], ['21303.jpg', 2], ['20918.jpg', 0], ['21613.jpg', 3], ['20988.jpg', 5], ['20335.jpg', 5], ['20120.jpg', 3], ['24165.jpg', 3], ['21724.jpg', 5], ['23336.jpg', 4], ['24317.jpg', 5], ['22869.jpg', 3], ['22876.jpg', 2], ['20613.jpg', 3], ['22102.jpg', 4], ['22996.jpg', 1], ['20406.jpg', 2], ['23835.jpg', 5], ['21598.jpg', 4], ['20713.jpg', 2], ['22154.jpg', 4], ['22725.jpg', 5], ['20873.jpg', 4], ['1081.jpg', 0], ['24040.jpg', 5], ['21367.jpg', 0], ['24126.jpg', 4], ['23452.jpg', 4], ['20811.jpg', 4], ['23576.jpg', 4], ['23912.jpg', 1], ['22963.jpg', 4], ['24242.jpg', 2], ['23974.jpg', 4], ['21948.jpg', 0], ['21022.jpg', 4], ['22331.jpg', 1], ['22859.jpg', 2], ['22096.jpg', 1], ['23309.jpg', 1], ['21533.jpg', 4], ['22786.jpg', 5], ['24271.jpg', 0], ['22461.jpg', 5], ['20882.jpg', 4], ['22201.jpg', 1], ['21203.jpg', 5], ['24021.jpg', 2], ['23758.jpg', 5], ['20766.jpg', 0], ['20574.jpg', 5], ['22487.jpg', 4], ['21702.jpg', 4], ['22086.jpg', 3], ['23726.jpg', 0], ['21851.jpg', 3], ['20794.jpg', 1], ['22243.jpg', 1], ['23661.jpg', 2], ['21366.jpg', 1], ['21645.jpg', 1], ['23795.jpg', 0], ['23736.jpg', 3], ['22626.jpg', 4], ['22444.jpg', 3], ['24199.jpg', 5], ['22624.jpg', 0], ['20390.jpg', 0], ['23174.jpg', 2], ['23559.jpg', 3], ['23838.jpg', 2], ['22567.jpg', 3], ['20126.jpg', 5], ['21455.jpg', 4], ['20179.jpg', 2], ['20556.jpg', 1], ['22058.jpg', 0], ['23632.jpg', 1], ['21247.jpg', 3], ['21662.jpg', 4], ['23746.jpg', 3], ['20746.jpg', 2], ['24205.jpg', 0], ['20173.jpg', 1], ['23889.jpg', 2], ['20719.jpg', 5], ['22479.jpg', 3], ['21804.jpg', 2], ['20741.jpg', 3], ['23947.jpg', 4], ['21605.jpg', 3], ['20730.jpg', 0], ['20900.jpg', 1], ['20269.jpg', 4], ['22182.jpg', 2], ['22245.jpg', 3], ['20991.jpg', 3], ['22432.jpg', 4], ['21750.jpg', 3], ['21032.jpg', 4], ['22810.jpg', 0], ['22391.jpg', 3], ['23049.jpg', 4], ['22717.jpg', 0], ['24076.jpg', 4], ['23470.jpg', 3], ['21427.jpg', 5], ['23432.jpg', 3], ['21377.jpg', 3], ['22277.jpg', 3], ['20159.jpg', 1], ['23822.jpg', 2], ['24152.jpg', 2], ['22960.jpg', 3], ['21456.jpg', 4], ['22846.jpg', 3], ['23286.jpg', 5], ['23477.jpg', 1], ['22185.jpg', 0], ['21587.jpg', 1], ['22386.jpg', 4], ['23541.jpg', 3], ['24082.jpg', 1], ['24128.jpg', 4], ['21488.jpg', 3], ['22643.jpg', 1], ['23349.jpg', 5], ['21776.jpg', 5], ['23182.jpg', 5], ['21618.jpg', 3], ['24252.jpg', 3], ['24022.jpg', 2], ['21409.jpg', 2], ['23962.jpg', 2], ['23855.jpg', 4], ['20933.jpg', 2], ['23368.jpg', 1], ['21387.jpg', 0], ['21245.jpg', 4], ['21943.jpg', 2], ['22375.jpg', 5], ['20889.jpg', 4], ['20808.jpg', 5], ['23094.jpg', 1], ['23610.jpg', 3], ['20070.jpg', 5], ['23886.jpg', 0], ['20317.jpg', 3], ['21400.jpg', 5], ['21665.jpg', 3], ['20816.jpg', 1], ['20160.jpg', 2], ['22997.jpg', 4], ['22262.jpg', 4], ['23172.jpg', 4], ['23766.jpg', 5], ['20443.jpg', 3], ['22437.jpg', 4], ['21781.jpg', 3], ['23510.jpg', 5], ['21336.jpg', 3], ['23183.jpg', 5], ['20666.jpg', 0], ['20558.jpg', 5], ['22034.jpg', 4], ['24274.jpg', 4], ['21492.jpg', 3], ['20671.jpg', 3], ['21570.jpg', 3], ['21842.jpg', 2], ['22671.jpg', 0], ['20931.jpg', 5], ['20129.jpg', 3], ['23169.jpg', 3], ['22727.jpg', 2], ['20059.jpg', 2], ['21638.jpg', 4], ['22157.jpg', 3], ['22410.jpg', 0], ['23090.jpg', 1], ['20621.jpg', 5], ['20825.jpg', 1], ['20114.jpg', 4], ['22004.jpg', 1], ['23869.jpg', 2], ['23492.jpg', 2], ['23009.jpg', 0], ['22763.jpg', 1], ['20328.jpg', 1], ['21462.jpg', 4], ['22442.jpg', 0], ['20950.jpg', 2], ['20502.jpg', 1], ['23502.jpg', 1], ['20527.jpg', 5], ['22958.jpg', 3], ['21276.jpg', 3], ['20255.jpg', 4], ['22406.jpg', 5], ['23753.jpg', 2], ['23122.jpg', 1], ['22175.jpg', 0], ['20332.jpg', 5], ['20589.jpg', 3], ['20544.jpg', 1], ['21897.jpg', 0], ['22070.jpg', 2], ['21234.jpg', 4], ['22126.jpg', 3], ['20438.jpg', 3], ['22088.jpg', 0], ['22015.jpg', 2], ['23023.jpg', 0], ['20679.jpg', 4], ['20373.jpg', 2], ['21682.jpg', 5], ['20884.jpg', 5], ['22593.jpg', 5], ['520.jpg', 0], ['21905.jpg', 0], ['22976.jpg', 5], ['24161.jpg', 5], ['22473.jpg', 2], ['24108.jpg', 1], ['21422.jpg', 1], ['22845.jpg', 1], ['21768.jpg', 2], ['23979.jpg', 1], ['20893.jpg', 4], ['23806.jpg', 3], ['21102.jpg', 2], ['21092.jpg', 2], ['21597.jpg', 0], ['22768.jpg', 3], ['20326.jpg', 2], ['23156.jpg', 1], ['21995.jpg', 2], ['23578.jpg', 2], ['23744.jpg', 2], ['20367.jpg', 5], ['23643.jpg', 5], ['21285.jpg', 4], ['20212.jpg', 4], ['23942.jpg', 3], ['23260.jpg', 2], ['23036.jpg', 4], ['23097.jpg', 0], ['23982.jpg', 0], ['20796.jpg', 3], ['23149.jpg', 2], ['21445.jpg', 0], ['21014.jpg', 4], ['20231.jpg', 0], ['24018.jpg', 4], ['23377.jpg', 1], ['21960.jpg', 3], ['20074.jpg', 0], ['22082.jpg', 5], ['24049.jpg', 2], ['24267.jpg', 2], ['23975.jpg', 3], ['22959.jpg', 3], ['23872.jpg', 4], ['23534.jpg', 1], ['20098.jpg', 1], ['22670.jpg', 2], ['22586.jpg', 0], ['20315.jpg', 1], ['23630.jpg', 3], ['20678.jpg', 4], ['23194.jpg', 4], ['22351.jpg', 4], ['20175.jpg', 1], ['23798.jpg', 1], ['24091.jpg', 3], ['849.jpg', 0], ['22204.jpg', 5], ['21307.jpg', 2], ['23297.jpg', 0], ['21361.jpg', 2], ['24112.jpg', 2], ['22137.jpg', 2], ['21862.jpg', 4], ['22105.jpg', 4], ['22187.jpg', 2], ['21937.jpg', 4], ['20960.jpg', 0], ['23910.jpg', 2], ['22688.jpg', 4], ['21808.jpg', 3], ['21463.jpg', 2], ['24056.jpg', 2], ['23138.jpg', 5], ['20992.jpg', 3], ['22527.jpg', 5], ['23560.jpg', 1], ['22462.jpg', 0], ['24311.jpg', 4], ['21819.jpg', 3], ['22528.jpg', 4], ['20771.jpg', 0], ['23555.jpg', 0], ['23594.jpg', 0], ['22608.jpg', 3], ['21458.jpg', 5], ['22272.jpg', 3], ['22580.jpg', 4], ['21318.jpg', 0], ['21396.jpg', 3], ['23463.jpg', 1], ['20815.jpg', 2], ['21829.jpg', 3], ['23465.jpg', 1], ['21478.jpg', 2], ['23551.jpg', 1], ['22415.jpg', 0], ['21965.jpg', 1], ['23234.jpg', 5], ['22495.jpg', 5], ['21543.jpg', 2], ['23069.jpg', 4], ['20540.jpg', 2], ['23668.jpg', 5], ['21754.jpg', 0], ['21903.jpg', 4], ['23769.jpg', 4], ['21020.jpg', 1], ['655.jpg', 5], ['20528.jpg', 3], ['23400.jpg', 4], ['23316.jpg', 0], ['20537.jpg', 5], ['23749.jpg', 5], ['20858.jpg', 0], ['21066.jpg', 0], ['23825.jpg', 0], ['24099.jpg', 4], ['21929.jpg', 0], ['21525.jpg', 4], ['20664.jpg', 4], ['23935.jpg', 5], ['23107.jpg', 1], ['20172.jpg', 4], ['23135.jpg', 4], ['20477.jpg', 2], ['23164.jpg', 2], ['21100.jpg', 5], ['24163.jpg', 4], ['24245.jpg', 3], ['23293.jpg', 4], ['20733.jpg', 0], ['24139.jpg', 5], ['811.jpg', 0], ['22193.jpg', 2], ['20653.jpg', 5], ['21496.jpg', 0], ['20111.jpg', 2], ['21592.jpg', 2], ['21650.jpg', 3], ['21139.jpg', 1], ['20942.jpg', 4], ['24147.jpg', 2], ['22556.jpg', 2], ['23641.jpg', 4], ['23428.jpg', 3], ['21185.jpg', 5], ['20585.jpg', 3], ['23775.jpg', 3], ['22440.jpg', 3], ['23512.jpg', 0], ['21775.jpg', 4], ['23404.jpg', 0], ['20292.jpg', 2], ['23282.jpg', 3], ['20644.jpg', 4], ['21213.jpg', 2], ['21191.jpg', 4], ['22969.jpg', 0], ['23709.jpg', 1], ['22858.jpg', 3], ['20565.jpg', 3], ['21807.jpg', 4], ['20687.jpg', 4], ['21970.jpg', 0], ['22045.jpg', 0], ['20181.jpg', 3], ['21274.jpg', 3], ['22290.jpg', 3], ['21231.jpg', 2], ['20177.jpg', 0], ['21600.jpg', 3], ['20706.jpg', 2], ['20274.jpg', 1], ['20869.jpg', 4], ['22111.jpg', 1], ['23131.jpg', 2], ['22227.jpg', 0], ['21876.jpg', 3], ['20899.jpg', 5], ['21049.jpg', 2], ['21256.jpg', 2], ['23382.jpg', 4], ['21442.jpg', 4], ['21576.jpg', 3], ['21344.jpg', 1], ['23265.jpg', 4], ['23637.jpg', 0], ['21399.jpg', 0], ['22261.jpg', 3], ['23375.jpg', 5], ['23529.jpg', 0], ['21291.jpg', 0], ['23098.jpg', 2], ['21641.jpg', 0], ['22129.jpg', 4], ['22928.jpg', 3], ['21046.jpg', 1], ['22278.jpg', 3], ['23748.jpg', 2], ['20940.jpg', 3], ['21044.jpg', 5], ['20676.jpg', 3], ['21481.jpg', 4], ['22606.jpg', 2], ['20887.jpg', 2], ['23409.jpg', 0], ['21538.jpg', 1], ['24124.jpg', 5], ['24123.jpg', 4], ['20885.jpg', 1], ['21063.jpg', 2], ['21214.jpg', 3], ['24131.jpg', 0], ['22720.jpg', 3], ['20067.jpg', 0], ['20549.jpg', 0], ['20167.jpg', 4], ['23137.jpg', 5], ['22797.jpg', 3], ['20832.jpg', 3], ['22228.jpg', 5], ['22057.jpg', 5], ['23232.jpg', 3], ['22826.jpg', 5], ['20313.jpg', 4], ['22026.jpg', 2], ['24273.jpg', 3], ['20937.jpg', 5], ['20810.jpg', 2], ['21007.jpg', 5], ['22464.jpg', 5], ['21527.jpg', 0], ['20906.jpg', 2], ['24218.jpg', 2], ['23669.jpg', 5], ['22712.jpg', 3], ['20150.jpg', 1], ['22325.jpg', 4], ['22087.jpg', 1], ['22100.jpg', 2], ['23713.jpg', 1], ['23735.jpg', 0], ['21813.jpg', 3], ['23247.jpg', 4], ['22141.jpg', 3], ['22518.jpg', 2], ['23604.jpg', 0], ['23273.jpg', 5], ['20190.jpg', 4], ['24214.jpg', 4], ['23361.jpg', 3], ['20834.jpg', 4], ['515.jpg', 5], ['22455.jpg', 4], ['20888.jpg', 5], ['21224.jpg', 4], ['20533.jpg', 1], ['21794.jpg', 1], ['23929.jpg', 2], ['24011.jpg', 2], ['20497.jpg', 3], ['21826.jpg', 3], ['20398.jpg', 3], ['21220.jpg', 5], ['24320.jpg', 0], ['20318.jpg', 5], ['22656.jpg', 5], ['23909.jpg', 2], ['22411.jpg', 3], ['21008.jpg', 2], ['20184.jpg', 5], ['21428.jpg', 4], ['23058.jpg', 4], ['23577.jpg', 5], ['23228.jpg', 5], ['21378.jpg', 4], ['20084.jpg', 5], ['23187.jpg', 4], ['21516.jpg', 0], ['20670.jpg', 5], ['21635.jpg', 4], ['23821.jpg', 5], ['22515.jpg', 3], ['22665.jpg', 0], ['21892.jpg', 5], ['22043.jpg', 2], ['23496.jpg', 3], ['22754.jpg', 2], ['20896.jpg', 0], ['23879.jpg', 1], ['20108.jpg', 1], ['22818.jpg', 3], ['23639.jpg', 0], ['20944.jpg', 5], ['20640.jpg', 4], ['22299.jpg', 1], ['22673.jpg', 5], ['22953.jpg', 0], ['22457.jpg', 5], ['22377.jpg', 3], ['24321.jpg', 3], ['20821.jpg', 2], ['21119.jpg', 3], ['23052.jpg', 5], ['23101.jpg', 1], ['21735.jpg', 1], ['22520.jpg', 2], ['22409.jpg', 0], ['22980.jpg', 4], ['21648.jpg', 0], ['20480.jpg', 2], ['22581.jpg', 2], ['20994.jpg', 5], ['23277.jpg', 3], ['21352.jpg', 1], ['20635.jpg', 0], ['23478.jpg', 2], ['24119.jpg', 0], ['22120.jpg', 5], ['20934.jpg', 5], ['22813.jpg', 0], ['21524.jpg', 2], ['20522.jpg', 3], ['22782.jpg', 2], ['20844.jpg', 2], ['20983.jpg', 2], ['21286.jpg', 0], ['21545.jpg', 3], ['22998.jpg', 2], ['23388.jpg', 0], ['21569.jpg', 4], ['24088.jpg', 4], ['22542.jpg', 1], ['24269.jpg', 5], ['21868.jpg', 1], ['23527.jpg', 0], ['22009.jpg', 2], ['21677.jpg', 1], ['23629.jpg', 2], ['20866.jpg', 3], ['24077.jpg', 5], ['23003.jpg', 0], ['22812.jpg', 0], ['22721.jpg', 4], ['22598.jpg', 5], ['22995.jpg', 0], ['20136.jpg', 1], ['20804.jpg', 0], ['21884.jpg', 1], ['20915.jpg', 5], ['22625.jpg', 5], ['20952.jpg', 0], ['22903.jpg', 5], ['22664.jpg', 4], ['22805.jpg', 1], ['22426.jpg', 5], ['21153.jpg', 2], ['23977.jpg', 2], ['20651.jpg', 2], ['21272.jpg', 4], ['21894.jpg', 1], ['22301.jpg', 5], ['23393.jpg', 1], ['20577.jpg', 3], ['20206.jpg', 0], ['24155.jpg', 4], ['21006.jpg', 4], ['22766.jpg', 2], ['23281.jpg', 4], ['24075.jpg', 3], ['23812.jpg', 2], ['24072.jpg', 1], ['21209.jpg', 1], ['21162.jpg', 3], ['24270.jpg', 5], ['20776.jpg', 0], ['24150.jpg', 2], ['20854.jpg', 2], ['22136.jpg', 1], ['20531.jpg', 4], ['21749.jpg', 5], ['20211.jpg', 2], ['23678.jpg', 2], ['20740.jpg', 1], ['21419.jpg', 0], ['24118.jpg', 5], ['21542.jpg', 3], ['22640.jpg', 5], ['21329.jpg', 2], ['22780.jpg', 3], ['23657.jpg', 1], ['21486.jpg', 2], ['22031.jpg', 5], ['20580.jpg', 0], ['24130.jpg', 1], ['22384.jpg', 0], ['23959.jpg', 4], ['22538.jpg', 1], ['21964.jpg', 1], ['22925.jpg', 2], ['22709.jpg', 1], ['24286.jpg', 3], ['20225.jpg', 1], ['20394.jpg', 0], ['20619.jpg', 1], ['20972.jpg', 5], ['23318.jpg', 3], ['23837.jpg', 4], ['20347.jpg', 4], ['20195.jpg', 2], ['20250.jpg', 0], ['20702.jpg', 3], ['23851.jpg', 4], ['20072.jpg', 4], ['24261.jpg', 2], ['22366.jpg', 5], ['21537.jpg', 2], ['23344.jpg', 1], ['20835.jpg', 5], ['22678.jpg', 4], ['22687.jpg', 2], ['21086.jpg', 5], ['20980.jpg', 3], ['21517.jpg', 3], ['20634.jpg', 4], ['21547.jpg', 5], ['23454.jpg', 5], ['21138.jpg', 4], ['23259.jpg', 1], ['22824.jpg', 4], ['20559.jpg', 3], ['24234.jpg', 1], ['23435.jpg', 0], ['22774.jpg', 1], ['23804.jpg', 4], ['24282.jpg', 3], ['23084.jpg', 1], ['22668.jpg', 5], ['23875.jpg', 1], ['22283.jpg', 5], ['20685.jpg', 1], ['21060.jpg', 2], ['23739.jpg', 2], ['21663.jpg', 0], ['20487.jpg', 5], ['23948.jpg', 5], ['23240.jpg', 1], ['23193.jpg', 0], ['21148.jpg', 0], ['20306.jpg', 1], ['22522.jpg', 4], ['23547.jpg', 5], ['22747.jpg', 4], ['21881.jpg', 2], ['20245.jpg', 0], ['21599.jpg', 0], ['21895.jpg', 3], ['21415.jpg', 3], ['22173.jpg', 4], ['21035.jpg', 2], ['21633.jpg', 2], ['21410.jpg', 5], ['20115.jpg', 4], ['21358.jpg', 1], ['23682.jpg', 4], ['22169.jpg', 1], ['22570.jpg', 1], ['20311.jpg', 1], ['20833.jpg', 1], ['23589.jpg', 2], ['21712.jpg', 0], ['22871.jpg', 3], ['20153.jpg', 3], ['22478.jpg', 4], ['20806.jpg', 5], ['21137.jpg', 5], ['23161.jpg', 1], ['21764.jpg', 0], ['23638.jpg', 4], ['23001.jpg', 2], ['20186.jpg', 0], ['20073.jpg', 0], ['21942.jpg', 2], ['23363.jpg', 3], ['20329.jpg', 2], ['21918.jpg', 4], ['23695.jpg', 1], ['22821.jpg', 0], ['24266.jpg', 4], ['20948.jpg', 2], ['23814.jpg', 5], ['23370.jpg', 3], ['23462.jpg', 1], ['22691.jpg', 0], ['605.jpg', 0], ['20357.jpg', 5], ['21889.jpg', 4], ['23201.jpg', 3], ['24109.jpg', 2], ['20971.jpg', 3], ['23125.jpg', 2], ['20955.jpg', 4], ['21077.jpg', 5], ['22165.jpg', 3], ['21241.jpg', 5], ['22246.jpg', 4], ['22690.jpg', 4], ['22493.jpg', 3], ['20856.jpg', 4], ['23351.jpg', 4], ['22247.jpg', 1], ['20265.jpg', 4], ['20718.jpg', 1], ['22881.jpg', 4], ['692.jpg', 5], ['22267.jpg', 0], ['23938.jpg', 3], ['20081.jpg', 4], ['23195.jpg', 5], ['20076.jpg', 4], ['21369.jpg', 3], ['22237.jpg', 4], ['23371.jpg', 1], ['22616.jpg', 4], ['20090.jpg', 5], ['21435.jpg', 5], ['20094.jpg', 0], ['22654.jpg', 5], ['20599.jpg', 3], ['22915.jpg', 2], ['23565.jpg', 3], ['21978.jpg', 3], ['23248.jpg', 4], ['21919.jpg', 1], ['20366.jpg', 0], ['961.jpg', 0], ['745.jpg', 0], ['20112.jpg', 4], ['21433.jpg', 0], ['671.jpg', 5], ['24106.jpg', 5], ['23743.jpg', 1], ['20926.jpg', 0], ['23937.jpg', 5], ['989.jpg', 0], ['22924.jpg', 2], ['22819.jpg', 1], ['22265.jpg', 2], ['22965.jpg', 5], ['21772.jpg', 0], ['22875.jpg', 4], ['22917.jpg', 1], ['21747.jpg', 2], ['736.jpg', 0], ['21226.jpg', 3], ['23715.jpg', 2], ['23943.jpg', 5], ['22101.jpg', 3], ['23624.jpg', 4], ['21756.jpg', 4], ['23474.jpg', 1], ['21798.jpg', 1], ['21546.jpg', 2], ['21174.jpg', 5], ['20785.jpg', 1], ['21697.jpg', 3], ['22093.jpg', 1], ['20986.jpg', 3], ['20246.jpg', 5], ['22820.jpg', 3], ['24136.jpg', 4], ['22309.jpg', 3], ['20519.jpg', 4], ['20446.jpg', 2], ['20080.jpg', 5], ['20382.jpg', 4], ['23338.jpg', 0], ['23475.jpg', 0], ['23180.jpg', 3], ['21309.jpg', 0], ['23048.jpg', 0], ['22134.jpg', 0], ['22387.jpg', 0], ['23162.jpg', 4], ['21904.jpg', 1], ['24085.jpg', 5], ['23771.jpg', 2], ['24244.jpg', 2], ['21907.jpg', 2], ['22885.jpg', 3], ['22335.jpg', 3], ['22241.jpg', 2], ['20674.jpg', 1], ['1053.jpg', 0], ['23022.jpg', 4], ['21499.jpg', 5], ['20123.jpg', 3], ['20602.jpg', 5], ['22329.jpg', 0], ['21737.jpg', 4], ['22882.jpg', 2], ['22653.jpg', 2], ['388.jpg', 0], ['23006.jpg', 2], ['22253.jpg', 3], ['23818.jpg', 1], ['20511.jpg', 4], ['21860.jpg', 4], ['24186.jpg', 4], ['21563.jpg', 4], ['23222.jpg', 4], ['21898.jpg', 4], ['21784.jpg', 4], ['21783.jpg', 1], ['21535.jpg', 4], ['20401.jpg', 3], ['24122.jpg', 4], ['22646.jpg', 3], ['22639.jpg', 1], ['22197.jpg', 1], ['20498.jpg', 5], ['22769.jpg', 3], ['23997.jpg', 0], ['20663.jpg', 0], ['22736.jpg', 4], ['22738.jpg', 1], ['20356.jpg', 3], ['23868.jpg', 3], ['23737.jpg', 0], ['21151.jpg', 0], ['22109.jpg', 5], ['24166.jpg', 2], ['23453.jpg', 1], ['24249.jpg', 2], ['21313.jpg', 3], ['20999.jpg', 4], ['23549.jpg', 4], ['20539.jpg', 2], ['22637.jpg', 0], ['23655.jpg', 2], ['21513.jpg', 4], ['23144.jpg', 5], ['22669.jpg', 5], ['21893.jpg', 3], ['24280.jpg', 5], ['21093.jpg', 3], ['21054.jpg', 1], ['22536.jpg', 2], ['22667.jpg', 2], ['21237.jpg', 4], ['23984.jpg', 1], ['23153.jpg', 3], ['22362.jpg', 2], ['21175.jpg', 5], ['21059.jpg', 2], ['22741.jpg', 0], ['24044.jpg', 4], ['20904.jpg', 0], ['22847.jpg', 1], ['20510.jpg', 1], ['22258.jpg', 2], ['21229.jpg', 0], ['21557.jpg', 4], ['24292.jpg', 5], ['22735.jpg', 0], ['21179.jpg', 1], ['23710.jpg', 2], ['22315.jpg', 0], ['22240.jpg', 0], ['24283.jpg', 3], ['20690.jpg', 3], ['22575.jpg', 1], ['20608.jpg', 3], ['21476.jpg', 4], ['20725.jpg', 0], ['23542.jpg', 0], ['21328.jpg', 4], ['23945.jpg', 0], ['20331.jpg', 5], ['513.jpg', 0], ['22184.jpg', 2], ['22219.jpg', 4], ['23995.jpg', 5], ['22249.jpg', 5], ['21736.jpg', 1], ['22128.jpg', 1], ['21984.jpg', 3], ['22879.jpg', 5], ['23548.jpg', 2], ['20222.jpg', 5], ['22989.jpg', 0], ['23640.jpg', 1], ['21169.jpg', 1], ['22911.jpg', 0], ['22475.jpg', 2], ['21812.jpg', 4], ['22716.jpg', 3], ['23143.jpg', 0], ['23667.jpg', 4], ['24179.jpg', 0], ['20617.jpg', 3], ['22343.jpg', 3], ['23332.jpg', 1], ['23927.jpg', 4], ['21468.jpg', 3], ['21038.jpg', 3], ['21011.jpg', 0], ['21475.jpg', 2], ['20268.jpg', 0], ['21018.jpg', 1], ['21334.jpg', 4], ['22919.jpg', 2], ['20703.jpg', 3], ['21158.jpg', 0], ['23563.jpg', 2], ['20142.jpg', 2], ['23903.jpg', 2], ['22941.jpg', 0], ['20615.jpg', 5], ['21726.jpg', 3], ['21380.jpg', 5], ['22085.jpg', 4], ['24043.jpg', 3], ['20754.jpg', 1], ['23315.jpg', 5], ['22948.jpg', 4], ['21004.jpg', 3], ['21118.jpg', 3], ['24189.jpg', 4], ['22003.jpg', 4], ['20763.jpg', 2], ['21609.jpg', 4], ['20508.jpg', 2], ['20353.jpg', 5], ['22205.jpg', 2], ['22188.jpg', 3], ['22842.jpg', 2], ['22147.jpg', 4], ['21232.jpg', 0], ['23538.jpg', 3], ['22232.jpg', 5], ['22599.jpg', 3], ['21706.jpg', 0], ['21271.jpg', 0], ['22870.jpg', 0], ['22074.jpg', 1], ['20165.jpg', 4], ['23958.jpg', 5], ['22583.jpg', 3], ['23747.jpg', 1], ['21025.jpg', 2], ['24170.jpg', 4], ['21454.jpg', 5], ['21001.jpg', 1], ['20684.jpg', 3], ['22681.jpg', 2], ['22814.jpg', 1], ['23119.jpg', 4], ['22380.jpg', 5], ['23791.jpg', 1], ['24222.jpg', 1], ['22898.jpg', 5], ['20622.jpg', 4], ['23448.jpg', 2], ['22306.jpg', 3], ['24087.jpg', 0], ['22652.jpg', 5], ['20281.jpg', 2], ['20402.jpg', 4], ['24196.jpg', 2], ['20178.jpg', 5], ['20668.jpg', 2], ['21556.jpg', 2], ['20554.jpg', 3], ['21290.jpg', 2], ['23175.jpg', 0], ['23421.jpg', 0], ['20494.jpg', 4], ['20995.jpg', 5], ['20264.jpg', 4], ['24032.jpg', 3], ['20423.jpg', 2], ['23186.jpg', 5], ['24135.jpg', 5], ['24178.jpg', 1], ['23817.jpg', 1], ['23284.jpg', 5], ['20144.jpg', 3], ['24039.jpg', 1], ['22337.jpg', 4], ['22042.jpg', 3], ['22886.jpg', 2], ['23540.jpg', 1], ['20061.jpg', 0], ['20176.jpg', 3], ['21052.jpg', 1], ['22974.jpg', 2], ['21584.jpg', 1], ['20897.jpg', 5], ['22689.jpg', 0], ['20374.jpg', 0], ['23781.jpg', 5], ['23724.jpg', 2], ['22938.jpg', 5], ['23642.jpg', 5], ['21568.jpg', 4], ['23530.jpg', 0], ['21814.jpg', 1], ['20310.jpg', 2], ['21304.jpg', 2], ['23188.jpg', 0], ['22711.jpg', 4], ['20857.jpg', 3], ['20228.jpg', 0], ['20928.jpg', 0], ['21281.jpg', 1], ['20710.jpg', 0], ['22935.jpg', 0], ['22314.jpg', 5], ['22458.jpg', 5], ['21711.jpg', 3], ['21302.jpg', 2], ['22317.jpg', 0], ['20996.jpg', 1], ['20062.jpg', 1], ['20247.jpg', 4], ['21472.jpg', 2], ['23280.jpg', 4], ['20077.jpg', 4], ['23567.jpg', 1], ['22005.jpg', 2], ['22252.jpg', 0], ['145.jpg', 0], ['24284.jpg', 3], ['22054.jpg', 2], ['20767.jpg', 3], ['23093.jpg', 4], ['22322.jpg', 5], ['23444.jpg', 5], ['23596.jpg', 2], ['20712.jpg', 2], ['22534.jpg', 5], ['22030.jpg', 3], ['24248.jpg', 2], ['21123.jpg', 2], ['616.jpg', 0], ['24000.jpg', 4], ['22189.jpg', 3], ['20843.jpg', 5], ['21996.jpg', 4], ['20091.jpg', 1], ['21678.jpg', 5], ['24334.jpg', 2], ['21780.jpg', 5], ['21941.jpg', 5], ['1020.jpg', 0], ['20898.jpg', 0], ['23067.jpg', 1], ['23348.jpg', 2], ['23443.jpg', 2], ['21150.jpg', 1], ['23750.jpg', 1], ['20365.jpg', 5], ['20474.jpg', 5], ['22661.jpg', 4], ['22514.jpg', 1], ['21426.jpg', 0], ['278.jpg', 0], ['22987.jpg', 5], ['22098.jpg', 0], ['21129.jpg', 3], ['20925.jpg', 1], ['21280.jpg', 3], ['20842.jpg', 2], ['22279.jpg', 3], ['21805.jpg', 2], ['21183.jpg', 2], ['22424.jpg', 2], ['20876.jpg', 3], ['22338.jpg', 3], ['22091.jpg', 2], ['23192.jpg', 4], ['668.jpg', 0], ['23398.jpg', 2], ['22831.jpg', 4], ['23617.jpg', 2], ['22571.jpg', 5], ['21078.jpg', 2], ['24209.jpg', 4], ['21827.jpg', 0], ['21392.jpg', 4], ['21483.jpg', 1], ['20723.jpg', 0], ['20984.jpg', 1], ['21959.jpg', 5], ['21414.jpg', 4], ['23229.jpg', 4], ['20840.jpg', 4], ['22851.jpg', 2], ['21155.jpg', 2], ['20236.jpg', 4], ['22357.jpg', 0], ['22340.jpg', 2], ['20846.jpg', 5], ['20296.jpg', 5], ['21296.jpg', 0], ['24026.jpg', 5], ['22595.jpg', 1], ['20688.jpg', 0], ['23733.jpg', 5], ['24062.jpg', 0], ['23230.jpg', 2], ['22954.jpg', 2], ['23728.jpg', 1], ['21207.jpg', 1], ['24294.jpg', 2], ['21913.jpg', 5], ['21095.jpg', 1], ['22602.jpg', 1], ['21991.jpg', 1], ['21000.jpg', 2], ['23764.jpg', 1], ['22494.jpg', 3], ['20658.jpg', 2], ['24310.jpg', 2], ['21244.jpg', 3], ['22032.jpg', 5], ['20092.jpg', 2], ['21406.jpg', 4], ['21751.jpg', 2], ['20189.jpg', 3], ['20624.jpg', 2], ['21306.jpg', 4], ['20961.jpg', 3], ['22589.jpg', 4], ['23205.jpg', 4], ['23676.jpg', 2], ['23459.jpg', 0], ['20756.jpg', 1], ['24263.jpg', 3], ['21417.jpg', 3], ['21447.jpg', 0], ['20058.jpg', 3], ['20949.jpg', 2], ['23076.jpg', 5], ['23061.jpg', 1], ['22771.jpg', 1], ['24181.jpg', 2], ['20575.jpg', 3], ['20720.jpg', 2], ['24101.jpg', 5], ['20472.jpg', 4], ['23684.jpg', 2], ['24299.jpg', 2], ['22318.jpg', 2], ['23070.jpg', 1], ['20316.jpg', 4], ['24313.jpg', 1], ['20590.jpg', 2], ['22095.jpg', 3], ['23793.jpg', 5], ['21470.jpg', 0], ['22503.jpg', 3], ['20411.jpg', 1], ['23988.jpg', 2], ['20571.jpg', 2], ['20234.jpg', 5], ['23705.jpg', 4], ['23141.jpg', 3], ['22428.jpg', 5], ['23562.jpg', 4], ['23734.jpg', 3], ['22702.jpg', 0], ['24143.jpg', 1], ['22525.jpg', 2], ['23031.jpg', 1], ['24328.jpg', 3], ['21873.jpg', 1], ['22353.jpg', 4], ['20371.jpg', 4], ['22927.jpg', 2], ['20748.jpg', 0], ['23102.jpg', 5], ['22446.jpg', 1], ['20938.jpg', 1], ['21604.jpg', 1], ['21168.jpg', 2], ['23908.jpg', 0], ['615.jpg', 5], ['20646.jpg', 0], ['22550.jpg', 1], ['22294.jpg', 2], ['21906.jpg', 2], ['20805.jpg', 5], ['23105.jpg', 4], ['24180.jpg', 4], ['23241.jpg', 1], ['23486.jpg', 1], ['23355.jpg', 0], ['21646.jpg', 0], ['23731.jpg', 4], ['24220.jpg', 1], ['20694.jpg', 4], ['21865.jpg', 2], ['21596.jpg', 2], ['21453.jpg', 3], ['22723.jpg', 1], ['24208.jpg', 3], ['22677.jpg', 5], ['23649.jpg', 4], ['22700.jpg', 3], ['24277.jpg', 2], ['23471.jpg', 5], ['21317.jpg', 1], ['20788.jpg', 0], ['21130.jpg', 4], ['21981.jpg', 3], ['24047.jpg', 1], ['20922.jpg', 0], ['20359.jpg', 5], ['22196.jpg', 5], ['21670.jpg', 0], ['23362.jpg', 0], ['21250.jpg', 1], ['22257.jpg', 0], ['21233.jpg', 0], ['21639.jpg', 4], ['21437.jpg', 2], ['20075.jpg', 5], ['22537.jpg', 3], ['20486.jpg', 2], ['22472.jpg', 1], ['21849.jpg', 4], ['23896.jpg', 3], ['23773.jpg', 5], ['21683.jpg', 0], ['23619.jpg', 3], ['24110.jpg', 1], ['23623.jpg', 4], ['21501.jpg', 0], ['21651.jpg', 2], ['22517.jpg', 1], ['22907.jpg', 0], ['22759.jpg', 0], ['20107.jpg', 3], ['21154.jpg', 5], ['21617.jpg', 5], ['20417.jpg', 5], ['23888.jpg', 2], ['22460.jpg', 5], ['23109.jpg', 0], ['23124.jpg', 4], ['22020.jpg', 3], ['21058.jpg', 0], ['20592.jpg', 5], ['22451.jpg', 2], ['21097.jpg', 1], ['21042.jpg', 3], ['21657.jpg', 3], ['22452.jpg', 5], ['22139.jpg', 5], ['20515.jpg', 0], ['21855.jpg', 1], ['20194.jpg', 5], ['22961.jpg', 4], ['20962.jpg', 5], ['20782.jpg', 1], ['21254.jpg', 1], ['20267.jpg', 4], ['22748.jpg', 1], ['22585.jpg', 4], ['21586.jpg', 1], ['23360.jpg', 1], ['23756.jpg', 4], ['24262.jpg', 0], ['21986.jpg', 2], ['21879.jpg', 2], ['22065.jpg', 1], ['21143.jpg', 5], ['21644.jpg', 1], ['20083.jpg', 0], ['22703.jpg', 1], ['20890.jpg', 4], ['21801.jpg', 0], ['21149.jpg', 2], ['22210.jpg', 0], ['22072.jpg', 4]]\n"
          ],
          "name": "stdout"
        }
      ]
    }
  ]
}